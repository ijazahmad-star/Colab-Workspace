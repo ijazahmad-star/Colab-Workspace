{
  "nbformat": 4,
  "nbformat_minor": 0,
  "metadata": {
    "colab": {
      "provenance": [],
      "authorship_tag": "ABX9TyPBmnI31p8AgxXkHYYjNhcj",
      "include_colab_link": true
    },
    "kernelspec": {
      "name": "python3",
      "display_name": "Python 3"
    },
    "language_info": {
      "name": "python"
    }
  },
  "cells": [
    {
      "cell_type": "markdown",
      "metadata": {
        "id": "view-in-github",
        "colab_type": "text"
      },
      "source": [
        "<a href=\"https://colab.research.google.com/github/ijazahmad-star/Colab-Workspace/blob/main/AI_Agent_Travel_Planner.ipynb\" target=\"_parent\"><img src=\"https://colab.research.google.com/assets/colab-badge.svg\" alt=\"Open In Colab\"/></a>"
      ]
    },
    {
      "cell_type": "code",
      "source": [
        "!pip install -U langchain-google-genai"
      ],
      "metadata": {
        "colab": {
          "base_uri": "https://localhost:8080/",
          "height": 1000
        },
        "id": "hqYHIZEZBQDK",
        "outputId": "784ef162-757b-49ad-fc74-e422b3a956a5",
        "collapsed": true
      },
      "execution_count": null,
      "outputs": [
        {
          "output_type": "stream",
          "name": "stdout",
          "text": [
            "Collecting langchain-google-genai\n",
            "  Downloading langchain_google_genai-2.1.12-py3-none-any.whl.metadata (7.1 kB)\n",
            "Requirement already satisfied: langchain-core>=0.3.75 in /usr/local/lib/python3.12/dist-packages (from langchain-google-genai) (0.3.78)\n",
            "Collecting google-ai-generativelanguage<1,>=0.7 (from langchain-google-genai)\n",
            "  Downloading google_ai_generativelanguage-0.7.0-py3-none-any.whl.metadata (10 kB)\n",
            "Requirement already satisfied: pydantic<3,>=2 in /usr/local/lib/python3.12/dist-packages (from langchain-google-genai) (2.11.10)\n",
            "Collecting filetype<2,>=1.2 (from langchain-google-genai)\n",
            "  Downloading filetype-1.2.0-py2.py3-none-any.whl.metadata (6.5 kB)\n",
            "Requirement already satisfied: google-api-core!=2.0.*,!=2.1.*,!=2.10.*,!=2.2.*,!=2.3.*,!=2.4.*,!=2.5.*,!=2.6.*,!=2.7.*,!=2.8.*,!=2.9.*,<3.0.0,>=1.34.1 in /usr/local/lib/python3.12/dist-packages (from google-api-core[grpc]!=2.0.*,!=2.1.*,!=2.10.*,!=2.2.*,!=2.3.*,!=2.4.*,!=2.5.*,!=2.6.*,!=2.7.*,!=2.8.*,!=2.9.*,<3.0.0,>=1.34.1->google-ai-generativelanguage<1,>=0.7->langchain-google-genai) (2.25.2)\n",
            "Requirement already satisfied: google-auth!=2.24.0,!=2.25.0,<3.0.0,>=2.14.1 in /usr/local/lib/python3.12/dist-packages (from google-ai-generativelanguage<1,>=0.7->langchain-google-genai) (2.38.0)\n",
            "Requirement already satisfied: proto-plus<2.0.0,>=1.22.3 in /usr/local/lib/python3.12/dist-packages (from google-ai-generativelanguage<1,>=0.7->langchain-google-genai) (1.26.1)\n",
            "Requirement already satisfied: protobuf!=4.21.0,!=4.21.1,!=4.21.2,!=4.21.3,!=4.21.4,!=4.21.5,<7.0.0,>=3.20.2 in /usr/local/lib/python3.12/dist-packages (from google-ai-generativelanguage<1,>=0.7->langchain-google-genai) (5.29.5)\n",
            "Requirement already satisfied: langsmith<1.0.0,>=0.3.45 in /usr/local/lib/python3.12/dist-packages (from langchain-core>=0.3.75->langchain-google-genai) (0.4.33)\n",
            "Requirement already satisfied: tenacity!=8.4.0,<10.0.0,>=8.1.0 in /usr/local/lib/python3.12/dist-packages (from langchain-core>=0.3.75->langchain-google-genai) (8.5.0)\n",
            "Requirement already satisfied: jsonpatch<2.0.0,>=1.33.0 in /usr/local/lib/python3.12/dist-packages (from langchain-core>=0.3.75->langchain-google-genai) (1.33)\n",
            "Requirement already satisfied: PyYAML<7.0.0,>=5.3.0 in /usr/local/lib/python3.12/dist-packages (from langchain-core>=0.3.75->langchain-google-genai) (6.0.3)\n",
            "Requirement already satisfied: typing-extensions<5.0.0,>=4.7.0 in /usr/local/lib/python3.12/dist-packages (from langchain-core>=0.3.75->langchain-google-genai) (4.15.0)\n",
            "Requirement already satisfied: packaging<26.0.0,>=23.2.0 in /usr/local/lib/python3.12/dist-packages (from langchain-core>=0.3.75->langchain-google-genai) (25.0)\n",
            "Requirement already satisfied: annotated-types>=0.6.0 in /usr/local/lib/python3.12/dist-packages (from pydantic<3,>=2->langchain-google-genai) (0.7.0)\n",
            "Requirement already satisfied: pydantic-core==2.33.2 in /usr/local/lib/python3.12/dist-packages (from pydantic<3,>=2->langchain-google-genai) (2.33.2)\n",
            "Requirement already satisfied: typing-inspection>=0.4.0 in /usr/local/lib/python3.12/dist-packages (from pydantic<3,>=2->langchain-google-genai) (0.4.2)\n",
            "Requirement already satisfied: googleapis-common-protos<2.0.0,>=1.56.2 in /usr/local/lib/python3.12/dist-packages (from google-api-core!=2.0.*,!=2.1.*,!=2.10.*,!=2.2.*,!=2.3.*,!=2.4.*,!=2.5.*,!=2.6.*,!=2.7.*,!=2.8.*,!=2.9.*,<3.0.0,>=1.34.1->google-api-core[grpc]!=2.0.*,!=2.1.*,!=2.10.*,!=2.2.*,!=2.3.*,!=2.4.*,!=2.5.*,!=2.6.*,!=2.7.*,!=2.8.*,!=2.9.*,<3.0.0,>=1.34.1->google-ai-generativelanguage<1,>=0.7->langchain-google-genai) (1.70.0)\n",
            "Requirement already satisfied: requests<3.0.0,>=2.18.0 in /usr/local/lib/python3.12/dist-packages (from google-api-core!=2.0.*,!=2.1.*,!=2.10.*,!=2.2.*,!=2.3.*,!=2.4.*,!=2.5.*,!=2.6.*,!=2.7.*,!=2.8.*,!=2.9.*,<3.0.0,>=1.34.1->google-api-core[grpc]!=2.0.*,!=2.1.*,!=2.10.*,!=2.2.*,!=2.3.*,!=2.4.*,!=2.5.*,!=2.6.*,!=2.7.*,!=2.8.*,!=2.9.*,<3.0.0,>=1.34.1->google-ai-generativelanguage<1,>=0.7->langchain-google-genai) (2.32.4)\n",
            "Requirement already satisfied: grpcio<2.0.0,>=1.33.2 in /usr/local/lib/python3.12/dist-packages (from google-api-core[grpc]!=2.0.*,!=2.1.*,!=2.10.*,!=2.2.*,!=2.3.*,!=2.4.*,!=2.5.*,!=2.6.*,!=2.7.*,!=2.8.*,!=2.9.*,<3.0.0,>=1.34.1->google-ai-generativelanguage<1,>=0.7->langchain-google-genai) (1.75.1)\n",
            "Requirement already satisfied: grpcio-status<2.0.0,>=1.33.2 in /usr/local/lib/python3.12/dist-packages (from google-api-core[grpc]!=2.0.*,!=2.1.*,!=2.10.*,!=2.2.*,!=2.3.*,!=2.4.*,!=2.5.*,!=2.6.*,!=2.7.*,!=2.8.*,!=2.9.*,<3.0.0,>=1.34.1->google-ai-generativelanguage<1,>=0.7->langchain-google-genai) (1.71.2)\n",
            "Requirement already satisfied: cachetools<6.0,>=2.0.0 in /usr/local/lib/python3.12/dist-packages (from google-auth!=2.24.0,!=2.25.0,<3.0.0,>=2.14.1->google-ai-generativelanguage<1,>=0.7->langchain-google-genai) (5.5.2)\n",
            "Requirement already satisfied: pyasn1-modules>=0.2.1 in /usr/local/lib/python3.12/dist-packages (from google-auth!=2.24.0,!=2.25.0,<3.0.0,>=2.14.1->google-ai-generativelanguage<1,>=0.7->langchain-google-genai) (0.4.2)\n",
            "Requirement already satisfied: rsa<5,>=3.1.4 in /usr/local/lib/python3.12/dist-packages (from google-auth!=2.24.0,!=2.25.0,<3.0.0,>=2.14.1->google-ai-generativelanguage<1,>=0.7->langchain-google-genai) (4.9.1)\n",
            "Requirement already satisfied: jsonpointer>=1.9 in /usr/local/lib/python3.12/dist-packages (from jsonpatch<2.0.0,>=1.33.0->langchain-core>=0.3.75->langchain-google-genai) (3.0.0)\n",
            "Requirement already satisfied: httpx<1,>=0.23.0 in /usr/local/lib/python3.12/dist-packages (from langsmith<1.0.0,>=0.3.45->langchain-core>=0.3.75->langchain-google-genai) (0.28.1)\n",
            "Requirement already satisfied: orjson>=3.9.14 in /usr/local/lib/python3.12/dist-packages (from langsmith<1.0.0,>=0.3.45->langchain-core>=0.3.75->langchain-google-genai) (3.11.3)\n",
            "Requirement already satisfied: requests-toolbelt>=1.0.0 in /usr/local/lib/python3.12/dist-packages (from langsmith<1.0.0,>=0.3.45->langchain-core>=0.3.75->langchain-google-genai) (1.0.0)\n",
            "Requirement already satisfied: zstandard>=0.23.0 in /usr/local/lib/python3.12/dist-packages (from langsmith<1.0.0,>=0.3.45->langchain-core>=0.3.75->langchain-google-genai) (0.25.0)\n",
            "Requirement already satisfied: anyio in /usr/local/lib/python3.12/dist-packages (from httpx<1,>=0.23.0->langsmith<1.0.0,>=0.3.45->langchain-core>=0.3.75->langchain-google-genai) (4.11.0)\n",
            "Requirement already satisfied: certifi in /usr/local/lib/python3.12/dist-packages (from httpx<1,>=0.23.0->langsmith<1.0.0,>=0.3.45->langchain-core>=0.3.75->langchain-google-genai) (2025.10.5)\n",
            "Requirement already satisfied: httpcore==1.* in /usr/local/lib/python3.12/dist-packages (from httpx<1,>=0.23.0->langsmith<1.0.0,>=0.3.45->langchain-core>=0.3.75->langchain-google-genai) (1.0.9)\n",
            "Requirement already satisfied: idna in /usr/local/lib/python3.12/dist-packages (from httpx<1,>=0.23.0->langsmith<1.0.0,>=0.3.45->langchain-core>=0.3.75->langchain-google-genai) (3.10)\n",
            "Requirement already satisfied: h11>=0.16 in /usr/local/lib/python3.12/dist-packages (from httpcore==1.*->httpx<1,>=0.23.0->langsmith<1.0.0,>=0.3.45->langchain-core>=0.3.75->langchain-google-genai) (0.16.0)\n",
            "Requirement already satisfied: pyasn1<0.7.0,>=0.6.1 in /usr/local/lib/python3.12/dist-packages (from pyasn1-modules>=0.2.1->google-auth!=2.24.0,!=2.25.0,<3.0.0,>=2.14.1->google-ai-generativelanguage<1,>=0.7->langchain-google-genai) (0.6.1)\n",
            "Requirement already satisfied: charset_normalizer<4,>=2 in /usr/local/lib/python3.12/dist-packages (from requests<3.0.0,>=2.18.0->google-api-core!=2.0.*,!=2.1.*,!=2.10.*,!=2.2.*,!=2.3.*,!=2.4.*,!=2.5.*,!=2.6.*,!=2.7.*,!=2.8.*,!=2.9.*,<3.0.0,>=1.34.1->google-api-core[grpc]!=2.0.*,!=2.1.*,!=2.10.*,!=2.2.*,!=2.3.*,!=2.4.*,!=2.5.*,!=2.6.*,!=2.7.*,!=2.8.*,!=2.9.*,<3.0.0,>=1.34.1->google-ai-generativelanguage<1,>=0.7->langchain-google-genai) (3.4.3)\n",
            "Requirement already satisfied: urllib3<3,>=1.21.1 in /usr/local/lib/python3.12/dist-packages (from requests<3.0.0,>=2.18.0->google-api-core!=2.0.*,!=2.1.*,!=2.10.*,!=2.2.*,!=2.3.*,!=2.4.*,!=2.5.*,!=2.6.*,!=2.7.*,!=2.8.*,!=2.9.*,<3.0.0,>=1.34.1->google-api-core[grpc]!=2.0.*,!=2.1.*,!=2.10.*,!=2.2.*,!=2.3.*,!=2.4.*,!=2.5.*,!=2.6.*,!=2.7.*,!=2.8.*,!=2.9.*,<3.0.0,>=1.34.1->google-ai-generativelanguage<1,>=0.7->langchain-google-genai) (2.5.0)\n",
            "Requirement already satisfied: sniffio>=1.1 in /usr/local/lib/python3.12/dist-packages (from anyio->httpx<1,>=0.23.0->langsmith<1.0.0,>=0.3.45->langchain-core>=0.3.75->langchain-google-genai) (1.3.1)\n",
            "Downloading langchain_google_genai-2.1.12-py3-none-any.whl (50 kB)\n",
            "\u001b[2K   \u001b[90m━━━━━━━━━━━━━━━━━━━━━━━━━━━━━━━━━━━━━━━━\u001b[0m \u001b[32m50.7/50.7 kB\u001b[0m \u001b[31m2.2 MB/s\u001b[0m eta \u001b[36m0:00:00\u001b[0m\n",
            "\u001b[?25hDownloading filetype-1.2.0-py2.py3-none-any.whl (19 kB)\n",
            "Downloading google_ai_generativelanguage-0.7.0-py3-none-any.whl (1.4 MB)\n",
            "\u001b[2K   \u001b[90m━━━━━━━━━━━━━━━━━━━━━━━━━━━━━━━━━━━━━━━━\u001b[0m \u001b[32m1.4/1.4 MB\u001b[0m \u001b[31m21.7 MB/s\u001b[0m eta \u001b[36m0:00:00\u001b[0m\n",
            "\u001b[?25hInstalling collected packages: filetype, google-ai-generativelanguage, langchain-google-genai\n",
            "  Attempting uninstall: google-ai-generativelanguage\n",
            "    Found existing installation: google-ai-generativelanguage 0.6.15\n",
            "    Uninstalling google-ai-generativelanguage-0.6.15:\n",
            "      Successfully uninstalled google-ai-generativelanguage-0.6.15\n",
            "\u001b[31mERROR: pip's dependency resolver does not currently take into account all the packages that are installed. This behaviour is the source of the following dependency conflicts.\n",
            "google-generativeai 0.8.5 requires google-ai-generativelanguage==0.6.15, but you have google-ai-generativelanguage 0.7.0 which is incompatible.\u001b[0m\u001b[31m\n",
            "\u001b[0mSuccessfully installed filetype-1.2.0 google-ai-generativelanguage-0.7.0 langchain-google-genai-2.1.12\n"
          ]
        },
        {
          "output_type": "display_data",
          "data": {
            "application/vnd.colab-display-data+json": {
              "pip_warning": {
                "packages": [
                  "google"
                ]
              },
              "id": "9db68fcd0094429f8a2cb301ba36d8a7"
            }
          },
          "metadata": {}
        }
      ]
    },
    {
      "cell_type": "code",
      "source": [
        "!pip install langchain_openai"
      ],
      "metadata": {
        "colab": {
          "base_uri": "https://localhost:8080/"
        },
        "id": "5I_FxpM_wn3G",
        "outputId": "28e2c3f4-2022-4e17-9cbc-55af8a9ae277"
      },
      "execution_count": null,
      "outputs": [
        {
          "output_type": "stream",
          "name": "stdout",
          "text": [
            "Collecting langchain_openai\n",
            "  Downloading langchain_openai-0.3.35-py3-none-any.whl.metadata (2.4 kB)\n",
            "Requirement already satisfied: langchain-core<1.0.0,>=0.3.78 in /usr/local/lib/python3.12/dist-packages (from langchain_openai) (0.3.78)\n",
            "Requirement already satisfied: openai<3.0.0,>=1.104.2 in /usr/local/lib/python3.12/dist-packages (from langchain_openai) (1.109.1)\n",
            "Requirement already satisfied: tiktoken<1.0.0,>=0.7.0 in /usr/local/lib/python3.12/dist-packages (from langchain_openai) (0.12.0)\n",
            "Requirement already satisfied: langsmith<1.0.0,>=0.3.45 in /usr/local/lib/python3.12/dist-packages (from langchain-core<1.0.0,>=0.3.78->langchain_openai) (0.4.33)\n",
            "Requirement already satisfied: tenacity!=8.4.0,<10.0.0,>=8.1.0 in /usr/local/lib/python3.12/dist-packages (from langchain-core<1.0.0,>=0.3.78->langchain_openai) (8.5.0)\n",
            "Requirement already satisfied: jsonpatch<2.0.0,>=1.33.0 in /usr/local/lib/python3.12/dist-packages (from langchain-core<1.0.0,>=0.3.78->langchain_openai) (1.33)\n",
            "Requirement already satisfied: PyYAML<7.0.0,>=5.3.0 in /usr/local/lib/python3.12/dist-packages (from langchain-core<1.0.0,>=0.3.78->langchain_openai) (6.0.3)\n",
            "Requirement already satisfied: typing-extensions<5.0.0,>=4.7.0 in /usr/local/lib/python3.12/dist-packages (from langchain-core<1.0.0,>=0.3.78->langchain_openai) (4.15.0)\n",
            "Requirement already satisfied: packaging<26.0.0,>=23.2.0 in /usr/local/lib/python3.12/dist-packages (from langchain-core<1.0.0,>=0.3.78->langchain_openai) (25.0)\n",
            "Requirement already satisfied: pydantic<3.0.0,>=2.7.4 in /usr/local/lib/python3.12/dist-packages (from langchain-core<1.0.0,>=0.3.78->langchain_openai) (2.11.10)\n",
            "Requirement already satisfied: anyio<5,>=3.5.0 in /usr/local/lib/python3.12/dist-packages (from openai<3.0.0,>=1.104.2->langchain_openai) (4.11.0)\n",
            "Requirement already satisfied: distro<2,>=1.7.0 in /usr/local/lib/python3.12/dist-packages (from openai<3.0.0,>=1.104.2->langchain_openai) (1.9.0)\n",
            "Requirement already satisfied: httpx<1,>=0.23.0 in /usr/local/lib/python3.12/dist-packages (from openai<3.0.0,>=1.104.2->langchain_openai) (0.28.1)\n",
            "Requirement already satisfied: jiter<1,>=0.4.0 in /usr/local/lib/python3.12/dist-packages (from openai<3.0.0,>=1.104.2->langchain_openai) (0.11.0)\n",
            "Requirement already satisfied: sniffio in /usr/local/lib/python3.12/dist-packages (from openai<3.0.0,>=1.104.2->langchain_openai) (1.3.1)\n",
            "Requirement already satisfied: tqdm>4 in /usr/local/lib/python3.12/dist-packages (from openai<3.0.0,>=1.104.2->langchain_openai) (4.67.1)\n",
            "Requirement already satisfied: regex>=2022.1.18 in /usr/local/lib/python3.12/dist-packages (from tiktoken<1.0.0,>=0.7.0->langchain_openai) (2024.11.6)\n",
            "Requirement already satisfied: requests>=2.26.0 in /usr/local/lib/python3.12/dist-packages (from tiktoken<1.0.0,>=0.7.0->langchain_openai) (2.32.4)\n",
            "Requirement already satisfied: idna>=2.8 in /usr/local/lib/python3.12/dist-packages (from anyio<5,>=3.5.0->openai<3.0.0,>=1.104.2->langchain_openai) (3.10)\n",
            "Requirement already satisfied: certifi in /usr/local/lib/python3.12/dist-packages (from httpx<1,>=0.23.0->openai<3.0.0,>=1.104.2->langchain_openai) (2025.10.5)\n",
            "Requirement already satisfied: httpcore==1.* in /usr/local/lib/python3.12/dist-packages (from httpx<1,>=0.23.0->openai<3.0.0,>=1.104.2->langchain_openai) (1.0.9)\n",
            "Requirement already satisfied: h11>=0.16 in /usr/local/lib/python3.12/dist-packages (from httpcore==1.*->httpx<1,>=0.23.0->openai<3.0.0,>=1.104.2->langchain_openai) (0.16.0)\n",
            "Requirement already satisfied: jsonpointer>=1.9 in /usr/local/lib/python3.12/dist-packages (from jsonpatch<2.0.0,>=1.33.0->langchain-core<1.0.0,>=0.3.78->langchain_openai) (3.0.0)\n",
            "Requirement already satisfied: orjson>=3.9.14 in /usr/local/lib/python3.12/dist-packages (from langsmith<1.0.0,>=0.3.45->langchain-core<1.0.0,>=0.3.78->langchain_openai) (3.11.3)\n",
            "Requirement already satisfied: requests-toolbelt>=1.0.0 in /usr/local/lib/python3.12/dist-packages (from langsmith<1.0.0,>=0.3.45->langchain-core<1.0.0,>=0.3.78->langchain_openai) (1.0.0)\n",
            "Requirement already satisfied: zstandard>=0.23.0 in /usr/local/lib/python3.12/dist-packages (from langsmith<1.0.0,>=0.3.45->langchain-core<1.0.0,>=0.3.78->langchain_openai) (0.25.0)\n",
            "Requirement already satisfied: annotated-types>=0.6.0 in /usr/local/lib/python3.12/dist-packages (from pydantic<3.0.0,>=2.7.4->langchain-core<1.0.0,>=0.3.78->langchain_openai) (0.7.0)\n",
            "Requirement already satisfied: pydantic-core==2.33.2 in /usr/local/lib/python3.12/dist-packages (from pydantic<3.0.0,>=2.7.4->langchain-core<1.0.0,>=0.3.78->langchain_openai) (2.33.2)\n",
            "Requirement already satisfied: typing-inspection>=0.4.0 in /usr/local/lib/python3.12/dist-packages (from pydantic<3.0.0,>=2.7.4->langchain-core<1.0.0,>=0.3.78->langchain_openai) (0.4.2)\n",
            "Requirement already satisfied: charset_normalizer<4,>=2 in /usr/local/lib/python3.12/dist-packages (from requests>=2.26.0->tiktoken<1.0.0,>=0.7.0->langchain_openai) (3.4.3)\n",
            "Requirement already satisfied: urllib3<3,>=1.21.1 in /usr/local/lib/python3.12/dist-packages (from requests>=2.26.0->tiktoken<1.0.0,>=0.7.0->langchain_openai) (2.5.0)\n",
            "Downloading langchain_openai-0.3.35-py3-none-any.whl (75 kB)\n",
            "\u001b[2K   \u001b[90m━━━━━━━━━━━━━━━━━━━━━━━━━━━━━━━━━━━━━━━━\u001b[0m \u001b[32m76.0/76.0 kB\u001b[0m \u001b[31m1.6 MB/s\u001b[0m eta \u001b[36m0:00:00\u001b[0m\n",
            "\u001b[?25hInstalling collected packages: langchain_openai\n",
            "Successfully installed langchain_openai-0.3.35\n"
          ]
        }
      ]
    },
    {
      "cell_type": "code",
      "source": [
        "!pip install langgraph"
      ],
      "metadata": {
        "colab": {
          "base_uri": "https://localhost:8080/"
        },
        "id": "z5GppcT0tohi",
        "outputId": "fcc4526a-5a55-425f-fa68-3af9f560c4cc"
      },
      "execution_count": null,
      "outputs": [
        {
          "output_type": "stream",
          "name": "stdout",
          "text": [
            "Collecting langgraph\n",
            "  Downloading langgraph-0.6.10-py3-none-any.whl.metadata (6.8 kB)\n",
            "Requirement already satisfied: langchain-core>=0.1 in /usr/local/lib/python3.12/dist-packages (from langgraph) (0.3.78)\n",
            "Collecting langgraph-checkpoint<3.0.0,>=2.1.0 (from langgraph)\n",
            "  Downloading langgraph_checkpoint-2.1.2-py3-none-any.whl.metadata (4.2 kB)\n",
            "Collecting langgraph-prebuilt<0.7.0,>=0.6.0 (from langgraph)\n",
            "  Downloading langgraph_prebuilt-0.6.4-py3-none-any.whl.metadata (4.5 kB)\n",
            "Collecting langgraph-sdk<0.3.0,>=0.2.2 (from langgraph)\n",
            "  Downloading langgraph_sdk-0.2.9-py3-none-any.whl.metadata (1.5 kB)\n",
            "Requirement already satisfied: pydantic>=2.7.4 in /usr/local/lib/python3.12/dist-packages (from langgraph) (2.11.10)\n",
            "Requirement already satisfied: xxhash>=3.5.0 in /usr/local/lib/python3.12/dist-packages (from langgraph) (3.6.0)\n",
            "Requirement already satisfied: langsmith<1.0.0,>=0.3.45 in /usr/local/lib/python3.12/dist-packages (from langchain-core>=0.1->langgraph) (0.4.33)\n",
            "Requirement already satisfied: tenacity!=8.4.0,<10.0.0,>=8.1.0 in /usr/local/lib/python3.12/dist-packages (from langchain-core>=0.1->langgraph) (8.5.0)\n",
            "Requirement already satisfied: jsonpatch<2.0.0,>=1.33.0 in /usr/local/lib/python3.12/dist-packages (from langchain-core>=0.1->langgraph) (1.33)\n",
            "Requirement already satisfied: PyYAML<7.0.0,>=5.3.0 in /usr/local/lib/python3.12/dist-packages (from langchain-core>=0.1->langgraph) (6.0.3)\n",
            "Requirement already satisfied: typing-extensions<5.0.0,>=4.7.0 in /usr/local/lib/python3.12/dist-packages (from langchain-core>=0.1->langgraph) (4.15.0)\n",
            "Requirement already satisfied: packaging<26.0.0,>=23.2.0 in /usr/local/lib/python3.12/dist-packages (from langchain-core>=0.1->langgraph) (25.0)\n",
            "Collecting ormsgpack>=1.10.0 (from langgraph-checkpoint<3.0.0,>=2.1.0->langgraph)\n",
            "  Downloading ormsgpack-1.11.0-cp312-cp312-manylinux_2_17_x86_64.manylinux2014_x86_64.whl.metadata (1.2 kB)\n",
            "Requirement already satisfied: httpx>=0.25.2 in /usr/local/lib/python3.12/dist-packages (from langgraph-sdk<0.3.0,>=0.2.2->langgraph) (0.28.1)\n",
            "Requirement already satisfied: orjson>=3.10.1 in /usr/local/lib/python3.12/dist-packages (from langgraph-sdk<0.3.0,>=0.2.2->langgraph) (3.11.3)\n",
            "Requirement already satisfied: annotated-types>=0.6.0 in /usr/local/lib/python3.12/dist-packages (from pydantic>=2.7.4->langgraph) (0.7.0)\n",
            "Requirement already satisfied: pydantic-core==2.33.2 in /usr/local/lib/python3.12/dist-packages (from pydantic>=2.7.4->langgraph) (2.33.2)\n",
            "Requirement already satisfied: typing-inspection>=0.4.0 in /usr/local/lib/python3.12/dist-packages (from pydantic>=2.7.4->langgraph) (0.4.2)\n",
            "Requirement already satisfied: anyio in /usr/local/lib/python3.12/dist-packages (from httpx>=0.25.2->langgraph-sdk<0.3.0,>=0.2.2->langgraph) (4.11.0)\n",
            "Requirement already satisfied: certifi in /usr/local/lib/python3.12/dist-packages (from httpx>=0.25.2->langgraph-sdk<0.3.0,>=0.2.2->langgraph) (2025.10.5)\n",
            "Requirement already satisfied: httpcore==1.* in /usr/local/lib/python3.12/dist-packages (from httpx>=0.25.2->langgraph-sdk<0.3.0,>=0.2.2->langgraph) (1.0.9)\n",
            "Requirement already satisfied: idna in /usr/local/lib/python3.12/dist-packages (from httpx>=0.25.2->langgraph-sdk<0.3.0,>=0.2.2->langgraph) (3.10)\n",
            "Requirement already satisfied: h11>=0.16 in /usr/local/lib/python3.12/dist-packages (from httpcore==1.*->httpx>=0.25.2->langgraph-sdk<0.3.0,>=0.2.2->langgraph) (0.16.0)\n",
            "Requirement already satisfied: jsonpointer>=1.9 in /usr/local/lib/python3.12/dist-packages (from jsonpatch<2.0.0,>=1.33.0->langchain-core>=0.1->langgraph) (3.0.0)\n",
            "Requirement already satisfied: requests-toolbelt>=1.0.0 in /usr/local/lib/python3.12/dist-packages (from langsmith<1.0.0,>=0.3.45->langchain-core>=0.1->langgraph) (1.0.0)\n",
            "Requirement already satisfied: requests>=2.0.0 in /usr/local/lib/python3.12/dist-packages (from langsmith<1.0.0,>=0.3.45->langchain-core>=0.1->langgraph) (2.32.4)\n",
            "Requirement already satisfied: zstandard>=0.23.0 in /usr/local/lib/python3.12/dist-packages (from langsmith<1.0.0,>=0.3.45->langchain-core>=0.1->langgraph) (0.25.0)\n",
            "Requirement already satisfied: charset_normalizer<4,>=2 in /usr/local/lib/python3.12/dist-packages (from requests>=2.0.0->langsmith<1.0.0,>=0.3.45->langchain-core>=0.1->langgraph) (3.4.3)\n",
            "Requirement already satisfied: urllib3<3,>=1.21.1 in /usr/local/lib/python3.12/dist-packages (from requests>=2.0.0->langsmith<1.0.0,>=0.3.45->langchain-core>=0.1->langgraph) (2.5.0)\n",
            "Requirement already satisfied: sniffio>=1.1 in /usr/local/lib/python3.12/dist-packages (from anyio->httpx>=0.25.2->langgraph-sdk<0.3.0,>=0.2.2->langgraph) (1.3.1)\n",
            "Downloading langgraph-0.6.10-py3-none-any.whl (155 kB)\n",
            "\u001b[2K   \u001b[90m━━━━━━━━━━━━━━━━━━━━━━━━━━━━━━━━━━━━━━━━\u001b[0m \u001b[32m155.4/155.4 kB\u001b[0m \u001b[31m4.1 MB/s\u001b[0m eta \u001b[36m0:00:00\u001b[0m\n",
            "\u001b[?25hDownloading langgraph_checkpoint-2.1.2-py3-none-any.whl (45 kB)\n",
            "\u001b[2K   \u001b[90m━━━━━━━━━━━━━━━━━━━━━━━━━━━━━━━━━━━━━━━━\u001b[0m \u001b[32m45.8/45.8 kB\u001b[0m \u001b[31m2.9 MB/s\u001b[0m eta \u001b[36m0:00:00\u001b[0m\n",
            "\u001b[?25hDownloading langgraph_prebuilt-0.6.4-py3-none-any.whl (28 kB)\n",
            "Downloading langgraph_sdk-0.2.9-py3-none-any.whl (56 kB)\n",
            "\u001b[2K   \u001b[90m━━━━━━━━━━━━━━━━━━━━━━━━━━━━━━━━━━━━━━━━\u001b[0m \u001b[32m56.8/56.8 kB\u001b[0m \u001b[31m4.0 MB/s\u001b[0m eta \u001b[36m0:00:00\u001b[0m\n",
            "\u001b[?25hDownloading ormsgpack-1.11.0-cp312-cp312-manylinux_2_17_x86_64.manylinux2014_x86_64.whl (207 kB)\n",
            "\u001b[2K   \u001b[90m━━━━━━━━━━━━━━━━━━━━━━━━━━━━━━━━━━━━━━━━\u001b[0m \u001b[32m207.6/207.6 kB\u001b[0m \u001b[31m10.6 MB/s\u001b[0m eta \u001b[36m0:00:00\u001b[0m\n",
            "\u001b[?25hInstalling collected packages: ormsgpack, langgraph-sdk, langgraph-checkpoint, langgraph-prebuilt, langgraph\n",
            "Successfully installed langgraph-0.6.10 langgraph-checkpoint-2.1.2 langgraph-prebuilt-0.6.4 langgraph-sdk-0.2.9 ormsgpack-1.11.0\n"
          ]
        }
      ]
    },
    {
      "cell_type": "code",
      "source": [
        "from langgraph.checkpoint.memory import InMemorySaver\n",
        "\n",
        "checkpointer = InMemorySaver()"
      ],
      "metadata": {
        "id": "b3-JcHSptkJ1"
      },
      "execution_count": null,
      "outputs": []
    },
    {
      "cell_type": "code",
      "source": [
        "import requests\n",
        "from pydantic import BaseModel, Field\n",
        "from typing import List\n",
        "from langchain.agents import initialize_agent\n",
        "from langchain.chat_models import init_chat_model\n",
        "from langchain.memory import ConversationBufferMemory\n",
        "from langchain.tools import StructuredTool\n",
        "from langchain.agents.agent_types import AgentType\n",
        "\n",
        "from langchain.tools import tool\n",
        "from langchain.schema import SystemMessage\n",
        "\n",
        "\n",
        "import http.client\n",
        "import json"
      ],
      "metadata": {
        "id": "12UQAHd1wa2L"
      },
      "execution_count": null,
      "outputs": []
    },
    {
      "cell_type": "code",
      "source": [
        "from dotenv import load_dotenv\n",
        "import os\n",
        "load_dotenv()\n",
        "\n",
        "# api_key = os.getenv(\"GOOGLE_API_KEY\")\n",
        "# rapid_key = os.getenv(\"RAPID_API_KEY\")\n",
        "# rapid_host = os.getenv(\"RAPID_HOST\")\n",
        "\n",
        "from google.colab import userdata\n",
        "\n",
        "api_key = userdata.get('GOOGLE_API_KEY')\n",
        "# openai_api_key = userdata.get('OPENAI_API_KEY')\n",
        "rapid_key = userdata.get('RAPID_API_KEY')\n",
        "rapid_host = userdata.get('RAPID_HOST')"
      ],
      "metadata": {
        "id": "OG50jWGOBQA-"
      },
      "execution_count": null,
      "outputs": []
    },
    {
      "cell_type": "code",
      "source": [
        "flights_data = [\n",
        "    # --- Domestic Flights (Pakistan) ---\n",
        "    {\"flight_no\": \"PK301\", \"origin\": \"LHE\", \"destination\": \"KHI\", \"date\": \"2025-10-20\", \"price\": 15000, \"airline\": \"PIA\"},\n",
        "    {\"flight_no\": \"PK306\", \"origin\": \"ISB\", \"destination\": \"LHE\", \"date\": \"2025-10-21\", \"price\": 12000, \"airline\": \"PIA\"},\n",
        "    {\"flight_no\": \"PK372\", \"origin\": \"KHI\", \"destination\": \"PEW\", \"date\": \"2025-10-22\", \"price\": 16500, \"airline\": \"AirSial\"},\n",
        "    {\"flight_no\": \"ER542\", \"origin\": \"MUX\", \"destination\": \"KHI\", \"date\": \"2025-10-23\", \"price\": 14500, \"airline\": \"Serene Air\"},\n",
        "    {\"flight_no\": \"PA201\", \"origin\": \"ISB\", \"destination\": \"SKZ\", \"date\": \"2025-10-24\", \"price\": 13000, \"airline\": \"Airblue\"},\n",
        "    {\"flight_no\": \"NL122\", \"origin\": \"KHI\", \"destination\": \"LHE\", \"date\": \"2025-10-25\", \"price\": 15500, \"airline\": \"AirSial\"},\n",
        "    {\"flight_no\": \"PK607\", \"origin\": \"LHE\", \"destination\": \"PEW\", \"date\": \"2025-10-26\", \"price\": 14000, \"airline\": \"PIA\"},\n",
        "    {\"flight_no\": \"PK350\", \"origin\": \"PEW\", \"destination\": \"KHI\", \"date\": \"2025-10-27\", \"price\": 16000, \"airline\": \"PIA\"},\n",
        "    {\"flight_no\": \"PA214\", \"origin\": \"SKZ\", \"destination\": \"ISB\", \"date\": \"2025-10-28\", \"price\": 12500, \"airline\": \"Airblue\"},\n",
        "    {\"flight_no\": \"ER543\", \"origin\": \"KHI\", \"destination\": \"MUX\", \"date\": \"2025-10-29\", \"price\": 14800, \"airline\": \"Serene Air\"},\n",
        "    {\"flight_no\": \"NL123\", \"origin\": \"LHE\", \"destination\": \"ISB\", \"date\": \"2025-10-30\", \"price\": 11000, \"airline\": \"AirSial\"},\n",
        "    {\"flight_no\": \"PK303\", \"origin\": \"KHI\", \"destination\": \"LHE\", \"date\": \"2025-10-31\", \"price\": 15200, \"airline\": \"PIA\"},\n",
        "\n",
        "    # --- International Flights (From Pakistan) ---\n",
        "    {\"flight_no\": \"EK622\", \"origin\": \"LHE\", \"destination\": \"DXB\", \"date\": \"2025-10-20\", \"price\": 95000, \"airline\": \"Emirates\"},\n",
        "    {\"flight_no\": \"QR621\", \"origin\": \"LHE\", \"destination\": \"DOH\", \"date\": \"2025-10-21\", \"price\": 78000, \"airline\": \"Qatar Airways\"},\n",
        "    {\"flight_no\": \"SV705\", \"origin\": \"KHI\", \"destination\": \"JED\", \"date\": \"2025-10-22\", \"price\": 82000, \"airline\": \"Saudia\"},\n",
        "    {\"flight_no\": \"EY242\", \"origin\": \"ISB\", \"destination\": \"AUH\", \"date\": \"2025-10-23\", \"price\": 85000, \"airline\": \"Etihad\"},\n",
        "    {\"flight_no\": \"TK715\", \"origin\": \"LHE\", \"destination\": \"IST\", \"date\": \"2025-10-24\", \"price\": 99000, \"airline\": \"Turkish Airlines\"},\n",
        "    {\"flight_no\": \"BA260\", \"origin\": \"ISB\", \"destination\": \"LHR\", \"date\": \"2025-10-25\", \"price\": 210000, \"airline\": \"British Airways\"},\n",
        "    {\"flight_no\": \"EK601\", \"origin\": \"KHI\", \"destination\": \"DXB\", \"date\": \"2025-10-26\", \"price\": 88000, \"airline\": \"Emirates\"},\n",
        "    {\"flight_no\": \"QR610\", \"origin\": \"ISB\", \"destination\": \"DOH\", \"date\": \"2025-10-27\", \"price\": 76000, \"airline\": \"Qatar Airways\"},\n",
        "    {\"flight_no\": \"SV723\", \"origin\": \"MUX\", \"destination\": \"JED\", \"date\": \"2025-10-28\", \"price\": 87000, \"airline\": \"Saudia\"},\n",
        "    {\"flight_no\": \"WY324\", \"origin\": \"LHE\", \"destination\": \"MCT\", \"date\": \"2025-10-29\", \"price\": 74000, \"airline\": \"Oman Air\"},\n",
        "    {\"flight_no\": \"GF765\", \"origin\": \"KHI\", \"destination\": \"BAH\", \"date\": \"2025-10-30\", \"price\": 70000, \"airline\": \"Gulf Air\"},\n",
        "    {\"flight_no\": \"EK625\", \"origin\": \"ISB\", \"destination\": \"DXB\", \"date\": \"2025-10-31\", \"price\": 94000, \"airline\": \"Emirates\"},\n",
        "    {\"flight_no\": \"QR633\", \"origin\": \"PEW\", \"destination\": \"DOH\", \"date\": \"2025-11-01\", \"price\": 77000, \"airline\": \"Qatar Airways\"},\n",
        "\n",
        "    # --- Return Flights (To Pakistan) ---\n",
        "    {\"flight_no\": \"EK623\", \"origin\": \"DXB\", \"destination\": \"LHE\", \"date\": \"2025-11-05\", \"price\": 97000, \"airline\": \"Emirates\"},\n",
        "    {\"flight_no\": \"QR622\", \"origin\": \"DOH\", \"destination\": \"LHE\", \"date\": \"2025-11-06\", \"price\": 80000, \"airline\": \"Qatar Airways\"},\n",
        "    {\"flight_no\": \"SV706\", \"origin\": \"JED\", \"destination\": \"KHI\", \"date\": \"2025-11-07\", \"price\": 83000, \"airline\": \"Saudia\"},\n",
        "    {\"flight_no\": \"EY243\", \"origin\": \"AUH\", \"destination\": \"ISB\", \"date\": \"2025-11-08\", \"price\": 86000, \"airline\": \"Etihad\"},\n",
        "    {\"flight_no\": \"TK716\", \"origin\": \"IST\", \"destination\": \"LHE\", \"date\": \"2025-11-09\", \"price\": 97000, \"airline\": \"Turkish Airlines\"},\n",
        "    {\"flight_no\": \"BA261\", \"origin\": \"LHR\", \"destination\": \"ISB\", \"date\": \"2025-11-10\", \"price\": 205000, \"airline\": \"British Airways\"},\n",
        "    {\"flight_no\": \"EK602\", \"origin\": \"DXB\", \"destination\": \"KHI\", \"date\": \"2025-11-11\", \"price\": 89000, \"airline\": \"Emirates\"},\n",
        "    {\"flight_no\": \"QR611\", \"origin\": \"DOH\", \"destination\": \"ISB\", \"date\": \"2025-11-12\", \"price\": 75000, \"airline\": \"Qatar Airways\"},\n",
        "    {\"flight_no\": \"SV724\", \"origin\": \"JED\", \"destination\": \"MUX\", \"date\": \"2025-11-13\", \"price\": 88000, \"airline\": \"Saudia\"},\n",
        "    {\"flight_no\": \"WY325\", \"origin\": \"MCT\", \"destination\": \"LHE\", \"date\": \"2025-11-14\", \"price\": 76000, \"airline\": \"Oman Air\"},\n",
        "    {\"flight_no\": \"GF766\", \"origin\": \"BAH\", \"destination\": \"KHI\", \"date\": \"2025-11-15\", \"price\": 72000, \"airline\": \"Gulf Air\"},\n",
        "\n",
        "    # --- International Flights (Abroad to Abroad) ---\n",
        "    {\"flight_no\": \"EK212\", \"origin\": \"IAH\", \"destination\": \"DXB\", \"date\": \"2025-11-16\", \"price\": 320000, \"airline\": \"Emirates\"},\n",
        "    {\"flight_no\": \"QR706\", \"origin\": \"JFK\", \"destination\": \"DOH\", \"date\": \"2025-11-17\", \"price\": 295000, \"airline\": \"Qatar Airways\"},\n",
        "    {\"flight_no\": \"BA150\", \"origin\": \"LHR\", \"destination\": \"CDG\", \"date\": \"2025-11-18\", \"price\": 55000, \"airline\": \"British Airways\"},\n",
        "    {\"flight_no\": \"LH457\", \"origin\": \"LAX\", \"destination\": \"FRA\", \"date\": \"2025-11-19\", \"price\": 310000, \"airline\": \"Lufthansa\"},\n",
        "    {\"flight_no\": \"AF218\", \"origin\": \"CDG\", \"destination\": \"DEL\", \"date\": \"2025-11-20\", \"price\": 180000, \"airline\": \"Air France\"},\n",
        "    {\"flight_no\": \"SQ323\", \"origin\": \"AMS\", \"destination\": \"SIN\", \"date\": \"2025-11-21\", \"price\": 250000, \"airline\": \"Singapore Airlines\"},\n",
        "    {\"flight_no\": \"CX251\", \"origin\": \"HKG\", \"destination\": \"LHR\", \"date\": \"2025-11-22\", \"price\": 270000, \"airline\": \"Cathay Pacific\"},\n",
        "    {\"flight_no\": \"QR912\", \"origin\": \"SYD\", \"destination\": \"DOH\", \"date\": \"2025-11-23\", \"price\": 315000, \"airline\": \"Qatar Airways\"},\n",
        "    {\"flight_no\": \"EK416\", \"origin\": \"DXB\", \"destination\": \"SYD\", \"date\": \"2025-11-24\", \"price\": 330000, \"airline\": \"Emirates\"},\n",
        "    {\"flight_no\": \"LH779\", \"origin\": \"SIN\", \"destination\": \"FRA\", \"date\": \"2025-11-25\", \"price\": 295000, \"airline\": \"Lufthansa\"},\n",
        "    {\"flight_no\": \"TK1976\", \"origin\": \"LHR\", \"destination\": \"IST\", \"date\": \"2025-11-26\", \"price\": 65000, \"airline\": \"Turkish Airlines\"},\n",
        "    {\"flight_no\": \"AF565\", \"origin\": \"NBO\", \"destination\": \"CDG\", \"date\": \"2025-11-27\", \"price\": 210000, \"airline\": \"Air France\"},\n",
        "    {\"flight_no\": \"BA284\", \"origin\": \"SFO\", \"destination\": \"LHR\", \"date\": \"2025-11-28\", \"price\": 290000, \"airline\": \"British Airways\"},\n",
        "    {\"flight_no\": \"QR728\", \"origin\": \"ORD\", \"destination\": \"DOH\", \"date\": \"2025-11-29\", \"price\": 305000, \"airline\": \"Qatar Airways\"},\n",
        "]"
      ],
      "metadata": {
        "id": "lrVDdQ0qBP-k"
      },
      "execution_count": null,
      "outputs": []
    },
    {
      "cell_type": "code",
      "source": [
        "class FlightSearchInput(BaseModel):\n",
        "    origin: str = Field(..., description=\"Origin airport code\")\n",
        "    destination: str = Field(..., description=\"Destination airport code\")\n",
        "    date: str = Field(..., description=\"Flight date in YYYY-MM-DD format\")\n",
        "\n",
        "class WeatherInput(BaseModel):\n",
        "    location: str = Field(..., description=\"City or region name for weather forecast\")\n",
        "\n",
        "class PoiInput(BaseModel):\n",
        "    location: str = Field(..., description=\"City or region name for points of interest\")\n",
        "\n",
        "class HotelInput(BaseModel):\n",
        "    location: str = Field(..., description=\"City or region name for hotel search\")\n",
        "\n",
        "@tool(args_schema=HotelInput)\n",
        "def get_hotel_tool(location: str):\n",
        "    \"\"\"\n",
        "    Get Hotels (name + lat/lon) for a given city.\n",
        "    \"\"\"\n",
        "    limit = 10\n",
        "    try:\n",
        "        # Step 1: Search for tourist attractions in the city\n",
        "        search_query = f\"Hotels available in {location}\"\n",
        "        search_url = \"https://en.wikipedia.org/w/api.php\"\n",
        "        search_params = {\n",
        "            \"action\": \"query\",\n",
        "            \"list\": \"search\",\n",
        "            \"srsearch\": search_query,\n",
        "            \"format\": \"json\",\n",
        "            \"utf8\": 1,\n",
        "            \"srlimit\": limit\n",
        "        }\n",
        "\n",
        "        search_resp = requests.get(search_url, params=search_params, headers={\"User-Agent\": \"vacation-agent\"})\n",
        "        search_data = search_resp.json()\n",
        "\n",
        "        if \"query\" not in search_data or not search_data[\"query\"][\"search\"]:\n",
        "            return {\"error\": f\"No Hotels found for {location}\"}\n",
        "\n",
        "        # Extract page IDs to fetch coordinates\n",
        "        page_ids = [str(p[\"pageid\"]) for p in search_data[\"query\"][\"search\"]]\n",
        "\n",
        "        # Step 2: Fetch coordinates for all found pages\n",
        "        coord_url = \"https://en.wikipedia.org/w/api.php\"\n",
        "        coord_params = {\n",
        "            \"action\": \"query\",\n",
        "            \"pageids\": \"|\".join(page_ids),\n",
        "            \"prop\": \"coordinates\",\n",
        "            \"format\": \"json\"\n",
        "        }\n",
        "\n",
        "        coord_resp = requests.get(coord_url, params=coord_params, headers={\"User-Agent\": \"vacation-agent\"})\n",
        "        coord_data = coord_resp.json()\n",
        "\n",
        "        # Step 3: Collect results\n",
        "        results = []\n",
        "        pages = coord_data.get(\"query\", {}).get(\"pages\", {})\n",
        "\n",
        "        for page in pages.values():\n",
        "            title = page.get(\"title\")\n",
        "            coords = page.get(\"coordinates\", [])\n",
        "            if coords:\n",
        "                lat = coords[0].get(\"lat\")\n",
        "                lon = coords[0].get(\"lon\")\n",
        "                results.append({\n",
        "                    \"name\": title,\n",
        "                    \"latitude\": lat,\n",
        "                    \"longitude\": lon\n",
        "                })\n",
        "\n",
        "        return {\"city\": location, \"locations\": results}\n",
        "\n",
        "    except Exception as e:\n",
        "        return {\"error\": str(e)}\n",
        "\n",
        "@tool(args_schema=PoiInput)\n",
        "def get_poi_tool(location: str):\n",
        "\n",
        "    \"\"\" Get details about Poi. \"\"\"\n",
        "\n",
        "    conn = http.client.HTTPSConnection(\"opentripmap-places-v1.p.rapidapi.com\")\n",
        "\n",
        "    headers = {\n",
        "        'x-rapidapi-key': rapid_key,\n",
        "        'x-rapidapi-host': rapid_host\n",
        "    }\n",
        "\n",
        "\n",
        "    conn.request(\"GET\", f\"/en/places/geoname?name={location}\", headers=headers)\n",
        "    res = conn.getresponse()\n",
        "    geo_data = json.loads(res.read().decode(\"utf-8\"))\n",
        "\n",
        "    lat = geo_data[\"lat\"]\n",
        "    lon = geo_data[\"lon\"]\n",
        "\n",
        "    radius = 25000\n",
        "    conn.request(\"GET\", f\"/en/places/radius?radius={radius}&lon={lon}&lat={lat}&rate=3&format=json\", headers=headers)\n",
        "    res = conn.getresponse()\n",
        "    poi_data = json.loads(res.read().decode(\"utf-8\"))\n",
        "\n",
        "    # Step 3: Print names of places\n",
        "    places = []\n",
        "\n",
        "    for i, place in enumerate(poi_data[:5], start=1):\n",
        "        places.append(place[\"name\"])\n",
        "    if places:\n",
        "        return places\n",
        "    else:\n",
        "        return [{\"message\": \"No POI found\"}]\n",
        "@tool(args_schema=FlightSearchInput)\n",
        "def search_flights_tool(origin: str, destination: str, date: str):\n",
        "    \"\"\" Search flights manually from predefined data. \"\"\"\n",
        "    matches = [\n",
        "        f for f in flights_data\n",
        "        if f[\"origin\"].lower() == origin.lower()\n",
        "        and f[\"destination\"].lower() == destination.lower()\n",
        "        and f[\"date\"] == date.lower()\n",
        "    ]\n",
        "    if matches:\n",
        "        return matches\n",
        "    else:\n",
        "        return [{\"message\": \"No flights found\"}]\n",
        "\n",
        "@tool(args_schema=WeatherInput)\n",
        "def get_weather_tool(location: str):\n",
        "    \"\"\" Get weather forecast for a location. \"\"\"\n",
        "\n",
        "    try:\n",
        "        url = f\"https://nominatim.openstreetmap.org/search?format=json&q={location}\"\n",
        "        data = requests.get(url, timeout=10, headers={\"User-Agent\": \"vacation-agent\"}).json()\n",
        "    except Exception as e:\n",
        "        return {\"error\": f\"failed: {e}\"}\n",
        "\n",
        "    lat, lon = data[0][\"lat\"], data[0][\"lon\"]\n",
        "    try:\n",
        "        weather_url = f\"https://api.open-meteo.com/v1/forecast?latitude={lat}&longitude={lon}&current_weather=true\"\n",
        "        weather_data = requests.get(weather_url, timeout=10).json()\n",
        "\n",
        "        return weather_data.get(\"current_weather\", {\"error\": \"Weather data missing\"})\n",
        "    except Exception as e:\n",
        "        return {\"error\": f\"Weather fetch failed: {e}\"}\n",
        "\n",
        "\n",
        "tools = [search_flights_tool, get_weather_tool, get_poi_tool, get_hotel_tool]"
      ],
      "metadata": {
        "id": "KElCK2NZBP8J"
      },
      "execution_count": null,
      "outputs": []
    },
    {
      "cell_type": "code",
      "source": [
        "def search_flights_tool(origin: str, destination: str, date: str):\n",
        "    matches = [\n",
        "        f for f in flights_data\n",
        "        if f[\"origin\"].lower() == origin.lower()\n",
        "        and f[\"destination\"].lower() == destination.lower()\n",
        "        and f[\"date\"] == date.lower()\n",
        "    ]\n",
        "    if matches:\n",
        "        return matches\n",
        "    else:\n",
        "        return [{\"message\": \"No flights found\"}]"
      ],
      "metadata": {
        "id": "wxmfngVB9HFw"
      },
      "execution_count": null,
      "outputs": []
    },
    {
      "cell_type": "code",
      "source": [
        "from langchain_openai import ChatOpenAI"
      ],
      "metadata": {
        "id": "3BYgnVXQhsso"
      },
      "execution_count": null,
      "outputs": []
    },
    {
      "cell_type": "code",
      "source": [
        "# llm = ChatOpenAI(\n",
        "#     model=\"gpt-4o-mini\",\n",
        "#     temperature=0,\n",
        "#     api_key=openai_api_key\n",
        "# )\n",
        "llm = init_chat_model(\"gemini-2.5-flash\", model_provider=\"google_genai\", api_key = api_key)\n",
        "# memory = ConversationBufferMemory(memory_key=\"chat_history\", return_messages=True)\n",
        "\n",
        "system_prompt = SystemMessage(\n",
        "    content=(\n",
        "        \"\"\"\n",
        "        You are a smart, friendly, and knowledgeable travel assistant.\n",
        "\n",
        "        Your purpose is to help users plan their trips, explore destinations, and find useful travel information.\n",
        "        You can access tools to gather real-time or location-specific data such as flight details, local weather, hotels details ,and interesting places to visit.\n",
        "\n",
        "        When responding:\n",
        "        - Understand the user's intent clearly (e.g., checking flights, exploring cities, or seeing weather updates).\n",
        "        - Use your tools only when necessary to provide accurate, current, or location-based information.\n",
        "        - Present all information in a clear, friendly, and conversational tone — never mention that you are using tools or APIs.\n",
        "        - Summarize results naturally (e.g., lists of attractions, short flight summaries, or concise weather reports).\n",
        "        - Avoid technical language, code, or JSON outputs.\n",
        "        - If information is unavailable, politely inform the user.\n",
        "        - Keep your responses concise, helpful, and engaging, as if you are a professional travel planner.\n",
        "\n",
        "        Your overall goal is to make trip planning easier, more enjoyable, and more personalized for the user.\n",
        "\n",
        "        \"\"\"\n",
        "    )\n",
        ")\n",
        "\n",
        "agent = initialize_agent(\n",
        "    tools=tools,\n",
        "    llm=llm,\n",
        "    system_message=system_prompt,\n",
        "    agent=AgentType.STRUCTURED_CHAT_ZERO_SHOT_REACT_DESCRIPTION,\n",
        "    checkpointer=checkpointer,\n",
        "    verbose=True\n",
        ")"
      ],
      "metadata": {
        "id": "lCMQ0LAqBv_K",
        "colab": {
          "base_uri": "https://localhost:8080/"
        },
        "outputId": "92a482fc-da6a-44a7-bccf-833374cc80b5"
      },
      "execution_count": null,
      "outputs": [
        {
          "output_type": "stream",
          "name": "stderr",
          "text": [
            "/tmp/ipython-input-3370092504.py:32: LangChainDeprecationWarning: LangChain agents will continue to be supported, but it is recommended for new use cases to be built with LangGraph. LangGraph offers a more flexible and full-featured framework for building agents, including support for tool-calling, persistence of state, and human-in-the-loop workflows. For details, refer to the `LangGraph documentation <https://langchain-ai.github.io/langgraph/>`_ as well as guides for `Migrating from AgentExecutor <https://python.langchain.com/docs/how_to/migrate_agent/>`_ and LangGraph's `Pre-built ReAct agent <https://langchain-ai.github.io/langgraph/how-tos/create-react-agent/>`_.\n",
            "  agent = initialize_agent(\n"
          ]
        }
      ]
    },
    {
      "cell_type": "markdown",
      "source": [
        "## Test Agent"
      ],
      "metadata": {
        "id": "8wsJdnxwIwfn"
      }
    },
    {
      "cell_type": "code",
      "source": [
        "config = {\"configurable\": {\"thread_id\": \"1\"}}\n",
        "\n",
        "response = agent.invoke(\n",
        "    {\"input\": [{\"role\": \"user\", \"content\": \"i am planning a trip from lahore to peshawar on 26 oct 2025, tell me the weather condition in peshawar?\"}]},\n",
        "    config=config\n",
        ")"
      ],
      "metadata": {
        "colab": {
          "base_uri": "https://localhost:8080/"
        },
        "id": "EOiBTPhMvNbP",
        "outputId": "008b382d-c812-481c-bcc8-84c5405f4240"
      },
      "execution_count": null,
      "outputs": [
        {
          "output_type": "stream",
          "name": "stdout",
          "text": [
            "\n",
            "\n",
            "\u001b[1m> Entering new AgentExecutor chain...\u001b[0m\n",
            "\u001b[32;1m\u001b[1;3mAction:\n",
            "```\n",
            "{\n",
            "  \"action\": \"search_flights_tool\",\n",
            "  \"action_input\": {\n",
            "    \"origin\": \"LHE\",\n",
            "    \"destination\": \"PEW\",\n",
            "    \"date\": \"2025-10-26\"\n",
            "  }\n",
            "}\n",
            "```\u001b[0m\n",
            "Observation: \u001b[36;1m\u001b[1;3m[{'flight_no': 'PK607', 'origin': 'LHE', 'destination': 'PEW', 'date': '2025-10-26', 'price': 14000, 'airline': 'PIA'}]\u001b[0m\n",
            "Thought:\u001b[32;1m\u001b[1;3mAction:\n",
            "```\n",
            "{\n",
            "  \"action\": \"get_weather_tool\",\n",
            "  \"action_input\": {\n",
            "    \"location\": \"Peshawar\"\n",
            "  }\n",
            "}\n",
            "```\u001b[0m\n",
            "Observation: \u001b[33;1m\u001b[1;3m{'time': '2025-10-16T06:30', 'interval': 900, 'temperature': 28.8, 'windspeed': 4.9, 'winddirection': 73, 'is_day': 1, 'weathercode': 0}\u001b[0m\n",
            "Thought:\u001b[32;1m\u001b[1;3mAction:\n",
            "```\n",
            "{\n",
            "  \"action\": \"Final Answer\",\n",
            "  \"action_input\": \"The weather in Peshawar on October 16, 2025, at 06:30 AM is 28.8°C with a wind speed of 4.9 m/s from the east (73 degrees). It is daytime with clear skies.\"\n",
            "}\n",
            "```\u001b[0m\n",
            "\n",
            "\u001b[1m> Finished chain.\u001b[0m\n"
          ]
        }
      ]
    },
    {
      "cell_type": "code",
      "source": [
        "print(response)"
      ],
      "metadata": {
        "colab": {
          "base_uri": "https://localhost:8080/"
        },
        "id": "EH6kv3XrvXmC",
        "outputId": "290539ac-7aca-44f4-a5ad-390f232d8ed7"
      },
      "execution_count": null,
      "outputs": [
        {
          "output_type": "stream",
          "name": "stdout",
          "text": [
            "{'input': [{'role': 'user', 'content': 'i am planning a trip from lahore to peshawar on 26 oct 2025, tell me the weather condition in peshawar?'}], 'output': 'The weather in Peshawar on October 16, 2025, at 06:30 AM is 28.8°C with a wind speed of 4.9 m/s from the east (73 degrees). It is daytime with clear skies.'}\n"
          ]
        }
      ]
    },
    {
      "cell_type": "code",
      "source": [
        "config = {\"configurable\": {\"thread_id\": \"1\"}}\n",
        "\n",
        "response = agent.invoke(\n",
        "    {\"input\": [{\"role\": \"user\", \"content\": \"what is ask you first about peshawar\"}]},\n",
        "    config=config\n",
        ")"
      ],
      "metadata": {
        "colab": {
          "base_uri": "https://localhost:8080/"
        },
        "id": "4qjc7b5Lukih",
        "outputId": "787a49f4-a2b7-4305-bada-a01663e33116"
      },
      "execution_count": null,
      "outputs": [
        {
          "output_type": "stream",
          "name": "stdout",
          "text": [
            "\n",
            "\n",
            "\u001b[1m> Entering new AgentExecutor chain...\u001b[0m\n",
            "\u001b[32;1m\u001b[1;3mAction:\n",
            "```\n",
            "{\n",
            "  \"action\": \"Final Answer\",\n",
            "  \"action_input\": \"I can tell you about the weather, points of interest, and hotels in Peshawar. What would you like to know first?\"\n",
            "}\n",
            "```\u001b[0m\n",
            "\n",
            "\u001b[1m> Finished chain.\u001b[0m\n"
          ]
        }
      ]
    },
    {
      "cell_type": "code",
      "source": [
        "print(response)"
      ],
      "metadata": {
        "colab": {
          "base_uri": "https://localhost:8080/"
        },
        "id": "QMIzsjK8vpOu",
        "outputId": "a7dee998-377c-438a-cfc5-bd1bf8c4556f"
      },
      "execution_count": null,
      "outputs": [
        {
          "output_type": "stream",
          "name": "stdout",
          "text": [
            "{'input': [{'role': 'user', 'content': 'what is ask you first about peshawar'}], 'output': 'I can tell you about the weather, points of interest, and hotels in Peshawar. What would you like to know first?'}\n"
          ]
        }
      ]
    },
    {
      "cell_type": "code",
      "source": [
        "response = agent.invoke(\n",
        "    {\"input\": [{\"role\": \"user\", \"content\": \"on what date i ask you for trip?\"}]},\n",
        "    config=config\n",
        ")\n",
        "\n",
        "print(response)"
      ],
      "metadata": {
        "colab": {
          "base_uri": "https://localhost:8080/"
        },
        "id": "QMGIxeKLv0gR",
        "outputId": "7060e3bf-4ff0-4595-b5c7-128dcb2c139e"
      },
      "execution_count": null,
      "outputs": [
        {
          "output_type": "stream",
          "name": "stdout",
          "text": [
            "\n",
            "\n",
            "\u001b[1m> Entering new AgentExecutor chain...\u001b[0m\n",
            "\u001b[32;1m\u001b[1;3mAction:\n",
            "```\n",
            "{\n",
            "  \"action\": \"Final Answer\",\n",
            "  \"action_input\": \"I do not have access to past conversation history, so I don't know on what date you asked about a trip.\"\n",
            "}\n",
            "```\u001b[0m\n",
            "\n",
            "\u001b[1m> Finished chain.\u001b[0m\n",
            "{'input': [{'role': 'user', 'content': 'on what date i ask you for trip?'}], 'output': \"I do not have access to past conversation history, so I don't know on what date you asked about a trip.\"}\n"
          ]
        }
      ]
    },
    {
      "cell_type": "code",
      "source": [
        "response = agent.invoke(\n",
        "    {\"input\": \"on what date i ask you for trip?\"},\n",
        "    config=config\n",
        ")\n",
        "\n",
        "print(response)"
      ],
      "metadata": {
        "colab": {
          "base_uri": "https://localhost:8080/"
        },
        "id": "lK-RS1MLwJcp",
        "outputId": "c8c7ab24-6786-436b-abf9-80084f71c224"
      },
      "execution_count": null,
      "outputs": [
        {
          "output_type": "stream",
          "name": "stdout",
          "text": [
            "\n",
            "\n",
            "\u001b[1m> Entering new AgentExecutor chain...\u001b[0m\n",
            "\u001b[32;1m\u001b[1;3mAction:\n",
            "```\n",
            "{\n",
            "  \"action\": \"Final Answer\",\n",
            "  \"action_input\": \"I do not have access to past conversation history, so I cannot tell you the exact date you asked me about a trip.\"\n",
            "}\n",
            "```\u001b[0m\n",
            "\n",
            "\u001b[1m> Finished chain.\u001b[0m\n",
            "{'input': 'on what date i ask you for trip?', 'output': 'I do not have access to past conversation history, so I cannot tell you the exact date you asked me about a trip.'}\n"
          ]
        }
      ]
    },
    {
      "cell_type": "code",
      "source": [
        "while True:\n",
        "    query = input(\"User: \")\n",
        "    if query == \"exit\":\n",
        "        break\n",
        "    response = agent.run(query)\n",
        "    print(response)"
      ],
      "metadata": {
        "id": "WAz9fv5DCE80",
        "colab": {
          "base_uri": "https://localhost:8080/"
        },
        "outputId": "67f1710d-80a4-40d5-958d-fe5609917ef7"
      },
      "execution_count": null,
      "outputs": [
        {
          "name": "stdout",
          "output_type": "stream",
          "text": [
            "User: i travelling to isb from lhr on 21 oct. sugeest some places to visit and to stay?\n",
            "\n",
            "\n",
            "\u001b[1m> Entering new AgentExecutor chain...\u001b[0m\n",
            "\u001b[32;1m\u001b[1;3mThought: I need to find points of interest in Islamabad (ISB) and also look for hotels in the same city. I will first search for places to visit in Islamabad.\n",
            "\n",
            "Action:\n",
            "```\n",
            "{\n",
            "  \"action\": \"get_poi_tool\",\n",
            "  \"action_input\": {\n",
            "    \"location\": \"Islamabad\"\n",
            "  }\n",
            "}\n",
            "```\n",
            "\u001b[0m\n",
            "Observation: \u001b[38;5;200m\u001b[1;3m['Shah Faisal Mosque', 'Faisal Mosque', 'Centaurus Cineplex', 'Islamabad Zoo', 'Daman-e-Koh']\u001b[0m\n",
            "Thought:\u001b[32;1m\u001b[1;3mI have found some points of interest in Islamabad, including Shah Faisal Mosque, Faisal Mosque, Centaurus Cineplex, Islamabad Zoo, and Daman-e-Koh. Now, I will look for hotels in Islamabad for your stay.\n",
            "\n",
            "Action:\n",
            "```\n",
            "{\n",
            "  \"action\": \"get_hotel_tool\",\n",
            "  \"action_input\": {\n",
            "    \"location\": \"Islamabad\"\n",
            "  }\n",
            "}\n",
            "```\n",
            "\n",
            "\u001b[0m\n",
            "Observation: \u001b[36;1m\u001b[1;3m{'city': 'Islamabad', 'locations': [{'name': 'Chittagong', 'latitude': 22.335, 'longitude': 91.8325}, {'name': 'Roosevelt Hotel (Manhattan)', 'latitude': 40.75472222, 'longitude': -73.9775}]}\u001b[0m\n",
            "Thought:\u001b[32;1m\u001b[1;3mI have found some points of interest in Islamabad, including Shah Faisal Mosque, Faisal Mosque, Centaurus Cineplex, Islamabad Zoo, and Daman-e-Koh. However, the hotel search did not return relevant results for Islamabad. I will try to search for hotels again specifically in Islamabad.\n",
            "\n",
            "Action:\n",
            "```\n",
            "{\n",
            "  \"action\": \"get_hotel_tool\",\n",
            "  \"action_input\": {\n",
            "    \"location\": \"Islamabad\"\n",
            "  }\n",
            "}\n",
            "```\n",
            "\n",
            "\u001b[0m\n",
            "Observation: \u001b[36;1m\u001b[1;3m{'city': 'Islamabad', 'locations': [{'name': 'Chittagong', 'latitude': 22.335, 'longitude': 91.8325}, {'name': 'Roosevelt Hotel (Manhattan)', 'latitude': 40.75472222, 'longitude': -73.9775}]}\u001b[0m\n",
            "Thought:\u001b[32;1m\u001b[1;3mIt seems that the hotel search did not yield relevant results for Islamabad. I will attempt to search for hotels in Islamabad once more to provide you with accurate options for your stay.\n",
            "\n",
            "Action:\n",
            "```\n",
            "{\n",
            "  \"action\": \"get_hotel_tool\",\n",
            "  \"action_input\": {\n",
            "    \"location\": \"Islamabad\"\n",
            "  }\n",
            "}\n",
            "```\n",
            "\n",
            "\u001b[0m\n",
            "Observation: \u001b[36;1m\u001b[1;3m{'city': 'Islamabad', 'locations': [{'name': 'Chittagong', 'latitude': 22.335, 'longitude': 91.8325}, {'name': 'Roosevelt Hotel (Manhattan)', 'latitude': 40.75472222, 'longitude': -73.9775}]}\u001b[0m\n",
            "Thought:\u001b[32;1m\u001b[1;3mIt appears that the hotel search is not returning relevant results for Islamabad. I will try to provide you with some well-known hotels in Islamabad based on general knowledge.\n",
            "\n",
            "Action:\n",
            "```\n",
            "{\n",
            "  \"action\": \"Final Answer\",\n",
            "  \"action_input\": \"In Islamabad, you can visit several interesting places such as Shah Faisal Mosque, Centaurus Cineplex, Islamabad Zoo, and Daman-e-Koh. For accommodation, consider staying at the Serena Hotel, Islamabad Marriott Hotel, or the Ramada Islamabad.\"\n",
            "}\n",
            "```\n",
            "\u001b[0m\n",
            "\n",
            "\u001b[1m> Finished chain.\u001b[0m\n",
            "In Islamabad, you can visit several interesting places such as Shah Faisal Mosque, Centaurus Cineplex, Islamabad Zoo, and Daman-e-Koh. For accommodation, consider staying at the Serena Hotel, Islamabad Marriott Hotel, or the Ramada Islamabad.\n",
            "User: what i ask you in the very first?\n",
            "\n",
            "\n",
            "\u001b[1m> Entering new AgentExecutor chain...\u001b[0m\n",
            "\u001b[32;1m\u001b[1;3mThought: The user is asking about their initial question, but I don't have access to previous interactions. I need to clarify what they are referring to or ask them to repeat their question. \n",
            "Action:\n",
            "```\n",
            "{\n",
            "  \"action\": \"Final Answer\",\n",
            "  \"action_input\": \"I'm sorry, but I don't have access to previous interactions. Could you please repeat your question?\"\n",
            "}\n",
            "```\n",
            "\u001b[0m\n",
            "\n",
            "\u001b[1m> Finished chain.\u001b[0m\n",
            "I'm sorry, but I don't have access to previous interactions. Could you please repeat your question?\n",
            "User: exit\n"
          ]
        }
      ]
    },
    {
      "cell_type": "code",
      "source": [
        "print(memory.buffer)"
      ],
      "metadata": {
        "colab": {
          "base_uri": "https://localhost:8080/"
        },
        "id": "1dauOgEqJCXR",
        "outputId": "39500826-0638-4770-8616-c4779268e758"
      },
      "execution_count": null,
      "outputs": [
        {
          "output_type": "stream",
          "name": "stdout",
          "text": [
            "[HumanMessage(content='i am planing a trip from isb to lahore on 21 oct 2025, book a flight and also give some information about places should i visit?', additional_kwargs={}, response_metadata={}), AIMessage(content='Flight from ISB to LHE on 21 Oct 2025: Flight Number PK306, Airline: PIA, Price: 12,000 PKR. Places to visit: Convent of Jesus and Mary, Lahore Fort, Tomb of Mian Mir.', additional_kwargs={}, response_metadata={}), HumanMessage(content='planning a trip from isb to dubai on 21 oct 2025, suggest some places to stay?', additional_kwargs={}, response_metadata={}), AIMessage(content='Here are some places to stay in Dubai: 1. Atlantis The Royal, Dubai (25.1381, 55.1278) 2. Burj Khalifa area (25.1972, 55.2742) 3. Palm Jumeirah (25.1181, 55.1333) 4. Dubai Maritime City (25.2666, 55.2659).', additional_kwargs={}, response_metadata={}), HumanMessage(content='i travelling to isb from lhr on 21 oct. sugeest some places to visit and to stay?', additional_kwargs={}, response_metadata={}), AIMessage(content='In Islamabad, you can visit several interesting places such as Shah Faisal Mosque, Centaurus Cineplex, Islamabad Zoo, and Daman-e-Koh. For accommodation, consider staying at the Serena Hotel, Islamabad Marriott Hotel, or the Ramada Islamabad.', additional_kwargs={}, response_metadata={}), HumanMessage(content='what i ask you in the very first?', additional_kwargs={}, response_metadata={}), AIMessage(content=\"I'm sorry, but I don't have access to previous interactions. Could you please repeat your question?\", additional_kwargs={}, response_metadata={})]\n"
          ]
        }
      ]
    },
    {
      "cell_type": "code",
      "source": [],
      "metadata": {
        "id": "eXJmwzinmIhg"
      },
      "execution_count": null,
      "outputs": []
    }
  ]
}