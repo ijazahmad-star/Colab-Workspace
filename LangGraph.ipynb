{
  "nbformat": 4,
  "nbformat_minor": 0,
  "metadata": {
    "colab": {
      "provenance": [],
      "authorship_tag": "ABX9TyPEdDQoJGM0O/cTjYkg2WaB",
      "include_colab_link": true
    },
    "kernelspec": {
      "name": "python3",
      "display_name": "Python 3"
    },
    "language_info": {
      "name": "python"
    }
  },
  "cells": [
    {
      "cell_type": "markdown",
      "metadata": {
        "id": "view-in-github",
        "colab_type": "text"
      },
      "source": [
        "<a href=\"https://colab.research.google.com/github/ijazahmad-star/Colab-Workspace/blob/main/LangGraph.ipynb\" target=\"_parent\"><img src=\"https://colab.research.google.com/assets/colab-badge.svg\" alt=\"Open In Colab\"/></a>"
      ]
    },
    {
      "cell_type": "code",
      "execution_count": 1,
      "metadata": {
        "colab": {
          "base_uri": "https://localhost:8080/"
        },
        "collapsed": true,
        "id": "UnfM-hDs2WKG",
        "outputId": "f6a40c49-5345-4622-b80b-437940930180"
      },
      "outputs": [
        {
          "output_type": "stream",
          "name": "stdout",
          "text": [
            "Collecting langgraph\n",
            "  Downloading langgraph-1.0.0rc1-py3-none-any.whl.metadata (6.8 kB)\n",
            "Requirement already satisfied: langchain-core>=0.1 in /usr/local/lib/python3.12/dist-packages (from langgraph) (0.3.78)\n",
            "Collecting langgraph-checkpoint<3.0.0,>=2.1.0 (from langgraph)\n",
            "  Downloading langgraph_checkpoint-2.1.2-py3-none-any.whl.metadata (4.2 kB)\n",
            "Collecting langgraph-prebuilt==0.7.0rc1 (from langgraph)\n",
            "  Downloading langgraph_prebuilt-0.7.0rc1-py3-none-any.whl.metadata (4.5 kB)\n",
            "Collecting langgraph-sdk<0.3.0,>=0.2.2 (from langgraph)\n",
            "  Downloading langgraph_sdk-0.2.9-py3-none-any.whl.metadata (1.5 kB)\n",
            "Requirement already satisfied: pydantic>=2.7.4 in /usr/local/lib/python3.12/dist-packages (from langgraph) (2.11.10)\n",
            "Requirement already satisfied: xxhash>=3.5.0 in /usr/local/lib/python3.12/dist-packages (from langgraph) (3.6.0)\n",
            "Requirement already satisfied: langsmith<1.0.0,>=0.3.45 in /usr/local/lib/python3.12/dist-packages (from langchain-core>=0.1->langgraph) (0.4.33)\n",
            "Requirement already satisfied: tenacity!=8.4.0,<10.0.0,>=8.1.0 in /usr/local/lib/python3.12/dist-packages (from langchain-core>=0.1->langgraph) (8.5.0)\n",
            "Requirement already satisfied: jsonpatch<2.0.0,>=1.33.0 in /usr/local/lib/python3.12/dist-packages (from langchain-core>=0.1->langgraph) (1.33)\n",
            "Requirement already satisfied: PyYAML<7.0.0,>=5.3.0 in /usr/local/lib/python3.12/dist-packages (from langchain-core>=0.1->langgraph) (6.0.3)\n",
            "Requirement already satisfied: typing-extensions<5.0.0,>=4.7.0 in /usr/local/lib/python3.12/dist-packages (from langchain-core>=0.1->langgraph) (4.15.0)\n",
            "Requirement already satisfied: packaging<26.0.0,>=23.2.0 in /usr/local/lib/python3.12/dist-packages (from langchain-core>=0.1->langgraph) (25.0)\n",
            "Collecting ormsgpack>=1.10.0 (from langgraph-checkpoint<3.0.0,>=2.1.0->langgraph)\n",
            "  Downloading ormsgpack-1.11.0-cp312-cp312-manylinux_2_17_x86_64.manylinux2014_x86_64.whl.metadata (1.2 kB)\n",
            "Requirement already satisfied: httpx>=0.25.2 in /usr/local/lib/python3.12/dist-packages (from langgraph-sdk<0.3.0,>=0.2.2->langgraph) (0.28.1)\n",
            "Requirement already satisfied: orjson>=3.10.1 in /usr/local/lib/python3.12/dist-packages (from langgraph-sdk<0.3.0,>=0.2.2->langgraph) (3.11.3)\n",
            "Requirement already satisfied: annotated-types>=0.6.0 in /usr/local/lib/python3.12/dist-packages (from pydantic>=2.7.4->langgraph) (0.7.0)\n",
            "Requirement already satisfied: pydantic-core==2.33.2 in /usr/local/lib/python3.12/dist-packages (from pydantic>=2.7.4->langgraph) (2.33.2)\n",
            "Requirement already satisfied: typing-inspection>=0.4.0 in /usr/local/lib/python3.12/dist-packages (from pydantic>=2.7.4->langgraph) (0.4.2)\n",
            "Requirement already satisfied: anyio in /usr/local/lib/python3.12/dist-packages (from httpx>=0.25.2->langgraph-sdk<0.3.0,>=0.2.2->langgraph) (4.11.0)\n",
            "Requirement already satisfied: certifi in /usr/local/lib/python3.12/dist-packages (from httpx>=0.25.2->langgraph-sdk<0.3.0,>=0.2.2->langgraph) (2025.10.5)\n",
            "Requirement already satisfied: httpcore==1.* in /usr/local/lib/python3.12/dist-packages (from httpx>=0.25.2->langgraph-sdk<0.3.0,>=0.2.2->langgraph) (1.0.9)\n",
            "Requirement already satisfied: idna in /usr/local/lib/python3.12/dist-packages (from httpx>=0.25.2->langgraph-sdk<0.3.0,>=0.2.2->langgraph) (3.10)\n",
            "Requirement already satisfied: h11>=0.16 in /usr/local/lib/python3.12/dist-packages (from httpcore==1.*->httpx>=0.25.2->langgraph-sdk<0.3.0,>=0.2.2->langgraph) (0.16.0)\n",
            "Requirement already satisfied: jsonpointer>=1.9 in /usr/local/lib/python3.12/dist-packages (from jsonpatch<2.0.0,>=1.33.0->langchain-core>=0.1->langgraph) (3.0.0)\n",
            "Requirement already satisfied: requests-toolbelt>=1.0.0 in /usr/local/lib/python3.12/dist-packages (from langsmith<1.0.0,>=0.3.45->langchain-core>=0.1->langgraph) (1.0.0)\n",
            "Requirement already satisfied: requests>=2.0.0 in /usr/local/lib/python3.12/dist-packages (from langsmith<1.0.0,>=0.3.45->langchain-core>=0.1->langgraph) (2.32.4)\n",
            "Requirement already satisfied: zstandard>=0.23.0 in /usr/local/lib/python3.12/dist-packages (from langsmith<1.0.0,>=0.3.45->langchain-core>=0.1->langgraph) (0.25.0)\n",
            "Requirement already satisfied: charset_normalizer<4,>=2 in /usr/local/lib/python3.12/dist-packages (from requests>=2.0.0->langsmith<1.0.0,>=0.3.45->langchain-core>=0.1->langgraph) (3.4.3)\n",
            "Requirement already satisfied: urllib3<3,>=1.21.1 in /usr/local/lib/python3.12/dist-packages (from requests>=2.0.0->langsmith<1.0.0,>=0.3.45->langchain-core>=0.1->langgraph) (2.5.0)\n",
            "Requirement already satisfied: sniffio>=1.1 in /usr/local/lib/python3.12/dist-packages (from anyio->httpx>=0.25.2->langgraph-sdk<0.3.0,>=0.2.2->langgraph) (1.3.1)\n",
            "Downloading langgraph-1.0.0rc1-py3-none-any.whl (155 kB)\n",
            "\u001b[2K   \u001b[90m━━━━━━━━━━━━━━━━━━━━━━━━━━━━━━━━━━━━━━━━\u001b[0m \u001b[32m155.2/155.2 kB\u001b[0m \u001b[31m3.5 MB/s\u001b[0m eta \u001b[36m0:00:00\u001b[0m\n",
            "\u001b[?25hDownloading langgraph_prebuilt-0.7.0rc1-py3-none-any.whl (28 kB)\n",
            "Downloading langgraph_checkpoint-2.1.2-py3-none-any.whl (45 kB)\n",
            "\u001b[2K   \u001b[90m━━━━━━━━━━━━━━━━━━━━━━━━━━━━━━━━━━━━━━━━\u001b[0m \u001b[32m45.8/45.8 kB\u001b[0m \u001b[31m1.8 MB/s\u001b[0m eta \u001b[36m0:00:00\u001b[0m\n",
            "\u001b[?25hDownloading langgraph_sdk-0.2.9-py3-none-any.whl (56 kB)\n",
            "\u001b[2K   \u001b[90m━━━━━━━━━━━━━━━━━━━━━━━━━━━━━━━━━━━━━━━━\u001b[0m \u001b[32m56.8/56.8 kB\u001b[0m \u001b[31m3.4 MB/s\u001b[0m eta \u001b[36m0:00:00\u001b[0m\n",
            "\u001b[?25hDownloading ormsgpack-1.11.0-cp312-cp312-manylinux_2_17_x86_64.manylinux2014_x86_64.whl (207 kB)\n",
            "\u001b[2K   \u001b[90m━━━━━━━━━━━━━━━━━━━━━━━━━━━━━━━━━━━━━━━━\u001b[0m \u001b[32m207.6/207.6 kB\u001b[0m \u001b[31m11.7 MB/s\u001b[0m eta \u001b[36m0:00:00\u001b[0m\n",
            "\u001b[?25hInstalling collected packages: ormsgpack, langgraph-sdk, langgraph-checkpoint, langgraph-prebuilt, langgraph\n",
            "Successfully installed langgraph-1.0.0rc1 langgraph-checkpoint-2.1.2 langgraph-prebuilt-0.7.0rc1 langgraph-sdk-0.2.9 ormsgpack-1.11.0\n"
          ]
        }
      ],
      "source": [
        "!pip install --pre -U langgraph"
      ]
    },
    {
      "cell_type": "code",
      "source": [
        "from langgraph.graph import StateGraph\n",
        "from typing import TypedDict"
      ],
      "metadata": {
        "id": "kDB94ANS2bom"
      },
      "execution_count": 2,
      "outputs": []
    },
    {
      "cell_type": "code",
      "source": [
        "class AgentState(TypedDict):\n",
        "    message: str\n",
        "\n",
        "def Greeting(state: AgentState) -> str:\n",
        "  state['message'] = 'Hello World ' + state['message']\n",
        "  return state\n",
        "\n",
        "graph = StateGraph(AgentState)\n",
        "\n",
        "graph.add_node(\"Greeting\", Greeting)\n",
        "graph.set_entry_point('Greeting')\n",
        "graph.set_finish_point('Greeting')\n",
        "app = graph.compile()"
      ],
      "metadata": {
        "id": "To3J6RPm2vP2"
      },
      "execution_count": 3,
      "outputs": []
    },
    {
      "cell_type": "code",
      "source": [
        "res = app.invoke({\"message\":\"bob\"})\n",
        "res['message']"
      ],
      "metadata": {
        "colab": {
          "base_uri": "https://localhost:8080/",
          "height": 35
        },
        "id": "WkUphdW44Aw-",
        "outputId": "3d5a8cd1-88cf-41cb-cd5c-718e2c110961"
      },
      "execution_count": 4,
      "outputs": [
        {
          "output_type": "execute_result",
          "data": {
            "text/plain": [
              "'Hello World bob'"
            ],
            "application/vnd.google.colaboratory.intrinsic+json": {
              "type": "string"
            }
          },
          "metadata": {},
          "execution_count": 4
        }
      ]
    },
    {
      "cell_type": "code",
      "source": [
        "import math\n",
        "from langgraph.graph import StateGraph\n",
        "from typing import TypedDict, List\n",
        "\n",
        "class AgentState(TypedDict):\n",
        "    name: str\n",
        "    values: List\n",
        "    operator: str\n",
        "    result: str\n",
        "\n",
        "def processor(state: AgentState) -> AgentState:\n",
        "  if state['operator'] == '+':\n",
        "    state['result'] = f\"Hi, {state['name']} your values sum is {sum(state['values'])}.\"\n",
        "  if state['operator'] == '*':\n",
        "    state['result'] = f\"Hi, {state['name']} your values multiplication result is {math.prod(state['values'])}.\"\n",
        "  return state\n",
        "\n",
        "graph = StateGraph(AgentState)\n",
        "\n",
        "graph.add_node(\"processor\", processor)\n",
        "graph.set_entry_point('processor')\n",
        "graph.set_finish_point('processor')\n",
        "app = graph.compile()\n",
        "\n",
        "result = app.invoke({\"name\":\"bob\", \"values\":[1,2,3], \"operator\":\"*\"})\n",
        "result['result']"
      ],
      "metadata": {
        "colab": {
          "base_uri": "https://localhost:8080/",
          "height": 35
        },
        "id": "BbMNiMRS4g3e",
        "outputId": "03b663b9-ccc8-4812-8749-43e37fded2b3"
      },
      "execution_count": 5,
      "outputs": [
        {
          "output_type": "execute_result",
          "data": {
            "text/plain": [
              "'Hi, bob your values multiplication result is 6.'"
            ],
            "application/vnd.google.colaboratory.intrinsic+json": {
              "type": "string"
            }
          },
          "metadata": {},
          "execution_count": 5
        }
      ]
    },
    {
      "cell_type": "code",
      "source": [
        "from langgraph.graph import StateGraph\n",
        "from typing import TypedDict, List\n",
        "\n",
        "class AgentState(TypedDict):\n",
        "    name: str\n",
        "    age: str\n",
        "    skills: List\n",
        "    result: str\n",
        "\n",
        "def first_node(state: AgentState) -> AgentState:\n",
        "  state['result'] = f\"Hi, {state['name']}.\"\n",
        "  return state\n",
        "\n",
        "def second_node(state: AgentState) -> AgentState:\n",
        "  state['result'] = state['result'] + f\" You are {state['age']} years old.\"\n",
        "  return state\n",
        "\n",
        "def third_node(state: AgentState) -> AgentState:\n",
        "  state['result'] = state['result'] + f\" You have the following skills: {', '.join(state['skills'])}.\"\n",
        "  return state\n",
        "\n",
        "\n",
        "graph = StateGraph(AgentState)\n",
        "\n",
        "graph.add_node(\"first_node\", first_node)\n",
        "graph.add_node(\"second_node\", second_node)\n",
        "graph.add_node(\"third_node\", third_node)\n",
        "\n",
        "graph.set_entry_point('first_node')\n",
        "graph.add_edge('first_node', 'second_node')\n",
        "graph.add_edge('second_node', 'third_node')\n",
        "graph.set_finish_point('third_node')\n",
        "\n",
        "app = graph.compile()\n",
        "\n",
        "from IPython.display import Image, display\n",
        "display(Image(app.get_graph().draw_mermaid_png()))\n",
        "\n",
        "result = app.invoke({\"name\":\"bob\", \"age\":\"25\", \"skills\":[\"python\", \"javascript\"]})\n",
        "result['result']\n"
      ],
      "metadata": {
        "colab": {
          "base_uri": "https://localhost:8080/",
          "height": 467
        },
        "id": "8OGSojCN5qwY",
        "outputId": "7bdff31d-7257-4f1e-b03d-00a40b91fbf8"
      },
      "execution_count": 6,
      "outputs": [
        {
          "output_type": "display_data",
          "data": {
            "image/png": "[encoded data removed]",
            "text/plain": [
              "<IPython.core.display.Image object>"
            ]
          },
          "metadata": {}
        },
        {
          "output_type": "execute_result",
          "data": {
            "text/plain": [
              "'Hi, bob. You are 25 years old. You have the following skills: python, javascript.'"
            ],
            "application/vnd.google.colaboratory.intrinsic+json": {
              "type": "string"
            }
          },
          "metadata": {},
          "execution_count": 6
        }
      ]
    },
    {
      "cell_type": "code",
      "source": [
        "from langgraph.graph import StateGraph, START, END\n",
        "from typing import TypedDict\n",
        "\n",
        "class AgentState(TypedDict):\n",
        "  num1: int\n",
        "  oper1: str\n",
        "  num2: int\n",
        "  final1: int\n",
        "  num3: int\n",
        "  oper2: str\n",
        "  num4: int\n",
        "  int4: int\n",
        "  final2: int\n",
        "\n",
        "\n",
        "def add1(state: AgentState) -> AgentState:\n",
        "  state['final1'] = state['num1'] + state['num2']\n",
        "  return state\n",
        "\n",
        "def sub1(state: AgentState) -> AgentState:\n",
        "  state['final1'] = state['num1'] - state['num2']\n",
        "  return state\n",
        "\n",
        "def add2(state: AgentState) -> AgentState:\n",
        "  state['final2'] = state['num3'] + state['num4']\n",
        "  return state\n",
        "\n",
        "def sub2(state: AgentState) -> AgentState:\n",
        "  state['final2'] = state['num3'] - state['num4']\n",
        "  return state\n",
        "\n",
        "def decide_next_node1(state: AgentState) -> AgentState:\n",
        "  if state['oper1'] == '+':\n",
        "    return \"addor_1\"\n",
        "  elif state['oper1'] == '-':\n",
        "    return \"subor_1\"\n",
        "\n",
        "def decide_next_node2(state: AgentState) -> AgentState:\n",
        "  if state['oper2'] == '+':\n",
        "    return \"addor_2\"\n",
        "  elif state['oper2'] == '-':\n",
        "    return \"subor_2\"\n",
        "\n",
        "\n",
        "graph = StateGraph(AgentState)\n",
        "\n",
        "graph.add_node(\"add_node\", add1)\n",
        "graph.add_node(\"subtract_node\", sub1)\n",
        "graph.add_node(\"router\", lambda state:state)\n",
        "\n",
        "graph.add_node(\"add_node2\", add2)\n",
        "graph.add_node(\"subtract_node2\", sub2)\n",
        "graph.add_node(\"router2\", lambda state:state)\n",
        "\n",
        "\n",
        "graph.add_edge(START, \"router\")\n",
        "\n",
        "graph.add_conditional_edges(\n",
        "    \"router\",\n",
        "    decide_next_node1,\n",
        "    {\n",
        "        # Edge: Node format\n",
        "        \"addor_1\": \"add_node\",\n",
        "        \"subor_1\": \"subtract_node\"\n",
        "    }\n",
        ")\n",
        "\n",
        "\n",
        "graph.add_edge(\"add_node\", \"router2\")\n",
        "graph.add_edge(\"subtract_node\", \"router2\")\n",
        "\n",
        "graph.add_conditional_edges(\n",
        "    \"router2\",\n",
        "    decide_next_node2,\n",
        "    {\n",
        "        # Edge: Node format\n",
        "        \"addor_2\": \"add_node2\",\n",
        "        \"subor_2\": \"subtract_node2\"\n",
        "    }\n",
        ")\n",
        "\n",
        "\n",
        "graph.add_edge(\"add_node2\", END)\n",
        "graph.add_edge(\"subtract_node2\", END)\n",
        "\n",
        "app = graph.compile()\n",
        "\n",
        "from IPython.display import Image, display\n",
        "display(Image(app.get_graph().draw_mermaid_png()))"
      ],
      "metadata": {
        "colab": {
          "base_uri": "https://localhost:8080/",
          "height": 596
        },
        "id": "bsLaBLgF_ako",
        "outputId": "3b4a9223-6fae-41d6-b68c-cd94db51091e"
      },
      "execution_count": 7,
      "outputs": [
        {
          "output_type": "display_data",
          "data": {
            "image/png": "[encoded data removed]",
            "text/plain": [
              "<IPython.core.display.Image object>"
            ]
          },
          "metadata": {}
        }
      ]
    },
    {
      "cell_type": "code",
      "source": [
        "initial_state = AgentState(num1 = 10, oper1=\"-\", num2 = 5, num3 = 7, num4=2, oper2=\"+\", final1= 0, final2 = 0)"
      ],
      "metadata": {
        "id": "ynwg0PL2I1_r"
      },
      "execution_count": 8,
      "outputs": []
    },
    {
      "cell_type": "code",
      "source": [
        "print(app.invoke(initial_state))"
      ],
      "metadata": {
        "colab": {
          "base_uri": "https://localhost:8080/"
        },
        "id": "IxVH29BPJwsA",
        "outputId": "2bd17ec9-251c-4f9b-8bb5-79a845532584"
      },
      "execution_count": 9,
      "outputs": [
        {
          "output_type": "stream",
          "name": "stdout",
          "text": [
            "{'num1': 10, 'oper1': '-', 'num2': 5, 'final1': 5, 'num3': 7, 'oper2': '+', 'num4': 2, 'final2': 9}\n"
          ]
        }
      ]
    },
    {
      "cell_type": "markdown",
      "source": [
        "## G5"
      ],
      "metadata": {
        "id": "1QrtiBOzQVJr"
      }
    },
    {
      "cell_type": "code",
      "source": [
        "from langgraph.graph import StateGraph, END\n",
        "import random\n",
        "from typing import Dict, List, TypedDict"
      ],
      "metadata": {
        "id": "3uItRTQrJz4w"
      },
      "execution_count": 10,
      "outputs": []
    },
    {
      "cell_type": "code",
      "source": [
        "class GameState(TypedDict):\n",
        "    player_name: str\n",
        "    target_number: int\n",
        "    guesses: List[int]\n",
        "    attempts: int\n",
        "    hint: str\n",
        "    lower_bound: int\n",
        "    upper_bound: int"
      ],
      "metadata": {
        "id": "JHcjinVrQYWi"
      },
      "execution_count": 11,
      "outputs": []
    },
    {
      "cell_type": "code",
      "source": [
        "def setup_node(state: GameState) -> GameState:\n",
        "    \"\"\"Initialize the game with a random target number\"\"\"\n",
        "    state[\"player_name\"] = f\"Welcome, {state['player_name']}!\"\n",
        "    state[\"target_number\"] = random.randint(1, 20)\n",
        "    state[\"guesses\"] = []\n",
        "    state[\"attempts\"] = 0\n",
        "    state[\"hint\"] = \"Game started! Try to guess the number.\"\n",
        "    state[\"lower_bound\"] = 1\n",
        "    state[\"upper_bound\"] = 20\n",
        "    print(f\"{state['player_name']} The game has begun. I'm thinking of a number between 1 and 20.\")\n",
        "    return state"
      ],
      "metadata": {
        "id": "BTaz9ttIQb4y"
      },
      "execution_count": 12,
      "outputs": []
    },
    {
      "cell_type": "code",
      "source": [
        "def guess_node(state: GameState) -> GameState:\n",
        "    \"\"\"Generate a smarter guess based on previous hints\"\"\"\n",
        "\n",
        "    possible_guesses = [i for i in range(state[\"lower_bound\"], state[\"upper_bound\"] + 1) if i not in state[\"guesses\"]]\n",
        "    if possible_guesses:\n",
        "        guess = random.choice(possible_guesses)\n",
        "    else:\n",
        "\n",
        "        guess = random.randint(state[\"lower_bound\"], state[\"upper_bound\"])\n",
        "\n",
        "    state[\"guesses\"].append(guess)\n",
        "    state[\"attempts\"] += 1\n",
        "    print(f\"Attempt {state['attempts']}: Guessing {guess} (Current range: {state['lower_bound']}-{state['upper_bound']})\")\n",
        "    return state"
      ],
      "metadata": {
        "id": "aMTcjgbKQfvA"
      },
      "execution_count": 13,
      "outputs": []
    },
    {
      "cell_type": "code",
      "source": [
        "def hint_node(state: GameState) -> GameState:\n",
        "    \"\"\"Here we provide a hint based on the last guess and update the bounds\"\"\"\n",
        "    latest_guess = state[\"guesses\"][-1]\n",
        "    target = state[\"target_number\"]\n",
        "\n",
        "    if latest_guess < target:\n",
        "        state[\"hint\"] = f\"The number {latest_guess} is too low. Try higher!\"\n",
        "\n",
        "        state[\"lower_bound\"] = max(state[\"lower_bound\"], latest_guess + 1)\n",
        "        print(f\"Hint: {state['hint']}\")\n",
        "\n",
        "    elif latest_guess > target:\n",
        "        state[\"hint\"] = f\"The number {latest_guess} is too high. Try lower!\"\n",
        "\n",
        "        state[\"upper_bound\"] = min(state[\"upper_bound\"], latest_guess - 1)\n",
        "        print(f\"Hint: {state['hint']}\")\n",
        "    else:\n",
        "        state[\"hint\"] = f\"Correct! You found the number {target} in {state['attempts']} attempts.\"\n",
        "        print(f\"Success! {state['hint']}\")\n",
        "\n",
        "    return state"
      ],
      "metadata": {
        "id": "GYX9AB9gQi-z"
      },
      "execution_count": 14,
      "outputs": []
    },
    {
      "cell_type": "code",
      "source": [
        "def should_continue(state: GameState) -> str:\n",
        "    \"\"\"Determine if we should continue guessing or end the game\"\"\"\n",
        "\n",
        "    # There are 2 end conditions - either 7 is reached or the correct number is guessed\n",
        "\n",
        "    latest_guess = state[\"guesses\"][-1]\n",
        "    if latest_guess == state[\"target_number\"]:\n",
        "        print(f\"GAME OVER: Number found!\")\n",
        "        return \"end\"\n",
        "    elif state[\"attempts\"] >= 7:\n",
        "        print(f\"GAME OVER: Maximum attempts reached! The number was {state['target_number']}\")\n",
        "        return \"end\"\n",
        "    else:\n",
        "        print(f\"CONTINUING: {state['attempts']}/7 attempts used\")\n",
        "        return \"continue\""
      ],
      "metadata": {
        "id": "u7TgtdmFQnmB"
      },
      "execution_count": 15,
      "outputs": []
    },
    {
      "cell_type": "code",
      "source": [
        "graph = StateGraph(GameState)\n",
        "graph.add_node(\"setup\", setup_node)\n",
        "graph.add_node(\"guess\", guess_node)\n",
        "graph.add_node(\"hint_node\", hint_node)\n",
        "\n",
        "\n",
        "graph.add_edge(\"setup\", \"guess\")\n",
        "graph.add_edge(\"guess\", \"hint_node\")\n",
        "\n",
        "\n",
        "graph.add_conditional_edges(\n",
        "    \"hint_node\",\n",
        "    should_continue,\n",
        "    {\n",
        "        \"continue\": \"guess\",\n",
        "        \"end\": END\n",
        "    }\n",
        ")\n",
        "\n",
        "graph.set_entry_point(\"setup\")\n",
        "app = graph.compile()\n"
      ],
      "metadata": {
        "id": "5Y0uT9_QQqzp"
      },
      "execution_count": 16,
      "outputs": []
    },
    {
      "cell_type": "code",
      "source": [
        "from IPython.display import Image, display\n",
        "display(Image(app.get_graph().draw_mermaid_png()))"
      ],
      "metadata": {
        "colab": {
          "base_uri": "https://localhost:8080/",
          "height": 497
        },
        "id": "XrPUqVBlQu4Q",
        "outputId": "98ac3675-f93d-4f0f-d80c-01498a00682d"
      },
      "execution_count": 17,
      "outputs": [
        {
          "output_type": "display_data",
          "data": {
            "image/png": "[encoded data removed]",
            "text/plain": [
              "<IPython.core.display.Image object>"
            ]
          },
          "metadata": {}
        }
      ]
    },
    {
      "cell_type": "code",
      "source": [
        "result = app.invoke({\"player_name\": \"Student\", \"guesses\": [], \"attempts\": 0, \"lower_bound\": 1, \"upper_bound\": 20})"
      ],
      "metadata": {
        "colab": {
          "base_uri": "https://localhost:8080/"
        },
        "id": "ee05ahdrQzj1",
        "outputId": "98fedb6e-fc0a-40b2-e93b-bd669f6fdeec"
      },
      "execution_count": 18,
      "outputs": [
        {
          "output_type": "stream",
          "name": "stdout",
          "text": [
            "Welcome, Student! The game has begun. I'm thinking of a number between 1 and 20.\n",
            "Attempt 1: Guessing 16 (Current range: 1-20)\n",
            "Hint: The number 16 is too high. Try lower!\n",
            "CONTINUING: 1/7 attempts used\n",
            "Attempt 2: Guessing 2 (Current range: 1-15)\n",
            "Hint: The number 2 is too low. Try higher!\n",
            "CONTINUING: 2/7 attempts used\n",
            "Attempt 3: Guessing 4 (Current range: 3-15)\n",
            "Hint: The number 4 is too low. Try higher!\n",
            "CONTINUING: 3/7 attempts used\n",
            "Attempt 4: Guessing 10 (Current range: 5-15)\n",
            "Hint: The number 10 is too high. Try lower!\n",
            "CONTINUING: 4/7 attempts used\n",
            "Attempt 5: Guessing 8 (Current range: 5-9)\n",
            "Hint: The number 8 is too high. Try lower!\n",
            "CONTINUING: 5/7 attempts used\n",
            "Attempt 6: Guessing 7 (Current range: 5-7)\n",
            "Success! Correct! You found the number 7 in 6 attempts.\n",
            "GAME OVER: Number found!\n"
          ]
        }
      ]
    },
    {
      "cell_type": "code",
      "source": [],
      "metadata": {
        "id": "-dJI-Wp-Q5Zm"
      },
      "execution_count": null,
      "outputs": []
    }
  ]
}