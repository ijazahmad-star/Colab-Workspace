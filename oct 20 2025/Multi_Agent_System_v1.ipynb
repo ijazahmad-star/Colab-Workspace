{
  "nbformat": 4,
  "nbformat_minor": 0,
  "metadata": {
    "colab": {
      "provenance": [],
      "authorship_tag": "ABX9TyON3S1kXHYZzO/6k24XTslu",
      "include_colab_link": true
    },
    "kernelspec": {
      "name": "python3",
      "display_name": "Python 3"
    },
    "language_info": {
      "name": "python"
    }
  },
  "cells": [
    {
      "cell_type": "markdown",
      "metadata": {
        "id": "view-in-github",
        "colab_type": "text"
      },
      "source": [
        "<a href=\"https://colab.research.google.com/github/ijazahmad-star/Colab-Workspace/blob/main/oct%2020%202025/Multi_Agent_System_v1.ipynb\" target=\"_parent\"><img src=\"https://colab.research.google.com/assets/colab-badge.svg\" alt=\"Open In Colab\"/></a>"
      ]
    },
    {
      "cell_type": "code",
      "execution_count": null,
      "metadata": {
        "colab": {
          "base_uri": "https://localhost:8080/",
          "height": 1000
        },
        "id": "0VZkcHmwXOCs",
        "outputId": "91356267-9ffa-4ccb-a72f-65d3274cd170",
        "collapsed": true
      },
      "outputs": [
        {
          "output_type": "stream",
          "name": "stdout",
          "text": [
            "Collecting langchain_google_genai\n",
            "  Downloading langchain_google_genai-3.0.0-py3-none-any.whl.metadata (7.1 kB)\n",
            "Collecting langgraph\n",
            "  Downloading langgraph-1.0.0-py3-none-any.whl.metadata (7.4 kB)\n",
            "Collecting langchain-core<2.0.0,>=1.0.0 (from langchain_google_genai)\n",
            "  Downloading langchain_core-1.0.0-py3-none-any.whl.metadata (3.4 kB)\n",
            "Collecting google-ai-generativelanguage<1.0.0,>=0.7.0 (from langchain_google_genai)\n",
            "  Downloading google_ai_generativelanguage-0.8.0-py3-none-any.whl.metadata (10 kB)\n",
            "Requirement already satisfied: pydantic<3.0.0,>=2.0.0 in /usr/local/lib/python3.12/dist-packages (from langchain_google_genai) (2.11.10)\n",
            "Collecting filetype<2.0.0,>=1.2.0 (from langchain_google_genai)\n",
            "  Downloading filetype-1.2.0-py2.py3-none-any.whl.metadata (6.5 kB)\n",
            "Collecting langgraph-checkpoint<3.0.0,>=2.1.0 (from langgraph)\n",
            "  Downloading langgraph_checkpoint-2.1.2-py3-none-any.whl.metadata (4.2 kB)\n",
            "Collecting langgraph-prebuilt<1.1.0,>=1.0.0 (from langgraph)\n",
            "  Downloading langgraph_prebuilt-1.0.0-py3-none-any.whl.metadata (5.0 kB)\n",
            "Collecting langgraph-sdk<0.3.0,>=0.2.2 (from langgraph)\n",
            "  Downloading langgraph_sdk-0.2.9-py3-none-any.whl.metadata (1.5 kB)\n",
            "Requirement already satisfied: xxhash>=3.5.0 in /usr/local/lib/python3.12/dist-packages (from langgraph) (3.6.0)\n",
            "Requirement already satisfied: google-api-core!=2.0.*,!=2.1.*,!=2.10.*,!=2.2.*,!=2.3.*,!=2.4.*,!=2.5.*,!=2.6.*,!=2.7.*,!=2.8.*,!=2.9.*,<3.0.0,>=1.34.1 in /usr/local/lib/python3.12/dist-packages (from google-api-core[grpc]!=2.0.*,!=2.1.*,!=2.10.*,!=2.2.*,!=2.3.*,!=2.4.*,!=2.5.*,!=2.6.*,!=2.7.*,!=2.8.*,!=2.9.*,<3.0.0,>=1.34.1->google-ai-generativelanguage<1.0.0,>=0.7.0->langchain_google_genai) (2.26.0)\n",
            "Requirement already satisfied: google-auth!=2.24.0,!=2.25.0,<3.0.0,>=2.14.1 in /usr/local/lib/python3.12/dist-packages (from google-ai-generativelanguage<1.0.0,>=0.7.0->langchain_google_genai) (2.38.0)\n",
            "Requirement already satisfied: grpcio<2.0.0,>=1.33.2 in /usr/local/lib/python3.12/dist-packages (from google-ai-generativelanguage<1.0.0,>=0.7.0->langchain_google_genai) (1.75.1)\n",
            "Requirement already satisfied: proto-plus<2.0.0,>=1.22.3 in /usr/local/lib/python3.12/dist-packages (from google-ai-generativelanguage<1.0.0,>=0.7.0->langchain_google_genai) (1.26.1)\n",
            "Requirement already satisfied: protobuf!=4.21.0,!=4.21.1,!=4.21.2,!=4.21.3,!=4.21.4,!=4.21.5,<7.0.0,>=3.20.2 in /usr/local/lib/python3.12/dist-packages (from google-ai-generativelanguage<1.0.0,>=0.7.0->langchain_google_genai) (5.29.5)\n",
            "Requirement already satisfied: jsonpatch<2.0.0,>=1.33.0 in /usr/local/lib/python3.12/dist-packages (from langchain-core<2.0.0,>=1.0.0->langchain_google_genai) (1.33)\n",
            "Requirement already satisfied: langsmith<1.0.0,>=0.3.45 in /usr/local/lib/python3.12/dist-packages (from langchain-core<2.0.0,>=1.0.0->langchain_google_genai) (0.4.35)\n",
            "Requirement already satisfied: packaging<26.0.0,>=23.2.0 in /usr/local/lib/python3.12/dist-packages (from langchain-core<2.0.0,>=1.0.0->langchain_google_genai) (25.0)\n",
            "Requirement already satisfied: pyyaml<7.0.0,>=5.3.0 in /usr/local/lib/python3.12/dist-packages (from langchain-core<2.0.0,>=1.0.0->langchain_google_genai) (6.0.3)\n",
            "Requirement already satisfied: tenacity!=8.4.0,<10.0.0,>=8.1.0 in /usr/local/lib/python3.12/dist-packages (from langchain-core<2.0.0,>=1.0.0->langchain_google_genai) (8.5.0)\n",
            "Requirement already satisfied: typing-extensions<5.0.0,>=4.7.0 in /usr/local/lib/python3.12/dist-packages (from langchain-core<2.0.0,>=1.0.0->langchain_google_genai) (4.15.0)\n",
            "Collecting ormsgpack>=1.10.0 (from langgraph-checkpoint<3.0.0,>=2.1.0->langgraph)\n",
            "  Downloading ormsgpack-1.11.0-cp312-cp312-manylinux_2_17_x86_64.manylinux2014_x86_64.whl.metadata (1.2 kB)\n",
            "Requirement already satisfied: httpx>=0.25.2 in /usr/local/lib/python3.12/dist-packages (from langgraph-sdk<0.3.0,>=0.2.2->langgraph) (0.28.1)\n",
            "Requirement already satisfied: orjson>=3.10.1 in /usr/local/lib/python3.12/dist-packages (from langgraph-sdk<0.3.0,>=0.2.2->langgraph) (3.11.3)\n",
            "Requirement already satisfied: annotated-types>=0.6.0 in /usr/local/lib/python3.12/dist-packages (from pydantic<3.0.0,>=2.0.0->langchain_google_genai) (0.7.0)\n",
            "Requirement already satisfied: pydantic-core==2.33.2 in /usr/local/lib/python3.12/dist-packages (from pydantic<3.0.0,>=2.0.0->langchain_google_genai) (2.33.2)\n",
            "Requirement already satisfied: typing-inspection>=0.4.0 in /usr/local/lib/python3.12/dist-packages (from pydantic<3.0.0,>=2.0.0->langchain_google_genai) (0.4.2)\n",
            "Requirement already satisfied: googleapis-common-protos<2.0.0,>=1.56.2 in /usr/local/lib/python3.12/dist-packages (from google-api-core!=2.0.*,!=2.1.*,!=2.10.*,!=2.2.*,!=2.3.*,!=2.4.*,!=2.5.*,!=2.6.*,!=2.7.*,!=2.8.*,!=2.9.*,<3.0.0,>=1.34.1->google-api-core[grpc]!=2.0.*,!=2.1.*,!=2.10.*,!=2.2.*,!=2.3.*,!=2.4.*,!=2.5.*,!=2.6.*,!=2.7.*,!=2.8.*,!=2.9.*,<3.0.0,>=1.34.1->google-ai-generativelanguage<1.0.0,>=0.7.0->langchain_google_genai) (1.70.0)\n",
            "Requirement already satisfied: requests<3.0.0,>=2.18.0 in /usr/local/lib/python3.12/dist-packages (from google-api-core!=2.0.*,!=2.1.*,!=2.10.*,!=2.2.*,!=2.3.*,!=2.4.*,!=2.5.*,!=2.6.*,!=2.7.*,!=2.8.*,!=2.9.*,<3.0.0,>=1.34.1->google-api-core[grpc]!=2.0.*,!=2.1.*,!=2.10.*,!=2.2.*,!=2.3.*,!=2.4.*,!=2.5.*,!=2.6.*,!=2.7.*,!=2.8.*,!=2.9.*,<3.0.0,>=1.34.1->google-ai-generativelanguage<1.0.0,>=0.7.0->langchain_google_genai) (2.32.4)\n",
            "Requirement already satisfied: grpcio-status<2.0.0,>=1.33.2 in /usr/local/lib/python3.12/dist-packages (from google-api-core[grpc]!=2.0.*,!=2.1.*,!=2.10.*,!=2.2.*,!=2.3.*,!=2.4.*,!=2.5.*,!=2.6.*,!=2.7.*,!=2.8.*,!=2.9.*,<3.0.0,>=1.34.1->google-ai-generativelanguage<1.0.0,>=0.7.0->langchain_google_genai) (1.71.2)\n",
            "Requirement already satisfied: cachetools<6.0,>=2.0.0 in /usr/local/lib/python3.12/dist-packages (from google-auth!=2.24.0,!=2.25.0,<3.0.0,>=2.14.1->google-ai-generativelanguage<1.0.0,>=0.7.0->langchain_google_genai) (5.5.2)\n",
            "Requirement already satisfied: pyasn1-modules>=0.2.1 in /usr/local/lib/python3.12/dist-packages (from google-auth!=2.24.0,!=2.25.0,<3.0.0,>=2.14.1->google-ai-generativelanguage<1.0.0,>=0.7.0->langchain_google_genai) (0.4.2)\n",
            "Requirement already satisfied: rsa<5,>=3.1.4 in /usr/local/lib/python3.12/dist-packages (from google-auth!=2.24.0,!=2.25.0,<3.0.0,>=2.14.1->google-ai-generativelanguage<1.0.0,>=0.7.0->langchain_google_genai) (4.9.1)\n",
            "Requirement already satisfied: anyio in /usr/local/lib/python3.12/dist-packages (from httpx>=0.25.2->langgraph-sdk<0.3.0,>=0.2.2->langgraph) (4.11.0)\n",
            "Requirement already satisfied: certifi in /usr/local/lib/python3.12/dist-packages (from httpx>=0.25.2->langgraph-sdk<0.3.0,>=0.2.2->langgraph) (2025.10.5)\n",
            "Requirement already satisfied: httpcore==1.* in /usr/local/lib/python3.12/dist-packages (from httpx>=0.25.2->langgraph-sdk<0.3.0,>=0.2.2->langgraph) (1.0.9)\n",
            "Requirement already satisfied: idna in /usr/local/lib/python3.12/dist-packages (from httpx>=0.25.2->langgraph-sdk<0.3.0,>=0.2.2->langgraph) (3.11)\n",
            "Requirement already satisfied: h11>=0.16 in /usr/local/lib/python3.12/dist-packages (from httpcore==1.*->httpx>=0.25.2->langgraph-sdk<0.3.0,>=0.2.2->langgraph) (0.16.0)\n",
            "Requirement already satisfied: jsonpointer>=1.9 in /usr/local/lib/python3.12/dist-packages (from jsonpatch<2.0.0,>=1.33.0->langchain-core<2.0.0,>=1.0.0->langchain_google_genai) (3.0.0)\n",
            "Requirement already satisfied: requests-toolbelt>=1.0.0 in /usr/local/lib/python3.12/dist-packages (from langsmith<1.0.0,>=0.3.45->langchain-core<2.0.0,>=1.0.0->langchain_google_genai) (1.0.0)\n",
            "Requirement already satisfied: zstandard>=0.23.0 in /usr/local/lib/python3.12/dist-packages (from langsmith<1.0.0,>=0.3.45->langchain-core<2.0.0,>=1.0.0->langchain_google_genai) (0.25.0)\n",
            "Requirement already satisfied: pyasn1<0.7.0,>=0.6.1 in /usr/local/lib/python3.12/dist-packages (from pyasn1-modules>=0.2.1->google-auth!=2.24.0,!=2.25.0,<3.0.0,>=2.14.1->google-ai-generativelanguage<1.0.0,>=0.7.0->langchain_google_genai) (0.6.1)\n",
            "Requirement already satisfied: charset_normalizer<4,>=2 in /usr/local/lib/python3.12/dist-packages (from requests<3.0.0,>=2.18.0->google-api-core!=2.0.*,!=2.1.*,!=2.10.*,!=2.2.*,!=2.3.*,!=2.4.*,!=2.5.*,!=2.6.*,!=2.7.*,!=2.8.*,!=2.9.*,<3.0.0,>=1.34.1->google-api-core[grpc]!=2.0.*,!=2.1.*,!=2.10.*,!=2.2.*,!=2.3.*,!=2.4.*,!=2.5.*,!=2.6.*,!=2.7.*,!=2.8.*,!=2.9.*,<3.0.0,>=1.34.1->google-ai-generativelanguage<1.0.0,>=0.7.0->langchain_google_genai) (3.4.4)\n",
            "Requirement already satisfied: urllib3<3,>=1.21.1 in /usr/local/lib/python3.12/dist-packages (from requests<3.0.0,>=2.18.0->google-api-core!=2.0.*,!=2.1.*,!=2.10.*,!=2.2.*,!=2.3.*,!=2.4.*,!=2.5.*,!=2.6.*,!=2.7.*,!=2.8.*,!=2.9.*,<3.0.0,>=1.34.1->google-api-core[grpc]!=2.0.*,!=2.1.*,!=2.10.*,!=2.2.*,!=2.3.*,!=2.4.*,!=2.5.*,!=2.6.*,!=2.7.*,!=2.8.*,!=2.9.*,<3.0.0,>=1.34.1->google-ai-generativelanguage<1.0.0,>=0.7.0->langchain_google_genai) (2.5.0)\n",
            "Requirement already satisfied: sniffio>=1.1 in /usr/local/lib/python3.12/dist-packages (from anyio->httpx>=0.25.2->langgraph-sdk<0.3.0,>=0.2.2->langgraph) (1.3.1)\n",
            "Downloading langchain_google_genai-3.0.0-py3-none-any.whl (57 kB)\n",
            "\u001b[2K   \u001b[90m━━━━━━━━━━━━━━━━━━━━━━━━━━━━━━━━━━━━━━━━\u001b[0m \u001b[32m57.8/57.8 kB\u001b[0m \u001b[31m1.9 MB/s\u001b[0m eta \u001b[36m0:00:00\u001b[0m\n",
            "\u001b[?25hDownloading langgraph-1.0.0-py3-none-any.whl (155 kB)\n",
            "\u001b[2K   \u001b[90m━━━━━━━━━━━━━━━━━━━━━━━━━━━━━━━━━━━━━━━━\u001b[0m \u001b[32m155.4/155.4 kB\u001b[0m \u001b[31m4.8 MB/s\u001b[0m eta \u001b[36m0:00:00\u001b[0m\n",
            "\u001b[?25hDownloading filetype-1.2.0-py2.py3-none-any.whl (19 kB)\n",
            "Downloading google_ai_generativelanguage-0.8.0-py3-none-any.whl (1.4 MB)\n",
            "\u001b[2K   \u001b[90m━━━━━━━━━━━━━━━━━━━━━━━━━━━━━━━━━━━━━━━━\u001b[0m \u001b[32m1.4/1.4 MB\u001b[0m \u001b[31m21.2 MB/s\u001b[0m eta \u001b[36m0:00:00\u001b[0m\n",
            "\u001b[?25hDownloading langchain_core-1.0.0-py3-none-any.whl (467 kB)\n",
            "\u001b[2K   \u001b[90m━━━━━━━━━━━━━━━━━━━━━━━━━━━━━━━━━━━━━━━━\u001b[0m \u001b[32m467.2/467.2 kB\u001b[0m \u001b[31m19.2 MB/s\u001b[0m eta \u001b[36m0:00:00\u001b[0m\n",
            "\u001b[?25hDownloading langgraph_checkpoint-2.1.2-py3-none-any.whl (45 kB)\n",
            "\u001b[2K   \u001b[90m━━━━━━━━━━━━━━━━━━━━━━━━━━━━━━━━━━━━━━━━\u001b[0m \u001b[32m45.8/45.8 kB\u001b[0m \u001b[31m1.9 MB/s\u001b[0m eta \u001b[36m0:00:00\u001b[0m\n",
            "\u001b[?25hDownloading langgraph_prebuilt-1.0.0-py3-none-any.whl (28 kB)\n",
            "Downloading langgraph_sdk-0.2.9-py3-none-any.whl (56 kB)\n",
            "\u001b[2K   \u001b[90m━━━━━━━━━━━━━━━━━━━━━━━━━━━━━━━━━━━━━━━━\u001b[0m \u001b[32m56.8/56.8 kB\u001b[0m \u001b[31m2.7 MB/s\u001b[0m eta \u001b[36m0:00:00\u001b[0m\n",
            "\u001b[?25hDownloading ormsgpack-1.11.0-cp312-cp312-manylinux_2_17_x86_64.manylinux2014_x86_64.whl (207 kB)\n",
            "\u001b[2K   \u001b[90m━━━━━━━━━━━━━━━━━━━━━━━━━━━━━━━━━━━━━━━━\u001b[0m \u001b[32m207.6/207.6 kB\u001b[0m \u001b[31m8.5 MB/s\u001b[0m eta \u001b[36m0:00:00\u001b[0m\n",
            "\u001b[?25hInstalling collected packages: filetype, ormsgpack, langgraph-sdk, langchain-core, langgraph-checkpoint, google-ai-generativelanguage, langgraph-prebuilt, langchain_google_genai, langgraph\n",
            "  Attempting uninstall: langchain-core\n",
            "    Found existing installation: langchain-core 0.3.79\n",
            "    Uninstalling langchain-core-0.3.79:\n",
            "      Successfully uninstalled langchain-core-0.3.79\n",
            "  Attempting uninstall: google-ai-generativelanguage\n",
            "    Found existing installation: google-ai-generativelanguage 0.6.15\n",
            "    Uninstalling google-ai-generativelanguage-0.6.15:\n",
            "      Successfully uninstalled google-ai-generativelanguage-0.6.15\n",
            "\u001b[31mERROR: pip's dependency resolver does not currently take into account all the packages that are installed. This behaviour is the source of the following dependency conflicts.\n",
            "langchain 0.3.27 requires langchain-core<1.0.0,>=0.3.72, but you have langchain-core 1.0.0 which is incompatible.\n",
            "google-generativeai 0.8.5 requires google-ai-generativelanguage==0.6.15, but you have google-ai-generativelanguage 0.8.0 which is incompatible.\u001b[0m\u001b[31m\n",
            "\u001b[0mSuccessfully installed filetype-1.2.0 google-ai-generativelanguage-0.8.0 langchain-core-1.0.0 langchain_google_genai-3.0.0 langgraph-1.0.0 langgraph-checkpoint-2.1.2 langgraph-prebuilt-1.0.0 langgraph-sdk-0.2.9 ormsgpack-1.11.0\n"
          ]
        },
        {
          "output_type": "display_data",
          "data": {
            "application/vnd.colab-display-data+json": {
              "pip_warning": {
                "packages": [
                  "google"
                ]
              },
              "id": "62810d0d1ae146d1a5504c8e67aa3a02"
            }
          },
          "metadata": {}
        }
      ],
      "source": [
        "!pip install langchain_google_genai langgraph"
      ]
    },
    {
      "cell_type": "code",
      "source": [
        "from google.colab import userdata\n",
        "api_key = userdata.get('GOOGLE_API_KEY')"
      ],
      "metadata": {
        "id": "fsixGbHeXaZX"
      },
      "execution_count": null,
      "outputs": []
    },
    {
      "cell_type": "code",
      "source": [
        "from typing import Annotated, TypedDict\n",
        "from langchain_core.messages import HumanMessage, SystemMessage, AnyMessage\n",
        "from langchain_google_genai import ChatGoogleGenerativeAI\n",
        "from langgraph.graph import StateGraph, START, END\n",
        "import operator, json, os\n",
        "\n",
        "from IPython.display import Image, display\n",
        "from pydantic import BaseModel, Field\n",
        "from typing import Literal\n"
      ],
      "metadata": {
        "id": "pDvbgLMKXaW9"
      },
      "execution_count": null,
      "outputs": []
    },
    {
      "cell_type": "code",
      "source": [
        "from typing import TypedDict, Literal\n",
        "from pydantic import BaseModel, Field\n",
        "from langgraph.graph import StateGraph, START, END\n",
        "from langchain_google_genai import ChatGoogleGenerativeAI\n",
        "\n",
        "class State(TypedDict):\n",
        "    topic: str\n",
        "    content: str\n",
        "    feedback: str\n",
        "    quality: str\n"
      ],
      "metadata": {
        "id": "_OCd0GUkeHKo"
      },
      "execution_count": null,
      "outputs": []
    },
    {
      "cell_type": "code",
      "source": [
        "class Feedback(BaseModel):\n",
        "    quality: Literal[\"good\", \"bad\"] = Field(\n",
        "        description=\"Decide if the generated content is good or needs improvement.\",\n",
        "    )\n",
        "    feedback: str = Field(\n",
        "        description=\"If the content is bad, provide feedback on how to improve it.\",\n",
        "    )\n",
        "\n",
        "llm = ChatGoogleGenerativeAI(\n",
        "    model=\"gemini-2.5-flash\",\n",
        "    temperature=0.3,\n",
        "    google_api_key=api_key,\n",
        ")\n",
        "\n",
        "evaluator = llm.with_structured_output(Feedback)\n"
      ],
      "metadata": {
        "id": "o7ixnKF_eHHz"
      },
      "execution_count": null,
      "outputs": []
    },
    {
      "cell_type": "code",
      "source": [
        "def llm_call_generator(state: State):\n",
        "    \"\"\"Generate or improve content.\"\"\"\n",
        "    if state.get(\"feedback\"):\n",
        "        msg = llm.invoke(\n",
        "            f\"Write improved content about '{state['topic']}' considering this feedback: {state['feedback']}\"\n",
        "        )\n",
        "    else:\n",
        "        msg = llm.invoke(f\"Create a content about '{state['topic']}'\")\n",
        "    return {\"content\": msg.content}\n",
        "\n",
        "\n",
        "def llm_call_evaluator(state: State):\n",
        "    \"\"\"Evaluate the content and provide structured feedback.\"\"\"\n",
        "    grade = evaluator.invoke(f\"Evaluate this content: {state['content']}\")\n",
        "    return {\"quality\": grade.quality, \"feedback\": grade.feedback}\n",
        "\n",
        "\n",
        "def route_content(state: State):\n",
        "    \"\"\"Route based on evaluation result.\"\"\"\n",
        "    if state[\"quality\"] == \"good\":\n",
        "        return \"Accepted\"\n",
        "    elif state[\"quality\"] == \"bad\":\n",
        "        return \"Needs Improvement\"\n"
      ],
      "metadata": {
        "id": "M0Z-h8jjeHDS"
      },
      "execution_count": null,
      "outputs": []
    },
    {
      "cell_type": "code",
      "source": [
        "builder = StateGraph(State)\n",
        "\n",
        "builder.add_node(\"llm_call_generator\", llm_call_generator)\n",
        "builder.add_node(\"llm_call_evaluator\", llm_call_evaluator)\n",
        "\n",
        "builder.add_edge(START, \"llm_call_generator\")\n",
        "builder.add_edge(\"llm_call_generator\", \"llm_call_evaluator\")\n",
        "\n",
        "builder.add_conditional_edges(\n",
        "    \"llm_call_evaluator\",\n",
        "    route_content,\n",
        "    {\n",
        "        \"Accepted\": END,\n",
        "        \"Needs Improvement\": \"llm_call_generator\",\n",
        "    },\n",
        ")\n",
        "\n",
        "workflow = builder.compile()\n"
      ],
      "metadata": {
        "id": "PMWdz8SseHA_"
      },
      "execution_count": null,
      "outputs": []
    },
    {
      "cell_type": "code",
      "source": [
        "display(Image(workflow.get_graph().draw_mermaid_png()))"
      ],
      "metadata": {
        "colab": {
          "base_uri": "https://localhost:8080/",
          "height": 398
        },
        "id": "bUiL1aI3e11W",
        "outputId": "8d111a51-d786-427b-f205-215dccecb8e7"
      },
      "execution_count": null,
      "outputs": [
        {
          "output_type": "display_data",
          "data": {
            "image/png": "[encoded data removed]",
            "text/plain": [
              "<IPython.core.display.Image object>"
            ]
          },
          "metadata": {}
        }
      ]
    },
    {
      "cell_type": "code",
      "source": [
        "state = workflow.invoke({\"topic\": \"AI for mental health awareness\"})\n",
        "print(\"\\n Final Improved Content:\\n\")\n",
        "print(state[\"content\"])\n",
        "print(\"\\n Feedback:\", state[\"feedback\"])\n"
      ],
      "metadata": {
        "colab": {
          "base_uri": "https://localhost:8080/"
        },
        "id": "40STRUlBeG-d",
        "outputId": "fba72f58-1d0e-4c8e-b7ca-3f4b04c492b6"
      },
      "execution_count": null,
      "outputs": [
        {
          "output_type": "stream",
          "name": "stdout",
          "text": [
            "\n",
            " Final Improved Content:\n",
            "\n",
            "## The AI Ally: Boosting Mental Health Awareness in the Digital Age\n",
            "\n",
            "Mental health is no longer a whispered secret; it's a global conversation, a critical component of overall well-being. Yet, stigma, lack of access, and misinformation continue to be significant barriers. Enter Artificial Intelligence (AI) – a powerful, evolving ally that's not just revolutionizing treatment, but also playing a crucial role in **boosting mental health awareness**.\n",
            "\n",
            "Far from replacing human connection, AI is emerging as a sophisticated tool to democratize information, personalize support, and foster a more open, understanding environment around mental health. Here's how:\n",
            "\n",
            "---\n",
            "\n",
            "### 1. Breaking Down Stigma & Fostering Openness\n",
            "\n",
            "One of AI's most profound contributions to awareness is its ability to create a safe, anonymous space for exploration.\n",
            "\n",
            "*   **Judgment-Free Zones:** AI-powered chatbots and virtual assistants offer a non-judgmental platform where individuals can articulate their feelings, ask questions, and explore symptoms without fear of social repercussions. This initial, private interaction can be a crucial first step for someone hesitant to speak to a human.\n",
            "*   **Normalizing Conversations:** By making mental health information and preliminary support readily available, AI helps to normalize the act of seeking help and discussing emotional well-being, slowly chipping away at the stigma.\n",
            "\n",
            "### 2. Personalized Information & Education\n",
            "\n",
            "The \"one-size-fits-all\" approach rarely works in mental health. AI excels at personalization.\n",
            "\n",
            "*   **Tailored Content:** AI algorithms can analyze user interactions, preferences, and expressed concerns to deliver highly relevant articles, videos, and resources. If someone is researching anxiety, AI can provide tailored information about its symptoms, coping mechanisms, and local support groups.\n",
            "*   **Understanding Symptoms:** AI-driven tools can help individuals better understand their own emotional states and potential symptoms by providing clear, accessible explanations of various conditions, helping them recognize when professional help might be beneficial.\n",
            "\n",
            "### 3. Early Detection & Risk Assessment\n",
            "\n",
            "Awareness isn't just about knowing what mental health is; it's about recognizing when it's impacting *you* or someone you know.\n",
            "\n",
            "*   **Pattern Recognition (with Consent):** With user consent, AI can analyze patterns in digital behavior (e.g., language used in journaling apps, sleep patterns from wearables) to identify subtle shifts that might indicate a decline in mental well-being. This isn't about surveillance, but about offering timely, proactive prompts for self-reflection or professional consultation.\n",
            "*   **Proactive Outreach:** In controlled, ethical environments, AI can flag potential risk factors and, with appropriate safeguards, suggest resources or encourage users to connect with a human professional before a crisis escalates.\n",
            "\n",
            "### 4. Accessible Resources & Support, 24/7\n",
            "\n",
            "Access to mental health support remains a significant challenge globally. AI helps bridge this gap.\n",
            "\n",
            "*   **Always-On Support:** AI chatbots and virtual companions offer 24/7 availability, providing immediate support and information, especially crucial during off-hours or in areas with limited mental health services.\n",
            "*   **Overcoming Barriers:** For individuals in remote areas, those with mobility issues, or those facing financial constraints, AI tools can be a vital first point of contact, offering guidance on where to find affordable or free resources.\n",
            "\n",
            "### 5. Data-Driven Insights for Public Health\n",
            "\n",
            "Beyond individual support, AI can provide a macro-level understanding of mental health trends.\n",
            "\n",
            "*   **Identifying Trends:** By analyzing large, anonymized datasets (e.g., search queries, social media sentiment – ethically and with privacy in mind), AI can identify emerging mental health concerns, geographical hotspots, or specific demographics at higher risk.\n",
            "*   **Informing Policy & Campaigns:** These insights can empower public health organizations and policymakers to design more targeted, effective awareness campaigns and allocate resources where they are most needed.\n",
            "\n",
            "---\n",
            "\n",
            "### The Human Element Remains Paramount\n",
            "\n",
            "It's crucial to remember that AI is a powerful *tool*, not a replacement for human empathy, professional therapy, or genuine connection. Its role in mental health awareness is to:\n",
            "\n",
            "*   **Educate and inform.**\n",
            "*   **Reduce initial barriers to seeking help.**\n",
            "*   **Provide accessible, preliminary support.**\n",
            "*   **Offer data-driven insights for broader impact.**\n",
            "\n",
            "As AI continues to evolve, its potential to amplify mental health awareness, foster understanding, and guide individuals towards the right support is immense. By embracing this technology responsibly and ethically, we can build a future where mental well-being is prioritized, understood, and openly discussed by everyone.\n",
            "\n",
            "---\n",
            "\n",
            "**#AIForeMentalHealth #MentalHealthAwareness #DigitalWellness #TechForGood #BreakTheStigma #AIinHealthcare #MentalHealthMatters**\n",
            "\n",
            " Feedback: \n"
          ]
        }
      ]
    },
    {
      "cell_type": "code",
      "source": [
        "state = workflow.invoke({\"topic\": \"AI in School\"})\n",
        "print(\"\\n Final Improved Content:\\n\")\n",
        "print(state[\"content\"])\n",
        "print(\"\\n Feedback:\", state[\"feedback\"])"
      ],
      "metadata": {
        "colab": {
          "base_uri": "https://localhost:8080/"
        },
        "id": "xsoBZui0dEfL",
        "outputId": "d14c717f-3ccf-4bd8-8b6e-16e459da1443"
      },
      "execution_count": null,
      "outputs": [
        {
          "output_type": "stream",
          "name": "stdout",
          "text": [
            "\n",
            " Final Improved Content:\n",
            "\n",
            "## AI in School: Unlocking Potential, Navigating the Future of Learning\n",
            "\n",
            "The classroom is changing. From chalkboards to smartboards, education has always evolved with technology. Today, a new, powerful force is entering the learning landscape: Artificial Intelligence (AI). Far from being a futuristic concept, AI is already here, and its integration into schools promises to revolutionize how we teach, learn, and prepare students for the world ahead.\n",
            "\n",
            "But like any powerful tool, AI in school comes with both immense potential and significant challenges.\n",
            "\n",
            "---\n",
            "\n",
            "### The Promise: How AI Can Transform Learning\n",
            "\n",
            "Imagine a learning environment perfectly tailored to each student. That's the core promise of AI in education:\n",
            "\n",
            "1.  **Personalized Learning Paths:** AI can analyze a student's learning style, pace, strengths, and weaknesses. It can then recommend customized resources, exercises, and even entire curricula, ensuring every student receives the support they need to thrive.\n",
            "    *   *Example:* An AI tutor that adapts its explanations based on a student's previous answers, or a platform that suggests advanced challenges to a student who has mastered a concept quickly.\n",
            "\n",
            "2.  **Automating Administrative Tasks:** Teachers spend countless hours on grading, attendance, scheduling, and feedback. AI can automate many of these mundane tasks, freeing up educators to focus on what they do best: teaching, mentoring, and building relationships with students.\n",
            "    *   *Example:* AI-powered tools that provide instant feedback on essays, grade multiple-choice quizzes, or even help schedule parent-teacher conferences.\n",
            "\n",
            "3.  **Enhanced Accessibility & Inclusivity:** AI can break down barriers for students with diverse needs. Translation tools, text-to-speech, speech-to-text, and adaptive interfaces can make learning materials accessible to everyone.\n",
            "    *   *Example:* AI that translates lessons into a student's native language in real-time, or tools that describe images for visually impaired students.\n",
            "\n",
            "4.  **New Learning Experiences:** AI can power immersive simulations, interactive learning games, and virtual field trips, making complex subjects more engaging and understandable.\n",
            "    *   *Example:* Virtual reality experiences powered by AI that allow students to explore ancient civilizations or conduct virtual science experiments.\n",
            "\n",
            "5.  **Preparing for the Future Workforce:** AI literacy isn't just about using AI; it's about understanding how it works, its ethical implications, and how to collaborate with it. Integrating AI into schools helps students develop critical skills for a world increasingly shaped by AI.\n",
            "\n",
            "---\n",
            "\n",
            "### Navigating the Challenges: What We Need to Address\n",
            "\n",
            "While the potential is exciting, a thoughtful approach is crucial to mitigate the risks:\n",
            "\n",
            "1.  **Academic Integrity & Plagiarism:** The rise of generative AI (like ChatGPT) presents new challenges for assessing student work. How do we ensure students are learning and not just outsourcing their thinking to AI?\n",
            "    *   *Solution:* Redesigning assignments to focus on critical thinking, analysis, and application rather than rote memorization; teaching students how to ethically use AI as a tool, not a crutch.\n",
            "\n",
            "2.  **Bias & Equity:** AI systems are only as unbiased as the data they're trained on. If not carefully managed, AI could perpetuate or even amplify existing biases, leading to unfair outcomes for certain student groups.\n",
            "    *   *Solution:* Careful selection and auditing of AI tools, ensuring diverse data sets, and promoting critical AI literacy among students and educators.\n",
            "\n",
            "3.  **Data Privacy & Security:** AI tools often collect vast amounts of student data. Protecting this sensitive information from breaches and misuse is paramount.\n",
            "    *   *Solution:* Strict adherence to data privacy regulations (like FERPA or GDPR), transparent policies, and secure platforms.\n",
            "\n",
            "4.  **The Human Element & Critical Thinking:** Over-reliance on AI could potentially diminish students' critical thinking, problem-solving, and creative skills if not balanced with human-led instruction. The irreplaceable role of human connection, empathy, and mentorship must be preserved.\n",
            "    *   *Solution:* Emphasizing AI as a *tool* to augment human intelligence, not replace it; designing curricula that foster higher-order thinking skills that AI cannot replicate.\n",
            "\n",
            "5.  **Teacher Training & Support:** Educators need comprehensive training to understand AI, integrate it effectively into their teaching, and guide students in its responsible use. Without this, AI tools may sit unused or be misused.\n",
            "\n",
            "---\n",
            "\n",
            "### Strategies for a Responsible Integration\n",
            "\n",
            "For AI to truly benefit education, we need a proactive and thoughtful strategy:\n",
            "\n",
            "*   **Develop Clear Policies:** Schools and districts need clear guidelines for the ethical use of AI by both students and teachers.\n",
            "*   **Foster AI Literacy:** Teach students *about* AI – how it works, its limitations, its ethical implications, and how to use it as a productive tool.\n",
            "*   **Prioritize Ethical Use:** Emphasize fairness, transparency, and accountability in all AI applications within the school environment.\n",
            "*   **Invest in Teacher Professional Development:** Equip educators with the knowledge and skills to leverage AI effectively and confidently.\n",
            "*   **Maintain the Human Touch:** Always remember that AI is a tool to support and enhance the invaluable role of human teachers and the unique social-emotional aspects of learning.\n",
            "\n",
            "---\n",
            "\n",
            "### The Future is Now\n",
            "\n",
            "AI in school is not a question of \"if,\" but \"how.\" By embracing its potential with open eyes and a commitment to ethical, equitable, and effective implementation, we can harness AI to create richer, more engaging, and truly personalized learning experiences for every student. The goal isn't to replace the magic of human teaching, but to amplify it, preparing a generation ready to thrive in an AI-powered world.\n",
            "\n",
            " Feedback: The content is well-structured, comprehensive, and provides a balanced perspective on AI in education, covering both its potential and challenges with clear examples and actionable strategies.\n"
          ]
        }
      ]
    },
    {
      "cell_type": "code",
      "source": [],
      "metadata": {
        "id": "1xMH4Fftf4gm"
      },
      "execution_count": null,
      "outputs": []
    }
  ]
}