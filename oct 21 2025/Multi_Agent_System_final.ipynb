{
  "nbformat": 4,
  "nbformat_minor": 0,
  "metadata": {
    "colab": {
      "provenance": [],
      "authorship_tag": "ABX9TyOeWYpoHC12mqIErSI3yLnG",
      "include_colab_link": true
    },
    "kernelspec": {
      "name": "python3",
      "display_name": "Python 3"
    },
    "language_info": {
      "name": "python"
    }
  },
  "cells": [
    {
      "cell_type": "markdown",
      "metadata": {
        "id": "view-in-github",
        "colab_type": "text"
      },
      "source": [
        "<a href=\"https://colab.research.google.com/github/ijazahmad-star/Colab-Workspace/blob/main/oct%2021%202025/Multi_Agent_System_final.ipynb\" target=\"_parent\"><img src=\"https://colab.research.google.com/assets/colab-badge.svg\" alt=\"Open In Colab\"/></a>"
      ]
    },
    {
      "cell_type": "code",
      "execution_count": 3,
      "metadata": {
        "colab": {
          "base_uri": "https://localhost:8080/",
          "height": 1000
        },
        "id": "0VZkcHmwXOCs",
        "outputId": "8cb3fc09-f92e-45a4-af4a-f15e7cb120b4"
      },
      "outputs": [
        {
          "output_type": "stream",
          "name": "stdout",
          "text": [
            "Collecting langchain_google_genai\n",
            "  Downloading langchain_google_genai-3.0.0-py3-none-any.whl.metadata (7.1 kB)\n",
            "Collecting langgraph\n",
            "  Downloading langgraph-1.0.1-py3-none-any.whl.metadata (7.4 kB)\n",
            "Collecting langchain-core<2.0.0,>=1.0.0 (from langchain_google_genai)\n",
            "  Downloading langchain_core-1.0.0-py3-none-any.whl.metadata (3.4 kB)\n",
            "Collecting google-ai-generativelanguage<1.0.0,>=0.7.0 (from langchain_google_genai)\n",
            "  Downloading google_ai_generativelanguage-0.9.0-py3-none-any.whl.metadata (10 kB)\n",
            "Requirement already satisfied: pydantic<3.0.0,>=2.0.0 in /usr/local/lib/python3.12/dist-packages (from langchain_google_genai) (2.11.10)\n",
            "Collecting filetype<2.0.0,>=1.2.0 (from langchain_google_genai)\n",
            "  Downloading filetype-1.2.0-py2.py3-none-any.whl.metadata (6.5 kB)\n",
            "Collecting langgraph-checkpoint<4.0.0,>=2.1.0 (from langgraph)\n",
            "  Downloading langgraph_checkpoint-3.0.0-py3-none-any.whl.metadata (4.2 kB)\n",
            "Collecting langgraph-prebuilt<1.1.0,>=1.0.0 (from langgraph)\n",
            "  Downloading langgraph_prebuilt-1.0.1-py3-none-any.whl.metadata (5.0 kB)\n",
            "Collecting langgraph-sdk<0.3.0,>=0.2.2 (from langgraph)\n",
            "  Downloading langgraph_sdk-0.2.9-py3-none-any.whl.metadata (1.5 kB)\n",
            "Requirement already satisfied: xxhash>=3.5.0 in /usr/local/lib/python3.12/dist-packages (from langgraph) (3.6.0)\n",
            "Requirement already satisfied: google-api-core!=2.0.*,!=2.1.*,!=2.10.*,!=2.2.*,!=2.3.*,!=2.4.*,!=2.5.*,!=2.6.*,!=2.7.*,!=2.8.*,!=2.9.*,<3.0.0,>=1.34.1 in /usr/local/lib/python3.12/dist-packages (from google-api-core[grpc]!=2.0.*,!=2.1.*,!=2.10.*,!=2.2.*,!=2.3.*,!=2.4.*,!=2.5.*,!=2.6.*,!=2.7.*,!=2.8.*,!=2.9.*,<3.0.0,>=1.34.1->google-ai-generativelanguage<1.0.0,>=0.7.0->langchain_google_genai) (2.26.0)\n",
            "Requirement already satisfied: google-auth!=2.24.0,!=2.25.0,<3.0.0,>=2.14.1 in /usr/local/lib/python3.12/dist-packages (from google-ai-generativelanguage<1.0.0,>=0.7.0->langchain_google_genai) (2.38.0)\n",
            "Requirement already satisfied: grpcio<2.0.0,>=1.33.2 in /usr/local/lib/python3.12/dist-packages (from google-ai-generativelanguage<1.0.0,>=0.7.0->langchain_google_genai) (1.75.1)\n",
            "Requirement already satisfied: proto-plus<2.0.0,>=1.22.3 in /usr/local/lib/python3.12/dist-packages (from google-ai-generativelanguage<1.0.0,>=0.7.0->langchain_google_genai) (1.26.1)\n",
            "Requirement already satisfied: protobuf!=4.21.0,!=4.21.1,!=4.21.2,!=4.21.3,!=4.21.4,!=4.21.5,<7.0.0,>=3.20.2 in /usr/local/lib/python3.12/dist-packages (from google-ai-generativelanguage<1.0.0,>=0.7.0->langchain_google_genai) (5.29.5)\n",
            "Requirement already satisfied: jsonpatch<2.0.0,>=1.33.0 in /usr/local/lib/python3.12/dist-packages (from langchain-core<2.0.0,>=1.0.0->langchain_google_genai) (1.33)\n",
            "Requirement already satisfied: langsmith<1.0.0,>=0.3.45 in /usr/local/lib/python3.12/dist-packages (from langchain-core<2.0.0,>=1.0.0->langchain_google_genai) (0.4.35)\n",
            "Requirement already satisfied: packaging<26.0.0,>=23.2.0 in /usr/local/lib/python3.12/dist-packages (from langchain-core<2.0.0,>=1.0.0->langchain_google_genai) (25.0)\n",
            "Requirement already satisfied: pyyaml<7.0.0,>=5.3.0 in /usr/local/lib/python3.12/dist-packages (from langchain-core<2.0.0,>=1.0.0->langchain_google_genai) (6.0.3)\n",
            "Requirement already satisfied: tenacity!=8.4.0,<10.0.0,>=8.1.0 in /usr/local/lib/python3.12/dist-packages (from langchain-core<2.0.0,>=1.0.0->langchain_google_genai) (8.5.0)\n",
            "Requirement already satisfied: typing-extensions<5.0.0,>=4.7.0 in /usr/local/lib/python3.12/dist-packages (from langchain-core<2.0.0,>=1.0.0->langchain_google_genai) (4.15.0)\n",
            "Collecting ormsgpack>=1.10.0 (from langgraph-checkpoint<4.0.0,>=2.1.0->langgraph)\n",
            "  Downloading ormsgpack-1.11.0-cp312-cp312-manylinux_2_17_x86_64.manylinux2014_x86_64.whl.metadata (1.2 kB)\n",
            "Requirement already satisfied: httpx>=0.25.2 in /usr/local/lib/python3.12/dist-packages (from langgraph-sdk<0.3.0,>=0.2.2->langgraph) (0.28.1)\n",
            "Requirement already satisfied: orjson>=3.10.1 in /usr/local/lib/python3.12/dist-packages (from langgraph-sdk<0.3.0,>=0.2.2->langgraph) (3.11.3)\n",
            "Requirement already satisfied: annotated-types>=0.6.0 in /usr/local/lib/python3.12/dist-packages (from pydantic<3.0.0,>=2.0.0->langchain_google_genai) (0.7.0)\n",
            "Requirement already satisfied: pydantic-core==2.33.2 in /usr/local/lib/python3.12/dist-packages (from pydantic<3.0.0,>=2.0.0->langchain_google_genai) (2.33.2)\n",
            "Requirement already satisfied: typing-inspection>=0.4.0 in /usr/local/lib/python3.12/dist-packages (from pydantic<3.0.0,>=2.0.0->langchain_google_genai) (0.4.2)\n",
            "Requirement already satisfied: googleapis-common-protos<2.0.0,>=1.56.2 in /usr/local/lib/python3.12/dist-packages (from google-api-core!=2.0.*,!=2.1.*,!=2.10.*,!=2.2.*,!=2.3.*,!=2.4.*,!=2.5.*,!=2.6.*,!=2.7.*,!=2.8.*,!=2.9.*,<3.0.0,>=1.34.1->google-api-core[grpc]!=2.0.*,!=2.1.*,!=2.10.*,!=2.2.*,!=2.3.*,!=2.4.*,!=2.5.*,!=2.6.*,!=2.7.*,!=2.8.*,!=2.9.*,<3.0.0,>=1.34.1->google-ai-generativelanguage<1.0.0,>=0.7.0->langchain_google_genai) (1.70.0)\n",
            "Requirement already satisfied: requests<3.0.0,>=2.18.0 in /usr/local/lib/python3.12/dist-packages (from google-api-core!=2.0.*,!=2.1.*,!=2.10.*,!=2.2.*,!=2.3.*,!=2.4.*,!=2.5.*,!=2.6.*,!=2.7.*,!=2.8.*,!=2.9.*,<3.0.0,>=1.34.1->google-api-core[grpc]!=2.0.*,!=2.1.*,!=2.10.*,!=2.2.*,!=2.3.*,!=2.4.*,!=2.5.*,!=2.6.*,!=2.7.*,!=2.8.*,!=2.9.*,<3.0.0,>=1.34.1->google-ai-generativelanguage<1.0.0,>=0.7.0->langchain_google_genai) (2.32.4)\n",
            "Requirement already satisfied: grpcio-status<2.0.0,>=1.33.2 in /usr/local/lib/python3.12/dist-packages (from google-api-core[grpc]!=2.0.*,!=2.1.*,!=2.10.*,!=2.2.*,!=2.3.*,!=2.4.*,!=2.5.*,!=2.6.*,!=2.7.*,!=2.8.*,!=2.9.*,<3.0.0,>=1.34.1->google-ai-generativelanguage<1.0.0,>=0.7.0->langchain_google_genai) (1.71.2)\n",
            "Requirement already satisfied: cachetools<6.0,>=2.0.0 in /usr/local/lib/python3.12/dist-packages (from google-auth!=2.24.0,!=2.25.0,<3.0.0,>=2.14.1->google-ai-generativelanguage<1.0.0,>=0.7.0->langchain_google_genai) (5.5.2)\n",
            "Requirement already satisfied: pyasn1-modules>=0.2.1 in /usr/local/lib/python3.12/dist-packages (from google-auth!=2.24.0,!=2.25.0,<3.0.0,>=2.14.1->google-ai-generativelanguage<1.0.0,>=0.7.0->langchain_google_genai) (0.4.2)\n",
            "Requirement already satisfied: rsa<5,>=3.1.4 in /usr/local/lib/python3.12/dist-packages (from google-auth!=2.24.0,!=2.25.0,<3.0.0,>=2.14.1->google-ai-generativelanguage<1.0.0,>=0.7.0->langchain_google_genai) (4.9.1)\n",
            "Requirement already satisfied: anyio in /usr/local/lib/python3.12/dist-packages (from httpx>=0.25.2->langgraph-sdk<0.3.0,>=0.2.2->langgraph) (4.11.0)\n",
            "Requirement already satisfied: certifi in /usr/local/lib/python3.12/dist-packages (from httpx>=0.25.2->langgraph-sdk<0.3.0,>=0.2.2->langgraph) (2025.10.5)\n",
            "Requirement already satisfied: httpcore==1.* in /usr/local/lib/python3.12/dist-packages (from httpx>=0.25.2->langgraph-sdk<0.3.0,>=0.2.2->langgraph) (1.0.9)\n",
            "Requirement already satisfied: idna in /usr/local/lib/python3.12/dist-packages (from httpx>=0.25.2->langgraph-sdk<0.3.0,>=0.2.2->langgraph) (3.11)\n",
            "Requirement already satisfied: h11>=0.16 in /usr/local/lib/python3.12/dist-packages (from httpcore==1.*->httpx>=0.25.2->langgraph-sdk<0.3.0,>=0.2.2->langgraph) (0.16.0)\n",
            "Requirement already satisfied: jsonpointer>=1.9 in /usr/local/lib/python3.12/dist-packages (from jsonpatch<2.0.0,>=1.33.0->langchain-core<2.0.0,>=1.0.0->langchain_google_genai) (3.0.0)\n",
            "Requirement already satisfied: requests-toolbelt>=1.0.0 in /usr/local/lib/python3.12/dist-packages (from langsmith<1.0.0,>=0.3.45->langchain-core<2.0.0,>=1.0.0->langchain_google_genai) (1.0.0)\n",
            "Requirement already satisfied: zstandard>=0.23.0 in /usr/local/lib/python3.12/dist-packages (from langsmith<1.0.0,>=0.3.45->langchain-core<2.0.0,>=1.0.0->langchain_google_genai) (0.25.0)\n",
            "Requirement already satisfied: pyasn1<0.7.0,>=0.6.1 in /usr/local/lib/python3.12/dist-packages (from pyasn1-modules>=0.2.1->google-auth!=2.24.0,!=2.25.0,<3.0.0,>=2.14.1->google-ai-generativelanguage<1.0.0,>=0.7.0->langchain_google_genai) (0.6.1)\n",
            "Requirement already satisfied: charset_normalizer<4,>=2 in /usr/local/lib/python3.12/dist-packages (from requests<3.0.0,>=2.18.0->google-api-core!=2.0.*,!=2.1.*,!=2.10.*,!=2.2.*,!=2.3.*,!=2.4.*,!=2.5.*,!=2.6.*,!=2.7.*,!=2.8.*,!=2.9.*,<3.0.0,>=1.34.1->google-api-core[grpc]!=2.0.*,!=2.1.*,!=2.10.*,!=2.2.*,!=2.3.*,!=2.4.*,!=2.5.*,!=2.6.*,!=2.7.*,!=2.8.*,!=2.9.*,<3.0.0,>=1.34.1->google-ai-generativelanguage<1.0.0,>=0.7.0->langchain_google_genai) (3.4.4)\n",
            "Requirement already satisfied: urllib3<3,>=1.21.1 in /usr/local/lib/python3.12/dist-packages (from requests<3.0.0,>=2.18.0->google-api-core!=2.0.*,!=2.1.*,!=2.10.*,!=2.2.*,!=2.3.*,!=2.4.*,!=2.5.*,!=2.6.*,!=2.7.*,!=2.8.*,!=2.9.*,<3.0.0,>=1.34.1->google-api-core[grpc]!=2.0.*,!=2.1.*,!=2.10.*,!=2.2.*,!=2.3.*,!=2.4.*,!=2.5.*,!=2.6.*,!=2.7.*,!=2.8.*,!=2.9.*,<3.0.0,>=1.34.1->google-ai-generativelanguage<1.0.0,>=0.7.0->langchain_google_genai) (2.5.0)\n",
            "Requirement already satisfied: sniffio>=1.1 in /usr/local/lib/python3.12/dist-packages (from anyio->httpx>=0.25.2->langgraph-sdk<0.3.0,>=0.2.2->langgraph) (1.3.1)\n",
            "Downloading langchain_google_genai-3.0.0-py3-none-any.whl (57 kB)\n",
            "\u001b[2K   \u001b[90m━━━━━━━━━━━━━━━━━━━━━━━━━━━━━━━━━━━━━━━━\u001b[0m \u001b[32m57.8/57.8 kB\u001b[0m \u001b[31m2.7 MB/s\u001b[0m eta \u001b[36m0:00:00\u001b[0m\n",
            "\u001b[?25hDownloading langgraph-1.0.1-py3-none-any.whl (155 kB)\n",
            "\u001b[2K   \u001b[90m━━━━━━━━━━━━━━━━━━━━━━━━━━━━━━━━━━━━━━━━\u001b[0m \u001b[32m155.4/155.4 kB\u001b[0m \u001b[31m7.3 MB/s\u001b[0m eta \u001b[36m0:00:00\u001b[0m\n",
            "\u001b[?25hDownloading filetype-1.2.0-py2.py3-none-any.whl (19 kB)\n",
            "Downloading google_ai_generativelanguage-0.9.0-py3-none-any.whl (1.4 MB)\n",
            "\u001b[2K   \u001b[90m━━━━━━━━━━━━━━━━━━━━━━━━━━━━━━━━━━━━━━━━\u001b[0m \u001b[32m1.4/1.4 MB\u001b[0m \u001b[31m35.1 MB/s\u001b[0m eta \u001b[36m0:00:00\u001b[0m\n",
            "\u001b[?25hDownloading langchain_core-1.0.0-py3-none-any.whl (467 kB)\n",
            "\u001b[2K   \u001b[90m━━━━━━━━━━━━━━━━━━━━━━━━━━━━━━━━━━━━━━━━\u001b[0m \u001b[32m467.2/467.2 kB\u001b[0m \u001b[31m25.7 MB/s\u001b[0m eta \u001b[36m0:00:00\u001b[0m\n",
            "\u001b[?25hDownloading langgraph_checkpoint-3.0.0-py3-none-any.whl (46 kB)\n",
            "\u001b[2K   \u001b[90m━━━━━━━━━━━━━━━━━━━━━━━━━━━━━━━━━━━━━━━━\u001b[0m \u001b[32m46.1/46.1 kB\u001b[0m \u001b[31m2.5 MB/s\u001b[0m eta \u001b[36m0:00:00\u001b[0m\n",
            "\u001b[?25hDownloading langgraph_prebuilt-1.0.1-py3-none-any.whl (28 kB)\n",
            "Downloading langgraph_sdk-0.2.9-py3-none-any.whl (56 kB)\n",
            "\u001b[2K   \u001b[90m━━━━━━━━━━━━━━━━━━━━━━━━━━━━━━━━━━━━━━━━\u001b[0m \u001b[32m56.8/56.8 kB\u001b[0m \u001b[31m3.9 MB/s\u001b[0m eta \u001b[36m0:00:00\u001b[0m\n",
            "\u001b[?25hDownloading ormsgpack-1.11.0-cp312-cp312-manylinux_2_17_x86_64.manylinux2014_x86_64.whl (207 kB)\n",
            "\u001b[2K   \u001b[90m━━━━━━━━━━━━━━━━━━━━━━━━━━━━━━━━━━━━━━━━\u001b[0m \u001b[32m207.6/207.6 kB\u001b[0m \u001b[31m11.1 MB/s\u001b[0m eta \u001b[36m0:00:00\u001b[0m\n",
            "\u001b[?25hInstalling collected packages: filetype, ormsgpack, langgraph-sdk, langchain-core, langgraph-checkpoint, google-ai-generativelanguage, langgraph-prebuilt, langchain_google_genai, langgraph\n",
            "  Attempting uninstall: langchain-core\n",
            "    Found existing installation: langchain-core 0.3.79\n",
            "    Uninstalling langchain-core-0.3.79:\n",
            "      Successfully uninstalled langchain-core-0.3.79\n",
            "  Attempting uninstall: google-ai-generativelanguage\n",
            "    Found existing installation: google-ai-generativelanguage 0.6.15\n",
            "    Uninstalling google-ai-generativelanguage-0.6.15:\n",
            "      Successfully uninstalled google-ai-generativelanguage-0.6.15\n",
            "\u001b[31mERROR: pip's dependency resolver does not currently take into account all the packages that are installed. This behaviour is the source of the following dependency conflicts.\n",
            "google-generativeai 0.8.5 requires google-ai-generativelanguage==0.6.15, but you have google-ai-generativelanguage 0.9.0 which is incompatible.\n",
            "langchain 0.3.27 requires langchain-core<1.0.0,>=0.3.72, but you have langchain-core 1.0.0 which is incompatible.\u001b[0m\u001b[31m\n",
            "\u001b[0mSuccessfully installed filetype-1.2.0 google-ai-generativelanguage-0.9.0 langchain-core-1.0.0 langchain_google_genai-3.0.0 langgraph-1.0.1 langgraph-checkpoint-3.0.0 langgraph-prebuilt-1.0.1 langgraph-sdk-0.2.9 ormsgpack-1.11.0\n"
          ]
        },
        {
          "output_type": "display_data",
          "data": {
            "application/vnd.colab-display-data+json": {
              "pip_warning": {
                "packages": [
                  "google"
                ]
              },
              "id": "f4fcb7bbe7de428d97f81c59241c36bc"
            }
          },
          "metadata": {}
        }
      ],
      "source": [
        "!pip install langchain_google_genai langgraph"
      ]
    },
    {
      "cell_type": "code",
      "source": [
        "from google.colab import userdata\n",
        "api_key = userdata.get('GOOGLE_API_KEY')"
      ],
      "metadata": {
        "id": "fsixGbHeXaZX"
      },
      "execution_count": 19,
      "outputs": []
    },
    {
      "cell_type": "code",
      "source": [
        "from typing import Annotated, TypedDict, Literal\n",
        "from langchain_core.messages import HumanMessage, SystemMessage, AnyMessage\n",
        "from langchain_google_genai import ChatGoogleGenerativeAI\n",
        "from langgraph.graph import StateGraph, START, END\n",
        "import operator, json, os\n",
        "\n",
        "from IPython.display import Image, display\n",
        "from pydantic import BaseModel, Field\n",
        "from typing import Literal\n"
      ],
      "metadata": {
        "id": "pDvbgLMKXaW9"
      },
      "execution_count": 30,
      "outputs": []
    },
    {
      "cell_type": "code",
      "source": [],
      "metadata": {
        "id": "_OCd0GUkeHKo"
      },
      "execution_count": 30,
      "outputs": []
    },
    {
      "cell_type": "code",
      "source": [
        "class State(TypedDict):\n",
        "    topic: str\n",
        "    content: str\n",
        "    feedback: str\n",
        "    quality: str\n",
        "    posts: dict"
      ],
      "metadata": {
        "id": "6MbYSWJnfnC6"
      },
      "execution_count": 45,
      "outputs": []
    },
    {
      "cell_type": "code",
      "source": [
        "class Feedback(BaseModel):\n",
        "    quality: Literal[\"good\", \"bad\"] = Field(\n",
        "        description=\"Decide if the generated content is good or needs improvement.\",\n",
        "    )\n",
        "    feedback: str = Field(\n",
        "        description=\"If the content is bad, provide feedback on how to improve it.\",\n",
        "    )\n",
        "\n",
        "llm = ChatGoogleGenerativeAI(\n",
        "    model=\"gemini-2.5-flash\",\n",
        "    temperature=0.3,\n",
        "    google_api_key=api_key,\n",
        ")\n",
        "\n",
        "class PostGeneration(BaseModel):\n",
        "    X: str = Field(\n",
        "        description=\"A short, engaging post tailored for X (Twitter). Keep it under 280 characters, conversational, and use 1-4 hashtags.\"\n",
        "    )\n",
        "    LinkedIn: str = Field(\n",
        "        description=\"A professional, insight-driven post suitable for LinkedIn. Use a formal yet approachable tone and include 3-6 relevant hashtags.\"\n",
        "    )\n",
        "    Facebook: str = Field(\n",
        "        description=\"A friendly, community-oriented post for Facebook. Use a warm tone, emojis if appropriate, and include 1-3 hashtags.\"\n",
        "    )\n"
      ],
      "metadata": {
        "id": "o7ixnKF_eHHz"
      },
      "execution_count": 46,
      "outputs": []
    },
    {
      "cell_type": "code",
      "source": [],
      "metadata": {
        "id": "v3Amomm6d8z6"
      },
      "execution_count": 46,
      "outputs": []
    },
    {
      "cell_type": "code",
      "source": [
        "class Content_Generator:\n",
        "    def __init__(self, llm):\n",
        "        self.llm = llm\n",
        "    def call_generator(self, state: State):\n",
        "      \"\"\"Generate or improve content.\"\"\"\n",
        "      if state.get(\"feedback\"):\n",
        "          msg = self.llm.invoke(\n",
        "              f\"Write improved content about '{state['topic']}' considering this feedback: {state['feedback']}\"\n",
        "          )\n",
        "      else:\n",
        "          msg = self.llm.invoke(f\"Create a content about '{state['topic']}'\")\n",
        "      return {\"content\": msg.content}"
      ],
      "metadata": {
        "id": "klfxpBt3c3vZ"
      },
      "execution_count": 47,
      "outputs": []
    },
    {
      "cell_type": "code",
      "source": [
        "class Evaluator:\n",
        "    def __init__(self, llm):\n",
        "        self.evaluator = llm.with_structured_output(Feedback)\n",
        "    def call_evaluator(self, state: State):\n",
        "      \"\"\"Evaluate the content and provide structured feedback.\"\"\"\n",
        "      # evaluator = self.llm.with_structured_output(Feedback)\n",
        "      grade = self.evaluator.invoke(f\"Evaluate this content: {state['content']}\")\n",
        "      return {\"quality\": grade.quality, \"feedback\": grade.feedback}"
      ],
      "metadata": {
        "id": "ndezQyYNdWxq"
      },
      "execution_count": 48,
      "outputs": []
    },
    {
      "cell_type": "code",
      "source": [
        "class PostGenration:\n",
        "  def __init__(self, llm):\n",
        "    self.genrerator = llm.with_structured_output(PostGeneration)\n",
        "\n",
        "  def generate_social_posts(self, state: State):\n",
        "    \"\"\"Generate platform-specific posts from the final improved content.\"\"\"\n",
        "\n",
        "    base_content = state[\"content\"]\n",
        "    prompt = (\n",
        "        \"Create distinct social media posts for LinkedIn, Facebook, and X \"\n",
        "        \"based on the following content:\\n\"\n",
        "        f\"{base_content}\\n\"\n",
        "        \"Each platform's post should align with its typical audience and length norms.\"\n",
        "    )\n",
        "\n",
        "    result = self.genrerator.invoke(prompt)\n",
        "\n",
        "    return {\n",
        "        \"posts\": {\n",
        "            \"X\": result.X,\n",
        "            \"LinkedIn\": result.LinkedIn,\n",
        "            \"Facebook\": result.Facebook,\n",
        "        }\n",
        "    }"
      ],
      "metadata": {
        "id": "J39lC-Q1c3s2"
      },
      "execution_count": 54,
      "outputs": []
    },
    {
      "cell_type": "code",
      "source": [
        "def should_continue(state: State):\n",
        "    \"\"\"Route based on evaluation result.\"\"\"\n",
        "    if state[\"quality\"] == \"good\":\n",
        "        return \"Accepted\"\n",
        "    elif state[\"quality\"] == \"bad\":\n",
        "        return \"Needs Improvement\"\n"
      ],
      "metadata": {
        "id": "M0Z-h8jjeHDS"
      },
      "execution_count": 50,
      "outputs": []
    },
    {
      "cell_type": "code",
      "source": [
        "gen = Content_Generator(llm)\n",
        "eval = Evaluator(llm)\n",
        "poster = PostGenration(llm)\n",
        "\n",
        "llm_call_generator = gen.call_generator\n",
        "llm_call_evaluator = eval.call_evaluator\n",
        "llm_call_poster = poster.generate_social_posts\n",
        "\n",
        "route_content = should_continue\n",
        "\n",
        "builder = StateGraph(State)\n",
        "\n",
        "builder.add_node(\"llm_call_generator\", llm_call_generator)\n",
        "builder.add_node(\"llm_call_evaluator\", llm_call_evaluator)\n",
        "builder.add_node(\"generate_social_posts\", llm_call_poster)\n",
        "\n",
        "builder.add_edge(START, \"llm_call_generator\")\n",
        "builder.add_edge(\"llm_call_generator\", \"llm_call_evaluator\")\n",
        "\n",
        "builder.add_conditional_edges(\n",
        "    \"llm_call_evaluator\",\n",
        "    route_content,\n",
        "    {\n",
        "        \"Accepted\": \"generate_social_posts\",\n",
        "        \"Needs Improvement\": \"llm_call_generator\",\n",
        "    },\n",
        ")\n",
        "\n",
        "builder.add_edge(\"generate_social_posts\", END)\n",
        "\n",
        "workflow = builder.compile()\n"
      ],
      "metadata": {
        "id": "PMWdz8SseHA_"
      },
      "execution_count": 55,
      "outputs": []
    },
    {
      "cell_type": "code",
      "source": [
        "display(Image(workflow.get_graph().draw_mermaid_png()))"
      ],
      "metadata": {
        "colab": {
          "base_uri": "https://localhost:8080/",
          "height": 497
        },
        "id": "bUiL1aI3e11W",
        "outputId": "3c5dba39-e5c1-490e-91ff-f2b2aa58e841"
      },
      "execution_count": 52,
      "outputs": [
        {
          "output_type": "display_data",
          "data": {
            "image/png": "[encoded data removed]",
            "text/plain": [
              "<IPython.core.display.Image object>"
            ]
          },
          "metadata": {}
        }
      ]
    },
    {
      "cell_type": "code",
      "source": [
        "state = workflow.invoke({\"topic\": \"How to cook chicken\"})\n"
      ],
      "metadata": {
        "id": "40STRUlBeG-d"
      },
      "execution_count": 60,
      "outputs": []
    },
    {
      "cell_type": "code",
      "source": [
        "print(\"\\n Final Content:\\n\")\n",
        "print(state[\"content\"])\n",
        "print(\"\\n Feedback:\", state[\"quality\"], \" \", state[\"feedback\"] )"
      ],
      "metadata": {
        "colab": {
          "base_uri": "https://localhost:8080/"
        },
        "id": "CUSyEbqThzU5",
        "outputId": "690da2e7-cf89-4a2b-d954-cb5d3512e374"
      },
      "execution_count": 61,
      "outputs": [
        {
          "output_type": "stream",
          "name": "stdout",
          "text": [
            "\n",
            " Final Content:\n",
            "\n",
            "## Mastering Chicken: Your Ultimate Guide to Delicious & Perfectly Cooked Poultry\n",
            "\n",
            "Chicken is a culinary superstar – versatile, lean, affordable, and a fantastic canvas for countless flavors. But for many, cooking chicken can feel intimidating. Will it be dry? Is it cooked through?\n",
            "\n",
            "Fear not, home chef! This guide will equip you with the knowledge and confidence to cook chicken that's juicy, flavorful, and perfectly safe every time.\n",
            "\n",
            "---\n",
            "\n",
            "### 1. Safety First: Handle with Care!\n",
            "\n",
            "Before we even think about seasoning, let's talk food safety. Raw chicken can harbor bacteria, so proper handling is crucial.\n",
            "\n",
            "*   **Wash Your Hands:** Always wash your hands thoroughly with soap and water before and after handling raw chicken.\n",
            "*   **Separate Surfaces:** Use a dedicated cutting board for raw chicken, or wash it thoroughly with hot, soapy water (or run through a dishwasher) before using it for other foods.\n",
            "*   **No Washing Chicken:** Contrary to popular belief, do *not* wash raw chicken. This can splash bacteria around your sink and kitchen surfaces. Cooking will kill any bacteria.\n",
            "*   **Avoid Cross-Contamination:** Keep raw chicken away from other foods, especially those that won't be cooked (like salad ingredients).\n",
            "*   **Internal Temperature:** Chicken is safely cooked when it reaches an internal temperature of **165°F (74°C)**. A meat thermometer is your best friend!\n",
            "\n",
            "---\n",
            "\n",
            "### 2. Choosing Your Chicken Cut\n",
            "\n",
            "Different cuts of chicken suit different cooking methods and dishes.\n",
            "\n",
            "*   **Boneless, Skinless Chicken Breasts:** Leanest, quick-cooking, but can dry out if overcooked. Great for stir-fries, salads, grilling, pan-searing.\n",
            "*   **Boneless, Skinless Chicken Thighs:** Darker meat, more fat, incredibly flavorful and forgiving (harder to overcook). Excellent for braising, roasting, grilling, curries.\n",
            "*   **Bone-in, Skin-on Chicken Thighs/Drumsticks:** Even more flavor and moisture from the bone and skin. Perfect for roasting, baking, frying.\n",
            "*   **Whole Chicken:** Economical and impressive for roasting, yielding tender meat and bones for stock.\n",
            "*   **Ground Chicken:** Versatile for meatballs, burgers, tacos, chili.\n",
            "\n",
            "---\n",
            "\n",
            "### 3. Essential Prep Steps\n",
            "\n",
            "No matter the cut or cooking method, these steps are key:\n",
            "\n",
            "1.  **Pat Dry:** Use paper towels to thoroughly pat the chicken dry on all sides. This is crucial for achieving a crispy skin or a good sear. Moisture creates steam, preventing browning.\n",
            "2.  **Trim Excess Fat:** Remove any large pieces of excess fat or loose skin.\n",
            "3.  **Season Generously:** Don't be shy with the seasoning! Salt and pepper are a must, but consider adding garlic powder, onion powder, paprika, herbs (thyme, rosemary, oregano), or your favorite spice blend. Seasoning adheres best to dry chicken.\n",
            "\n",
            "---\n",
            "\n",
            "### 4. Core Cooking Methods for Chicken\n",
            "\n",
            "Let's dive into the most popular and versatile ways to cook chicken.\n",
            "\n",
            "#### A. Pan-Searing (Great for Breasts, Thighs, Cutlets)\n",
            "\n",
            "This method creates a beautiful golden-brown crust and keeps the inside juicy.\n",
            "\n",
            "**You'll Need:**\n",
            "*   Chicken breasts or thighs (boneless, skinless or skin-on)\n",
            "*   Salt, pepper, desired seasonings\n",
            "*   1-2 tbsp high-heat oil (e.g., olive oil, avocado oil, grapeseed oil)\n",
            "*   Large skillet (cast iron or stainless steel works best)\n",
            "\n",
            "**Steps:**\n",
            "1.  **Prep:** Pat chicken dry and season generously on both sides.\n",
            "2.  **Heat Oil:** Heat oil in your skillet over medium-high heat until it shimmers.\n",
            "3.  **Sear:** Place chicken in the hot pan, presentation-side down (skin-side down if skin-on). Don't overcrowd the pan; cook in batches if necessary.\n",
            "4.  **Cook First Side:** Sear for 5-7 minutes without moving, until deeply golden brown and a crust has formed.\n",
            "5.  **Flip & Finish:** Flip the chicken. Reduce heat to medium-low and continue cooking for another 7-10 minutes, or until the internal temperature reaches 165°F (74°C). For thicker breasts, you might need to finish in a preheated oven (375°F/190°C) for 5-10 minutes after searing.\n",
            "6.  **Rest:** Transfer chicken to a cutting board and let it rest for 5-10 minutes before slicing.\n",
            "\n",
            "#### B. Baking/Roasting (Great for Breasts, Thighs, Drumsticks, Whole Chicken)\n",
            "\n",
            "A hands-off method perfect for weeknights or larger cuts.\n",
            "\n",
            "**You'll Need:**\n",
            "*   Chicken pieces (breasts, thighs, drumsticks, or a whole chicken)\n",
            "*   Salt, pepper, desired seasonings (e.g., garlic powder, paprika, dried herbs)\n",
            "*   1-2 tbsp olive oil (optional, for coating)\n",
            "*   Baking sheet or roasting pan\n",
            "\n",
            "**Steps:**\n",
            "1.  **Preheat Oven:** Preheat your oven to 375-400°F (190-200°C).\n",
            "2.  **Prep:** Pat chicken dry. Drizzle with a little olive oil (optional, but helps with browning) and season generously on all sides.\n",
            "3.  **Arrange:** Place chicken in a single layer on a baking sheet or in a roasting pan. Ensure there's space between pieces for even cooking.\n",
            "4.  **Bake:**\n",
            "    *   **Boneless Breasts/Thighs:** Bake for 20-30 minutes.\n",
            "    *   **Bone-in Thighs/Drumsticks:** Bake for 35-45 minutes.\n",
            "    *   **Whole Chicken:** Bake for 1 hour 15 minutes to 1 hour 45 minutes (or about 20 minutes per pound), basting occasionally.\n",
            "5.  **Check Doneness:** Cook until the internal temperature reaches 165°F (74°C) in the thickest part.\n",
            "6.  **Rest:** Remove from oven and let rest for 5-10 minutes before serving.\n",
            "\n",
            "#### C. Grilling (Great for Breasts, Thighs, Skewers)\n",
            "\n",
            "Adds a smoky flavor and beautiful char marks.\n",
            "\n",
            "**You'll Need:**\n",
            "*   Chicken pieces (breasts, thighs, skewers)\n",
            "*   Salt, pepper, desired seasonings or marinade\n",
            "*   Grill (gas or charcoal)\n",
            "\n",
            "**Steps:**\n",
            "1.  **Preheat Grill:** Preheat your grill to medium-high heat (around 400-450°F / 200-230°C). Clean the grates and oil them lightly.\n",
            "2.  **Prep:** Pat chicken dry. Season or marinate for at least 30 minutes (or up to 4 hours for breasts, overnight for thighs).\n",
            "3.  **Grill:** Place chicken on the hot grates.\n",
            "    *   **Boneless Breasts/Thighs:** Grill for 6-8 minutes per side, flipping once, until cooked through.\n",
            "    *   **Bone-in Thighs/Drumsticks:** Grill for 10-15 minutes per side, rotating for even cooking.\n",
            "4.  **Check Doneness:** Cook until the internal temperature reaches 165°F (74°C).\n",
            "5.  **Rest:** Transfer to a plate or cutting board and let rest for 5-10 minutes.\n",
            "\n",
            "---\n",
            "\n",
            "### 5. Flavor Boosters & Marinades\n",
            "\n",
            "*   **Simple Seasoning:** Salt, black pepper, garlic powder, onion powder, paprika, dried oregano, thyme, or rosemary are fantastic basics.\n",
            "*   **Spice Blends:** Experiment with pre-made blends like Cajun, Italian, Lemon-Herb, or BBQ rubs.\n",
            "*   **Marinades:** A good marinade adds flavor and can tenderize.\n",
            "    *   **Acid:** Lemon juice, lime juice, vinegar, yogurt.\n",
            "    *   **Oil:** Olive oil, avocado oil.\n",
            "    *   **Aromatics:** Minced garlic, ginger, onion.\n",
            "    *   **Seasonings:** Soy sauce, honey, mustard, herbs, spices.\n",
            "    *   **Marinating Time:** 30 minutes to 2 hours for breasts, 2-8 hours for thighs. Don't marinate for too long with strong acids, as it can make the chicken mushy. Always marinate in the refrigerator.\n",
            "\n",
            "---\n",
            "\n",
            "### 6. The Golden Rule: Let It Rest!\n",
            "\n",
            "Once your chicken is cooked, **always let it rest** for 5-10 minutes before slicing or serving. This allows the juices to redistribute throughout the meat, resulting in a much juicier and more tender bite. If you cut into it immediately, all those delicious juices will run out onto your cutting board.\n",
            "\n",
            "---\n",
            "\n",
            "### 7. Troubleshooting Common Chicken Woes\n",
            "\n",
            "*   **Dry Chicken:** Almost always a sign of overcooking. Use a meat thermometer and pull the chicken off the heat as soon as it hits 165°F (74°C). Also, ensure you're resting it!\n",
            "*   **Rubbery Texture:** Another sign of overcooking, especially with chicken breasts.\n",
            "*   **No Browning/Crispy Skin:** Ensure the chicken is thoroughly patted dry before cooking. For pan-searing, make sure the pan is hot enough. For roasting, a slightly higher temperature or finishing under the broiler can help.\n",
            "*   **Uneven Cooking:** Pound thicker chicken breasts to an even thickness before cooking. Don't overcrowd your pan or baking sheet.\n",
            "\n",
            "---\n",
            "\n",
            "### 8. Serving Suggestions\n",
            "\n",
            "Cooked chicken is incredibly versatile!\n",
            "\n",
            "*   **Main Course:** Serve with roasted vegetables, rice, pasta, or a fresh salad.\n",
            "*   **Salads:** Slice or shred for a protein-packed salad.\n",
            "*   **Sandwiches/Wraps:** Perfect for lunch.\n",
            "*   **Stir-fries:** Cut into bite-sized pieces and toss with your favorite veggies and sauce.\n",
            "*   **Tacos/Burritos:** Shredded chicken is fantastic.\n",
            "*   **Soups/Stews:** Add cooked chicken for extra heartiness.\n",
            "\n",
            "---\n",
            "\n",
            "### Conclusion\n",
            "\n",
            "Cooking delicious chicken isn't a mystery; it's about understanding a few key principles: safety, proper prep, the right cooking method, and knowing when it's done. With a meat thermometer and these tips, you'll be serving up perfectly cooked, flavorful chicken that will impress every time. Happy cooking!\n",
            "\n",
            " Feedback: good   The content is a very comprehensive and well-structured guide to cooking chicken. It covers all essential aspects from safety to troubleshooting, with clear, actionable steps and helpful tips. The information is accurate and presented in an easy-to-understand manner.\n"
          ]
        }
      ]
    },
    {
      "cell_type": "code",
      "source": [
        "print(\"\\nFinal Multi-Platform Posts:\\n\")\n",
        "print(\"X:\", state[\"posts\"][\"X\"])\n",
        "print(\"LinkedIn:\", state[\"posts\"][\"LinkedIn\"])\n",
        "print(\"Facebook:\", state[\"posts\"][\"Facebook\"])"
      ],
      "metadata": {
        "colab": {
          "base_uri": "https://localhost:8080/"
        },
        "id": "yn1EGfTHiMc6",
        "outputId": "50bc6148-771f-4a97-db8b-6301389153dd"
      },
      "execution_count": 62,
      "outputs": [
        {
          "output_type": "stream",
          "name": "stdout",
          "text": [
            "\n",
            "Final Multi-Platform Posts:\n",
            "\n",
            "X: Tired of dry chicken? 🍗 Master juicy, flavorful poultry every time! Our ultimate guide covers safety, prep, and key cooking methods to transform your kitchen. Say goodbye to guesswork! #ChickenTips #CookingHacks #HomeCooking\n",
            "LinkedIn: Elevate your culinary skills with perfectly cooked chicken. This comprehensive guide offers insights into food safety protocols, optimal preparation techniques, and versatile cooking methods (pan-searing, roasting, grilling) to ensure consistently juicy and flavorful results. Invest in your kitchen confidence. #CulinarySkills #FoodSafety #KitchenEfficiency #CookingTips #ProfessionalCooking\n",
            "Facebook: Ready to conquer chicken in your kitchen? 🐔✨ Our ultimate guide makes cooking delicious, juicy, and perfectly safe chicken a breeze! From essential safety tips to easy cooking methods like baking & grilling, you'll be a chicken master in no time. Get ready for happy meals! 🍽️ #HomeCooking #ChickenRecipes #FamilyMeals\n"
          ]
        }
      ]
    },
    {
      "cell_type": "code",
      "source": [],
      "metadata": {
        "id": "1xMH4Fftf4gm"
      },
      "execution_count": null,
      "outputs": []
    }
  ]
}