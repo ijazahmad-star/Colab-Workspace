{
  "nbformat": 4,
  "nbformat_minor": 0,
  "metadata": {
    "colab": {
      "provenance": [],
      "authorship_tag": "ABX9TyOk0Hm0zYzP25AYagTyvdOh",
      "include_colab_link": true
    },
    "kernelspec": {
      "name": "python3",
      "display_name": "Python 3"
    },
    "language_info": {
      "name": "python"
    }
  },
  "cells": [
    {
      "cell_type": "markdown",
      "metadata": {
        "id": "view-in-github",
        "colab_type": "text"
      },
      "source": [
        "<a href=\"https://colab.research.google.com/github/ijazahmad-star/Colab-Workspace/blob/main/oct%2023%202025/Prompt_Engineering.ipynb\" target=\"_parent\"><img src=\"https://colab.research.google.com/assets/colab-badge.svg\" alt=\"Open In Colab\"/></a>"
      ]
    },
    {
      "cell_type": "markdown",
      "source": [
        "## Prompt Engineering\n",
        "\n",
        "This notebook will help you to understand the concept of prompt engineering. We will check the effectiveness of the prompt engineering. Also we will explore its different types, tactics.\n",
        "\n",
        "let start..."
      ],
      "metadata": {
        "id": "w9MjnNPce9Q9"
      }
    },
    {
      "cell_type": "code",
      "execution_count": 7,
      "metadata": {
        "id": "2bPHYvUze4Cr"
      },
      "outputs": [],
      "source": [
        "## install and import required lib...\n",
        "# !pip install openai\n",
        "from google.colab import userdata\n",
        "from openai import OpenAI\n",
        "import openai"
      ]
    },
    {
      "cell_type": "code",
      "source": [
        "## funct that take the query/prompt and will return the llm response\n",
        "\n",
        "def get_completion(prompt, model=\"gpt-3.5-turbo\"):\n",
        "  openai.api_key = userdata.get('OPENAI_API_KEY')\n",
        "  client = OpenAI(api_key=openai.api_key)\n",
        "  messages = [{\"role\": \"user\", \"content\": prompt}]\n",
        "  response = client.chat.completions.create(\n",
        "      model=\"gpt-3.5-turbo\",\n",
        "      messages=messages,\n",
        "      temperature=0,\n",
        "  )\n",
        "\n",
        "  # print(response.choices[0].message.content)\n",
        "  return response.choices[0].message.content"
      ],
      "metadata": {
        "id": "QYgi8fQefozD"
      },
      "execution_count": 8,
      "outputs": []
    },
    {
      "cell_type": "code",
      "source": [
        "result = get_completion(\"what is the capital of pakistan?\")\n",
        "print(result)"
      ],
      "metadata": {
        "colab": {
          "base_uri": "https://localhost:8080/"
        },
        "id": "EbRlPQdCfzdN",
        "outputId": "4c3d306a-37ac-48d0-a3b3-02adba67a401"
      },
      "execution_count": 9,
      "outputs": [
        {
          "output_type": "stream",
          "name": "stdout",
          "text": [
            "Islamabad\n"
          ]
        }
      ]
    },
    {
      "cell_type": "markdown",
      "source": [
        "## Prompting Principles\n",
        "- **Principle 1: Write clear and specific instructions**\n",
        "- **Principle 2: Give the model time to “think”**\n",
        "\n",
        "### Tactics\n",
        "\n",
        "#### Tactic 1: Use delimiters to clearly indicate distinct parts of the input\n",
        "- Delimiters can be anything like: ```, \"\"\", < >, `<tag> </tag>`, `:`"
      ],
      "metadata": {
        "id": "n0VSaDJ_iAnf"
      }
    },
    {
      "cell_type": "code",
      "source": [
        "text = f\"\"\"\n",
        "You should express what you want a model to do by providing instructions that are as clear and specific as you can possibly make them.\n",
        "This will guide the model towards the desired output, and reduce the chances of receiving irrelevant or incorrect responses.\n",
        "Don't confuse writing a clear prompt with writing a short prompt. In many cases, longer prompts provide more clarity\n",
        "and context for the model, which can lead to more detailed and relevant outputs.\n",
        "\"\"\"\n",
        "\n",
        "prompt = f\"\"\"\n",
        "Summarize the text delimited by triple backticks\n",
        "into a single sentence.\n",
        "```{text}```\n",
        "\"\"\"\n",
        "response = get_completion(prompt)\n",
        "print(response)"
      ],
      "metadata": {
        "colab": {
          "base_uri": "https://localhost:8080/"
        },
        "id": "8urRdrt1gKT4",
        "outputId": "cf0681a5-b87e-4651-e116-b44c093b9072"
      },
      "execution_count": 10,
      "outputs": [
        {
          "output_type": "stream",
          "name": "stdout",
          "text": [
            "Providing clear and specific instructions to a model is essential for guiding it towards the desired output and reducing the chances of irrelevant or incorrect responses, even if longer prompts are necessary for clarity and context.\n"
          ]
        }
      ]
    },
    {
      "cell_type": "markdown",
      "source": [
        "#### Tactic 2: Ask for a structured output\n",
        "- JSON, HTML"
      ],
      "metadata": {
        "id": "axC_k6gKi6xN"
      }
    },
    {
      "cell_type": "code",
      "source": [
        "prompt = \"\"\"\n",
        "Generate a list of three pakistani movies titles along\n",
        "with their director name and genres.\n",
        "Provide them in JSON format with the following keys:\n",
        "title, director, genre.\n",
        "\"\"\"\n",
        "response = get_completion(prompt)\n",
        "print(response)"
      ],
      "metadata": {
        "colab": {
          "base_uri": "https://localhost:8080/"
        },
        "id": "k8YGZz3piupR",
        "outputId": "5fa235db-bce7-46d5-d99c-d428178d3d05"
      },
      "execution_count": 11,
      "outputs": [
        {
          "output_type": "stream",
          "name": "stdout",
          "text": [
            "[\n",
            "    {\n",
            "        \"title\": \"Cake\",\n",
            "        \"director\": \"Asim Abbasi\",\n",
            "        \"genre\": \"Drama\"\n",
            "    },\n",
            "    {\n",
            "        \"title\": \"Laal Kabootar\",\n",
            "        \"director\": \"Kamal Khan\",\n",
            "        \"genre\": \"Thriller\"\n",
            "    },\n",
            "    {\n",
            "        \"title\": \"Parchi\",\n",
            "        \"director\": \"Azfar Jafri\",\n",
            "        \"genre\": \"Comedy\"\n",
            "    }\n",
            "]\n"
          ]
        }
      ]
    },
    {
      "cell_type": "markdown",
      "source": [
        "#### Tactic 3: Ask the model to check whether conditions are satisfied"
      ],
      "metadata": {
        "id": "lk6eBualji2L"
      }
    },
    {
      "cell_type": "code",
      "source": [
        "text_1 = \"solving a math problem is not difficult for example in (2 + 3) then multiple the result with 9 after that divide by 3\"\n",
        "\n",
        "prompt = f\"\"\"\n",
        "You will be provided with text delimited by triple backticks.\n",
        "If it contains a sequence of instructions, re-write those instructions in the following format:\n",
        "\n",
        "Step 1 - ...\n",
        "Step 2 - …\n",
        "…\n",
        "Step N - …\n",
        "\n",
        "If the text does not contain a sequence of instructions, then simply write \"No steps provided.\"\n",
        "\n",
        "```{text_1}```\n",
        "\"\"\"\n",
        "response = get_completion(prompt)\n",
        "print(\"Completion for Text 1:\")\n",
        "print(response)"
      ],
      "metadata": {
        "colab": {
          "base_uri": "https://localhost:8080/"
        },
        "id": "lZon2uzjjaU3",
        "outputId": "68821117-a614-457e-b5f0-8e7ddd307f0a"
      },
      "execution_count": 14,
      "outputs": [
        {
          "output_type": "stream",
          "name": "stdout",
          "text": [
            "Completion for Text 1:\n",
            "Step 1 - Add 2 and 3.\n",
            "Step 2 - Multiply the result by 9.\n",
            "Step 3 - Divide the result by 3.\n"
          ]
        }
      ]
    },
    {
      "cell_type": "code",
      "source": [
        "text_2 = f\"\"\"\n",
        "The sun is shining brightly today, and the birds are singing. It's a beautiful day to go for a walk in the park.\n",
        "The flowers are blooming, and the trees are swaying gently in the breeze. People are out and about, enjoying the lovely weather.\n",
        "Some are having picnics, while others are playing games or simply relaxing on the grass. It's a\n",
        "perfect day to spend time outdoors and appreciate the beauty of nature.\n",
        "\"\"\"\n",
        "prompt = f\"\"\"\n",
        "You will be provided with text delimited by triple backticks.\n",
        "If it contains a sequence of instructions, re-write those instructions in the following format:\n",
        "\n",
        "Step 1 - ...\n",
        "Step 2 - …\n",
        "…\n",
        "Step N - …\n",
        "\n",
        "If the text does not contain a sequence of instructions, then simply write \"No steps provided.\"\n",
        "\n",
        "```{text_2}```\n",
        "\"\"\"\n",
        "response = get_completion(prompt)\n",
        "print(\"Completion for Text 2:\")\n",
        "print(response)"
      ],
      "metadata": {
        "colab": {
          "base_uri": "https://localhost:8080/"
        },
        "id": "_939tMFwkrvu",
        "outputId": "e5098a56-b38b-4f7d-f516-db1936dbb6cf"
      },
      "execution_count": 15,
      "outputs": [
        {
          "output_type": "stream",
          "name": "stdout",
          "text": [
            "Completion for Text 2:\n",
            "No steps provided.\n"
          ]
        }
      ]
    },
    {
      "cell_type": "markdown",
      "source": [
        "#### Tactic 4: \"One-shot\" prompting"
      ],
      "metadata": {
        "id": "O_5In9damOwp"
      }
    },
    {
      "cell_type": "code",
      "source": [
        "prompt = \"\"\"\n",
        "Example:\n",
        "Input: \"I love apples.\"\n",
        "Output: \"Positive\"\n",
        "\n",
        "Now classify this sentence:\n",
        "Input: \"I hate the traffic.\"\n",
        "Output:\n",
        "\"\"\"\n",
        "\n",
        "response = get_completion(prompt)\n",
        "print(response)"
      ],
      "metadata": {
        "colab": {
          "base_uri": "https://localhost:8080/"
        },
        "id": "o_DBxC1Elms9",
        "outputId": "d33625a9-5bbd-4cdd-9370-fe66258d74c8"
      },
      "execution_count": 16,
      "outputs": [
        {
          "output_type": "stream",
          "name": "stdout",
          "text": [
            "Negative\n"
          ]
        }
      ]
    },
    {
      "cell_type": "markdown",
      "source": [
        "#### Tactic 5: \"Few-shot\" prompting"
      ],
      "metadata": {
        "id": "DOz6gT2umXYK"
      }
    },
    {
      "cell_type": "code",
      "source": [
        "prompt = \"\"\"\n",
        "Classify the sentiment:\n",
        "\n",
        "Input: \"This movie was amazing!\"\n",
        "output: Positive\n",
        "Input: \"The food was terrible.\"\n",
        "output: Negative\n",
        "Input: \"The view was breathtaking.\"\n",
        "output: Positive\n",
        "Input: \"I wouldn’t recommend this product.\"\n",
        "output:\n",
        "\n",
        "\"\"\"\n",
        "\n",
        "response = get_completion(prompt)\n",
        "print(response)"
      ],
      "metadata": {
        "colab": {
          "base_uri": "https://localhost:8080/"
        },
        "id": "PPW4XvbAmLqV",
        "outputId": "74b7b803-c8e4-4954-b39e-c6c2458e35eb"
      },
      "execution_count": 19,
      "outputs": [
        {
          "output_type": "stream",
          "name": "stdout",
          "text": [
            "Negative\n"
          ]
        }
      ]
    },
    {
      "cell_type": "code",
      "source": [],
      "metadata": {
        "id": "HT4d3OIbnZrY"
      },
      "execution_count": null,
      "outputs": []
    },
    {
      "cell_type": "markdown",
      "source": [
        "### Principle 2: Give the model time to “think”\n",
        "\n",
        "#### Tactic 1: Specify the steps required to complete a task"
      ],
      "metadata": {
        "id": "X1KvEAX1nUS-"
      }
    },
    {
      "cell_type": "code",
      "source": [
        "prompt = f\"\"\"\n",
        "Your task is to perform the following actions:\n",
        "1 - Summarize the following text delimited by\n",
        "  <> with 1 sentence.\n",
        "2 - Translate the summary into French.\n",
        "3 - List each name in the French summary.\n",
        "4 - Output a json object that contains the\n",
        "  following keys: french_summary, num_names.\n",
        "\n",
        "Use the following format:\n",
        "Text: <text to summarize>\n",
        "Summary: <summary>\n",
        "Translation: <summary translation>\n",
        "Names: <list of names in summary>\n",
        "Output JSON: <json with summary and num_names>\n",
        "\n",
        "Text: <{text}>\n",
        "\"\"\"\n",
        "response = get_completion(prompt)\n",
        "print(\"\\nCompletion for prompt:\")\n",
        "print(response)"
      ],
      "metadata": {
        "colab": {
          "base_uri": "https://localhost:8080/"
        },
        "id": "AYyEz4cPmkeO",
        "outputId": "e654e8b9-d86e-4a4b-8972-f463f4577f36"
      },
      "execution_count": 21,
      "outputs": [
        {
          "output_type": "stream",
          "name": "stdout",
          "text": [
            "\n",
            "Completion for prompt:\n",
            "Summary: Providing clear and specific instructions to a model is crucial for guiding it towards the desired output and reducing the chances of irrelevant or incorrect responses.\n",
            "\n",
            "Translation: Fournir des instructions claires et spécifiques à un modèle est crucial pour le guider vers la sortie souhaitée et réduire les chances de réponses inappropriées ou incorrectes.\n",
            "\n",
            "Names: modèle\n",
            "\n",
            "Output JSON: \n",
            "{\n",
            "  \"french_summary\": \"Fournir des instructions claires et spécifiques à un modèle est crucial pour le guider vers la sortie souhaitée et réduire les chances de réponses inappropriées ou incorrectes.\",\n",
            "  \"num_names\": 1\n",
            "}\n"
          ]
        }
      ]
    },
    {
      "cell_type": "markdown",
      "source": [
        "#### Chain of Thought"
      ],
      "metadata": {
        "id": "vx6tw77-nkmj"
      }
    },
    {
      "cell_type": "code",
      "source": [
        "prompt = \"\"\"\n",
        "Question: If there are 3 red balls and 2 blue balls, and you take 1 away, how many are left?\n",
        "Let's think step by step.\n",
        "\"\"\"\n",
        "\n",
        "response = get_completion(prompt)\n",
        "print(response)"
      ],
      "metadata": {
        "colab": {
          "base_uri": "https://localhost:8080/"
        },
        "id": "0ChFxP2snmXv",
        "outputId": "7ad1bc7e-2556-4235-f8cf-e4337cb563d6"
      },
      "execution_count": 22,
      "outputs": [
        {
          "output_type": "stream",
          "name": "stdout",
          "text": [
            "Step 1: Initially, there are 3 red balls and 2 blue balls, making a total of 5 balls.\n",
            "\n",
            "Step 2: If you take 1 ball away, there will be 4 balls left.\n",
            "\n",
            "Therefore, after taking 1 ball away, there will be 4 balls left.\n"
          ]
        }
      ]
    },
    {
      "cell_type": "markdown",
      "source": [
        "#### Tactic 2: Instruct the model to work out its own solution before rushing to a conclusion"
      ],
      "metadata": {
        "id": "_mh_zfAJopOY"
      }
    },
    {
      "cell_type": "code",
      "source": [
        "prompt = f\"\"\"\n",
        "Determine if the student's solution is correct or not.\n",
        "\n",
        "Question:\n",
        "I'm building a solar power installation and I need\n",
        " help working out the financials.\n",
        "- Land costs $100 / square foot\n",
        "- I can buy solar panels for $250 / square foot\n",
        "- I negotiated a contract for maintenance that will cost\n",
        "me a flat $100k per year, and an additional $10 / square\n",
        "foot\n",
        "What is the total cost for the first year of operations\n",
        "as a function of the number of square feet.\n",
        "\n",
        "Student's Solution:\n",
        "Let x be the size of the installation in square feet.\n",
        "Costs:\n",
        "1. Land cost: 100x\n",
        "2. Solar panel cost: 250x\n",
        "3. Maintenance cost: 100,000 + 100x\n",
        "Total cost: 100x + 250x + 100,000 + 100x = 450x + 100,000\n",
        "\"\"\"\n",
        "response = get_completion(prompt)\n",
        "print(response)"
      ],
      "metadata": {
        "colab": {
          "base_uri": "https://localhost:8080/"
        },
        "id": "Db-59SIVn0dz",
        "outputId": "08adb4d7-bb04-43aa-f2e0-a98ba54a8502"
      },
      "execution_count": 24,
      "outputs": [
        {
          "output_type": "stream",
          "name": "stdout",
          "text": [
            "The student's solution is incorrect. The total cost for the first year of operations should be calculated as follows:\n",
            "\n",
            "Total cost = Land cost + Solar panel cost + Maintenance cost\n",
            "Total cost = 100x + 250x + (100,000 + 10x)\n",
            "Total cost = 350x + 100,000\n",
            "\n",
            "Therefore, the correct total cost for the first year of operations as a function of the number of square feet is 350x + 100,000.\n"
          ]
        }
      ]
    },
    {
      "cell_type": "markdown",
      "source": [
        "#### Role base prompts"
      ],
      "metadata": {
        "id": "87K3gXh4pQkl"
      }
    },
    {
      "cell_type": "code",
      "source": [
        "prompt = \"\"\"\n",
        "You are a professional data scientist. Explain decision trees in simple terms. in just 2 sentences\n",
        "\"\"\"\n",
        "\n",
        "response = get_completion(prompt)\n",
        "print(response)"
      ],
      "metadata": {
        "colab": {
          "base_uri": "https://localhost:8080/"
        },
        "id": "2TBFD_IeoxMB",
        "outputId": "e1789174-b1cc-4a1d-b45d-c6667e88c2c5"
      },
      "execution_count": 26,
      "outputs": [
        {
          "output_type": "stream",
          "name": "stdout",
          "text": [
            "Decision trees are a type of algorithm that uses a tree-like structure to make decisions based on input data. Each node in the tree represents a decision based on a feature, leading to different branches and outcomes.\n"
          ]
        }
      ]
    },
    {
      "cell_type": "markdown",
      "source": [
        "# Iterative Prompt Development\n",
        "\n",
        "iteratively refine the prompt"
      ],
      "metadata": {
        "id": "9-UngHCMrj5Z"
      }
    },
    {
      "cell_type": "code",
      "source": [
        "fact_sheet_chair = \"\"\"\n",
        "OVERVIEW\n",
        "- Part of a beautiful family of mid-century inspired office furniture,\n",
        "including filing cabinets, desks, bookcases, meeting tables, and more.\n",
        "- Several options of shell color and base finishes.\n",
        "- Available with plastic back and front upholstery (SWC-100)\n",
        "or full upholstery (SWC-110) in 10 fabric and 6 leather options.\n",
        "- Base finish options are: stainless steel, matte black,\n",
        "gloss white, or chrome.\n",
        "- Chair is available with or without armrests.\n",
        "- Suitable for home or business settings.\n",
        "- Qualified for contract use.\n",
        "\n",
        "CONSTRUCTION\n",
        "- 5-wheel plastic coated aluminum base.\n",
        "- Pneumatic chair adjust for easy raise/lower action.\n",
        "\n",
        "DIMENSIONS\n",
        "- WIDTH 53 CM | 20.87”\n",
        "- DEPTH 51 CM | 20.08”\n",
        "- HEIGHT 80 CM | 31.50”\n",
        "- SEAT HEIGHT 44 CM | 17.32”\n",
        "- SEAT DEPTH 41 CM | 16.14”\n",
        "\n",
        "OPTIONS\n",
        "- Soft or hard-floor caster options.\n",
        "- Two choices of seat foam densities:\n",
        " medium (1.8 lb/ft3) or high (2.8 lb/ft3)\n",
        "- Armless or 8 position PU armrests\n",
        "\n",
        "MATERIALS\n",
        "SHELL BASE GLIDER\n",
        "- Cast Aluminum with modified nylon PA6/PA66 coating.\n",
        "- Shell thickness: 10 mm.\n",
        "SEAT\n",
        "- HD36 foam\n",
        "\n",
        "COUNTRY OF ORIGIN\n",
        "- Italy\n",
        "\"\"\""
      ],
      "metadata": {
        "id": "mH8U6zZPpY4V"
      },
      "execution_count": 27,
      "outputs": []
    },
    {
      "cell_type": "code",
      "source": [
        "prompt = f\"\"\"\n",
        "Your task is to help a marketing team create a\n",
        "description for a retail website of a product based\n",
        "on a technical fact sheet.\n",
        "\n",
        "Write a product description based on the information\n",
        "provided in the technical specifications delimited by\n",
        "triple backticks.\n",
        "\n",
        "Technical specifications: ```{fact_sheet_chair}```\n",
        "\"\"\"\n",
        "response = get_completion(prompt)\n",
        "print(response)"
      ],
      "metadata": {
        "colab": {
          "base_uri": "https://localhost:8080/"
        },
        "id": "Vor0PLMLro6z",
        "outputId": "78b9fd85-aa78-464b-e433-bd58150cec1c"
      },
      "execution_count": 28,
      "outputs": [
        {
          "output_type": "stream",
          "name": "stdout",
          "text": [
            "Introducing our sleek and stylish mid-century inspired office chair, perfect for both home and business settings. This chair is part of a beautiful family of office furniture that includes filing cabinets, desks, bookcases, meeting tables, and more.\n",
            "\n",
            "Customize your chair with several options of shell color and base finishes to match your decor. Choose between plastic back and front upholstery or full upholstery in a variety of fabric and leather options. The base finish options include stainless steel, matte black, gloss white, or chrome. You can also choose to have armrests or go for a more minimalist look without them.\n",
            "\n",
            "Constructed with a 5-wheel plastic coated aluminum base, this chair features a pneumatic adjust for easy raise/lower action. The dimensions of the chair are as follows: width 53 cm, depth 51 cm, height 80 cm, seat height 44 cm, and seat depth 41 cm.\n",
            "\n",
            "Customize your chair further with options such as soft or hard-floor caster options, two choices of seat foam densities (medium or high), and the choice between armless or 8 position PU armrests.\n",
            "\n",
            "Made with high-quality materials, the shell base glider is constructed with cast aluminum with modified nylon PA6/PA66 coating, while the seat features HD36 foam. This chair is designed and manufactured in Italy, ensuring both style and quality.\n",
            "\n",
            "Elevate your workspace with our versatile and comfortable mid-century inspired office chair, designed to enhance your productivity and style.\n"
          ]
        }
      ]
    },
    {
      "cell_type": "code",
      "source": [
        "## in the previous result... a lot of text\n",
        "prompt = f\"\"\"\n",
        "Your task is to help a marketing team create a\n",
        "description for a retail website of a product based\n",
        "on a technical fact sheet.\n",
        "\n",
        "Write a product description based on the information\n",
        "provided in the technical specifications delimited by\n",
        "triple backticks.\n",
        "\n",
        "Use at most 50 words.\n",
        "\n",
        "Technical specifications: ```{fact_sheet_chair}```\n",
        "\"\"\"\n",
        "response = get_completion(prompt)\n",
        "print(response)"
      ],
      "metadata": {
        "colab": {
          "base_uri": "https://localhost:8080/"
        },
        "id": "oVXj-8hursjM",
        "outputId": "5e6ee923-724e-4122-c5fe-24823a182288"
      },
      "execution_count": 29,
      "outputs": [
        {
          "output_type": "stream",
          "name": "stdout",
          "text": [
            "Introducing our versatile and stylish mid-century office chair, available in a range of colors and finishes. With adjustable height and comfortable upholstery options, this chair is perfect for both home and business use. Made in Italy with quality materials, it's a perfect blend of form and function.\n"
          ]
        }
      ]
    },
    {
      "cell_type": "code",
      "source": [
        "prompt = f\"\"\"\n",
        "Your task is to help a marketing team create a\n",
        "description for a retail website of a product based\n",
        "on a technical fact sheet.\n",
        "\n",
        "Write a product description based on the information\n",
        "provided in the technical specifications delimited by\n",
        "triple backticks.\n",
        "\n",
        "The description is intended for furniture retailers,\n",
        "so should be technical in nature and focus on the\n",
        "materials the product is constructed from.\n",
        "\n",
        "Use at most 50 words.\n",
        "\n",
        "Technical specifications: ```{fact_sheet_chair}```\n",
        "\"\"\"\n",
        "response = get_completion(prompt)\n",
        "print(response)"
      ],
      "metadata": {
        "colab": {
          "base_uri": "https://localhost:8080/"
        },
        "id": "asFWVBcXrzV7",
        "outputId": "c07bfc46-6022-416d-ccc6-23c1b59d9f2e"
      },
      "execution_count": 30,
      "outputs": [
        {
          "output_type": "stream",
          "name": "stdout",
          "text": [
            "Introducing our versatile and stylish office chair, part of a mid-century inspired furniture collection. Constructed with a durable aluminum base and high-density foam seat for comfort. Choose from a variety of upholstery options and base finishes to suit any home or business setting. Made in Italy.\n"
          ]
        }
      ]
    },
    {
      "cell_type": "code",
      "source": [
        "prompt = f\"\"\"\n",
        "Your task is to help a marketing team create a\n",
        "description for a retail website of a product based\n",
        "on a technical fact sheet.\n",
        "\n",
        "Write a product description based on the information\n",
        "provided in the technical specifications delimited by\n",
        "triple backticks.\n",
        "\n",
        "The description is intended for furniture retailers,\n",
        "so should be technical in nature and focus on the\n",
        "materials the product is constructed from.\n",
        "\n",
        "At the end of the description, include every 7-character\n",
        "Product ID in the technical specification.\n",
        "\n",
        "Use at most 50 words.\n",
        "\n",
        "Technical specifications: ```{fact_sheet_chair}```\n",
        "\"\"\"\n",
        "response = get_completion(prompt)\n",
        "print(response)"
      ],
      "metadata": {
        "colab": {
          "base_uri": "https://localhost:8080/"
        },
        "id": "yRNS3sy5r8B8",
        "outputId": "34b5fbd4-d898-4ea3-ece0-4b39fb993619"
      },
      "execution_count": 31,
      "outputs": [
        {
          "output_type": "stream",
          "name": "stdout",
          "text": [
            "Introducing our versatile and stylish office chair, part of a mid-century inspired furniture collection. Choose from a variety of shell colors and base finishes to suit your space. Constructed with a durable aluminum base and high-density foam seat for comfort. Perfect for home or office use. \n",
            "\n",
            "Product IDs: SWC-100, SWC-110\n"
          ]
        }
      ]
    },
    {
      "cell_type": "code",
      "source": [
        "prompt = f\"\"\"\n",
        "Your task is to help a marketing team create a\n",
        "description for a retail website of a product based\n",
        "on a technical fact sheet.\n",
        "\n",
        "Write a product description based on the information\n",
        "provided in the technical specifications delimited by\n",
        "triple backticks.\n",
        "\n",
        "The description is intended for furniture retailers,\n",
        "so should be technical in nature and focus on the\n",
        "materials the product is constructed from.\n",
        "\n",
        "At the end of the description, include every 7-character\n",
        "Product ID in the technical specification.\n",
        "\n",
        "After the description, include a table that gives the\n",
        "product's dimensions. The table should have two columns.\n",
        "In the first column include the name of the dimension.\n",
        "In the second column include the measurements in inches only.\n",
        "\n",
        "Give the table the title 'Product Dimensions'.\n",
        "\n",
        "Format everything as HTML that can be used in a website.\n",
        "Place the description in a <div> element.\n",
        "\n",
        "Technical specifications: ```{fact_sheet_chair}```\n",
        "\"\"\"\n",
        "\n",
        "response = get_completion(prompt)\n",
        "print(response)"
      ],
      "metadata": {
        "colab": {
          "base_uri": "https://localhost:8080/"
        },
        "id": "qTI6XXlssA4L",
        "outputId": "923b4146-4963-461a-ce83-4c36d4946af3"
      },
      "execution_count": 32,
      "outputs": [
        {
          "output_type": "stream",
          "name": "stdout",
          "text": [
            "```html\n",
            "<div>\n",
            "  <p>This mid-century inspired office chair is a stylish and versatile addition to any workspace. With a variety of shell colors and base finishes to choose from, you can customize this chair to fit your aesthetic perfectly. The chair is available with plastic back and front upholstery or full upholstery in a range of fabric and leather options. The 5-wheel plastic coated aluminum base provides stability and mobility, while the pneumatic chair adjust allows for easy height adjustments. Whether you need a chair for your home office or a business setting, this chair is a comfortable and durable choice. Made in Italy with high-quality materials, this chair is designed for both style and functionality.</p>\n",
            "  \n",
            "  <p>Product IDs: SWC-100, SWC-110</p>\n",
            "  \n",
            "  <h2>Product Dimensions</h2>\n",
            "  <table>\n",
            "    <tr>\n",
            "      <td>WIDTH</td>\n",
            "      <td>20.87\"</td>\n",
            "    </tr>\n",
            "    <tr>\n",
            "      <td>DEPTH</td>\n",
            "      <td>20.08\"</td>\n",
            "    </tr>\n",
            "    <tr>\n",
            "      <td>HEIGHT</td>\n",
            "      <td>31.50\"</td>\n",
            "    </tr>\n",
            "    <tr>\n",
            "      <td>SEAT HEIGHT</td>\n",
            "      <td>17.32\"</td>\n",
            "    </tr>\n",
            "    <tr>\n",
            "      <td>SEAT DEPTH</td>\n",
            "      <td>16.14\"</td>\n",
            "    </tr>\n",
            "  </table>\n",
            "</div>\n",
            "```\n"
          ]
        }
      ]
    },
    {
      "cell_type": "code",
      "source": [
        "from IPython.display import display, HTML\n",
        "display(HTML(response))"
      ],
      "metadata": {
        "colab": {
          "base_uri": "https://localhost:8080/",
          "height": 307
        },
        "id": "uUojvDPVsGcJ",
        "outputId": "984d6276-0018-42dc-996b-e34c2d0d9e48"
      },
      "execution_count": 33,
      "outputs": [
        {
          "output_type": "display_data",
          "data": {
            "text/plain": [
              "<IPython.core.display.HTML object>"
            ],
            "text/html": [
              "```html\n",
              "<div>\n",
              "  <p>This mid-century inspired office chair is a stylish and versatile addition to any workspace. With a variety of shell colors and base finishes to choose from, you can customize this chair to fit your aesthetic perfectly. The chair is available with plastic back and front upholstery or full upholstery in a range of fabric and leather options. The 5-wheel plastic coated aluminum base provides stability and mobility, while the pneumatic chair adjust allows for easy height adjustments. Whether you need a chair for your home office or a business setting, this chair is a comfortable and durable choice. Made in Italy with high-quality materials, this chair is designed for both style and functionality.</p>\n",
              "  \n",
              "  <p>Product IDs: SWC-100, SWC-110</p>\n",
              "  \n",
              "  <h2>Product Dimensions</h2>\n",
              "  <table>\n",
              "    <tr>\n",
              "      <td>WIDTH</td>\n",
              "      <td>20.87\"</td>\n",
              "    </tr>\n",
              "    <tr>\n",
              "      <td>DEPTH</td>\n",
              "      <td>20.08\"</td>\n",
              "    </tr>\n",
              "    <tr>\n",
              "      <td>HEIGHT</td>\n",
              "      <td>31.50\"</td>\n",
              "    </tr>\n",
              "    <tr>\n",
              "      <td>SEAT HEIGHT</td>\n",
              "      <td>17.32\"</td>\n",
              "    </tr>\n",
              "    <tr>\n",
              "      <td>SEAT DEPTH</td>\n",
              "      <td>16.14\"</td>\n",
              "    </tr>\n",
              "  </table>\n",
              "</div>\n",
              "```"
            ]
          },
          "metadata": {}
        }
      ]
    },
    {
      "cell_type": "code",
      "source": [],
      "metadata": {
        "id": "R22KotIisPGb"
      },
      "execution_count": null,
      "outputs": []
    }
  ]
}