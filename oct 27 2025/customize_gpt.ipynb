{
  "cells": [
    {
      "cell_type": "markdown",
      "metadata": {
        "id": "view-in-github",
        "colab_type": "text"
      },
      "source": [
        "<a href=\"https://colab.research.google.com/github/ijazahmad-star/Colab-Workspace/blob/main/oct%2027%202025/customize_gpt.ipynb\" target=\"_parent\"><img src=\"https://colab.research.google.com/assets/colab-badge.svg\" alt=\"Open In Colab\"/></a>"
      ]
    },
    {
      "cell_type": "code",
      "execution_count": null,
      "id": "8e6ce928",
      "metadata": {
        "id": "8e6ce928"
      },
      "outputs": [],
      "source": [
        "from langchain_community.document_loaders import PyPDFLoader, WebBaseLoader\n",
        "from langchain_text_splitters import RecursiveCharacterTextSplitter\n",
        "from langchain_openai import OpenAIEmbeddings, ChatOpenAI\n",
        "from langchain_community.vectorstores import FAISS\n",
        "from langchain.tools import tool\n",
        "from langgraph.graph import StateGraph, MessagesState\n",
        "from langgraph.prebuilt import ToolNode\n",
        "import os\n",
        "from pathlib import Path\n",
        "import bs4"
      ]
    },
    {
      "cell_type": "code",
      "execution_count": null,
      "id": "f26c7569",
      "metadata": {
        "id": "f26c7569"
      },
      "outputs": [],
      "source": [
        "from langchain_core.messages import SystemMessage"
      ]
    },
    {
      "cell_type": "code",
      "execution_count": null,
      "id": "f9b1a974",
      "metadata": {
        "id": "f9b1a974",
        "outputId": "cfd2dac2-3606-442d-aa8a-215ccfdf1d43"
      },
      "outputs": [
        {
          "data": {
            "text/plain": [
              "True"
            ]
          },
          "execution_count": 55,
          "metadata": {},
          "output_type": "execute_result"
        }
      ],
      "source": [
        "from dotenv import load_dotenv\n",
        "\n",
        "load_dotenv()"
      ]
    },
    {
      "cell_type": "code",
      "execution_count": null,
      "id": "9c9ed062",
      "metadata": {
        "id": "9c9ed062"
      },
      "outputs": [],
      "source": [
        "# 1. Load PDFs from directory\n",
        "def load_pdfs_from_directory(directory_path):\n",
        "    docs = []\n",
        "    for pdf_file in Path(directory_path).glob(\"*.pdf\"):\n",
        "        loader = PyPDFLoader(str(pdf_file))\n",
        "        docs.extend(loader.load())\n",
        "    return docs\n",
        "\n",
        "# 2. Load data from websites\n",
        "def load_from_websites(urls):\n",
        "    docs = []\n",
        "    for url in urls:\n",
        "        loader = WebBaseLoader(url)\n",
        "        docs.extend(loader.load())\n",
        "    return docs"
      ]
    },
    {
      "cell_type": "code",
      "execution_count": null,
      "id": "d42c28bb",
      "metadata": {
        "id": "d42c28bb"
      },
      "outputs": [],
      "source": [
        "# 3. Combine and split documents\n",
        "pdf_docs = load_pdfs_from_directory(\"/data\")\n",
        "web_urls = [\"https://strategisthub.com/services/\", \"https://strategisthub.com/about/\", \"https://strategisthub.com/case-studies/\", \"https://strategisthub.com/blogs/\"]\n",
        "web_docs = load_from_websites(web_urls)\n",
        "\n",
        "all_docs = pdf_docs + web_docs\n",
        "\n",
        "text_splitter = RecursiveCharacterTextSplitter(\n",
        "    chunk_size=500, chunk_overlap=50\n",
        ")\n",
        "doc_splits = text_splitter.split_documents(all_docs)"
      ]
    },
    {
      "cell_type": "code",
      "execution_count": null,
      "id": "18569fe4",
      "metadata": {
        "id": "18569fe4"
      },
      "outputs": [],
      "source": [
        "# pdf_docs"
      ]
    },
    {
      "cell_type": "code",
      "execution_count": null,
      "id": "3f54d082",
      "metadata": {
        "id": "3f54d082"
      },
      "outputs": [],
      "source": [
        "# doc_splits"
      ]
    },
    {
      "cell_type": "code",
      "execution_count": null,
      "id": "f24ca668",
      "metadata": {
        "id": "f24ca668"
      },
      "outputs": [],
      "source": [
        "# 4. Create vector store\n",
        "embeddings = OpenAIEmbeddings()\n",
        "vector_store = FAISS.from_documents(doc_splits, embeddings)\n",
        "retriever = vector_store.as_retriever(search_kwargs={\"k\": 2})"
      ]
    },
    {
      "cell_type": "code",
      "execution_count": null,
      "id": "637acfb7",
      "metadata": {
        "id": "637acfb7"
      },
      "outputs": [],
      "source": [
        "# 5. Create retriever tool\n",
        "@tool(response_format=\"content_and_artifact\")\n",
        "def retrieve_documents(query: str):\n",
        "    \"\"\"Retrieve relevant documents.\"\"\"\n",
        "    docs = retriever.invoke(query)\n",
        "    serialized = \"\\\\n\\\\n\".join(\n",
        "        f\"Source: {doc.metadata}\\\\nContent: {doc.page_content}\"\n",
        "        for doc in docs\n",
        "    )\n",
        "    return serialized, docs\n",
        "\n",
        "tools = [retrieve_documents]\n",
        "tool_node = ToolNode(tools)"
      ]
    },
    {
      "cell_type": "code",
      "execution_count": null,
      "id": "9da0efa1",
      "metadata": {
        "id": "9da0efa1"
      },
      "outputs": [],
      "source": [
        "# 6. Enhanced system prompt for email responses\n",
        "EMAIL_SYSTEM_PROMPT = \"\"\"\n",
        "You are a professional email assistant for our company's sales team. Your role is to respond to customer inquiries using ONLY information from our knowledge base.\n",
        "\n",
        "CRITICAL RULES:\n",
        "1. You MUST respond in proper business email format with subject line, salutation, body, and signature\n",
        "2. If the customer's question can be answered using the provided context, write a helpful, professional email response\n",
        "3. If the information is NOT in the knowledge base (context shows \"NO_RELEVANT_INFORMATION_FOUND\"), respond with a polite email explaining this\n",
        "4. Never invent information or use external knowledge\n",
        "5. Maintain a professional, helpful tone in all communications\n",
        "6. Format your response as a ready-to-send email\n",
        "7. Always start the subject with \"Re: \" followed by the original subject or an appropriate title\n",
        "\n",
        "EMAIL FORMAT:\n",
        "Subject: Re: [Original Subject or Appropriate Title]\n",
        "\n",
        "Dear [Customer Name],\n",
        "\n",
        "[Professional email body acknowledging their query and providing information or explaining limitations]\n",
        "\n",
        "[Clear next steps or contact information if needed]\n",
        "\n",
        "Best regards,\n",
        "[Sale Team]\n",
        "[Strategisthub]\n",
        "\"\"\""
      ]
    },
    {
      "cell_type": "code",
      "execution_count": null,
      "id": "f379ecfa",
      "metadata": {
        "id": "f379ecfa"
      },
      "outputs": [],
      "source": [
        "from langgraph.checkpoint.memory import MemorySaver\n",
        "from langgraph.store.memory import InMemoryStore"
      ]
    },
    {
      "cell_type": "code",
      "execution_count": null,
      "id": "e4c64504",
      "metadata": {
        "id": "e4c64504"
      },
      "outputs": [],
      "source": [
        "# 6. Build LangGraph nodes\n",
        "model = ChatOpenAI(model=\"gpt-4o-mini\", temperature=0).bind_tools(tools)\n",
        "\n",
        "def call_model(state: MessagesState):\n",
        "    response = model.invoke(\n",
        "        [\n",
        "            SystemMessage(\n",
        "                        content=EMAIL_SYSTEM_PROMPT\n",
        "                    )\n",
        "        ]\n",
        "        + state[\"messages\"]\n",
        "        )\n",
        "    return {\"messages\": [response]}\n",
        "\n",
        "def should_continue(state: MessagesState):\n",
        "    last_message = state[\"messages\"][-1]\n",
        "    if last_message.tool_calls:\n",
        "        return \"tools\"\n",
        "    return \"__end__\"\n",
        "\n",
        "# 7. Build graph\n",
        "workflow = StateGraph(MessagesState)\n",
        "workflow.add_node(\"agent\", call_model)\n",
        "workflow.add_node(\"tools\", tool_node)\n",
        "workflow.add_edge(\"__start__\", \"agent\")\n",
        "workflow.add_conditional_edges(\"agent\", should_continue)\n",
        "workflow.add_edge(\"tools\", \"agent\")\n",
        "\n",
        "# app = workflow.compile()\n",
        "memory = MemorySaver()\n",
        "app = workflow.compile(checkpointer=memory)"
      ]
    },
    {
      "cell_type": "code",
      "execution_count": null,
      "id": "54bed85f",
      "metadata": {
        "id": "54bed85f"
      },
      "outputs": [],
      "source": [
        "user_input = f\"\"\"\n",
        "from: john@exmaple.com\n",
        "\n",
        "subject: need info about the Modernizing Global\n",
        "\n",
        "Hi Sale Tean, i am john, i will be thankful if you can share some insights on the following topic:\n",
        "\n",
        "'Modernizing Global Real Estate Experiences'\n",
        "\n",
        "i will be waiting for your response\n",
        "\n",
        "regards\n",
        "john\n",
        "\"\"\""
      ]
    },
    {
      "cell_type": "code",
      "execution_count": null,
      "id": "dca6201f",
      "metadata": {
        "id": "dca6201f",
        "outputId": "2b93f6a8-51b9-4edc-9461-a1956c90baab"
      },
      "outputs": [
        {
          "name": "stdout",
          "output_type": "stream",
          "text": [
            "Subject: Re: need info about the Modernizing Global\n",
            "\n",
            "Dear John,\n",
            "\n",
            "Thank you for reaching out with your inquiry about \"Modernizing Global Real Estate Experiences.\" \n",
            "\n",
            "Keller Williams stands out as a leader in the global real estate market, leveraging advanced technology to enhance real estate experiences. Their innovative product, Command, effectively manages financial transactions on an international scale, overseeing a transaction volume of $4.5 billion across 35 countries. \n",
            "\n",
            "Key features of their approach include:\n",
            "- Development of the Front Door app, which focuses on front-end user experience.\n",
            "- Comprehensive reporting dashboards, invoicing, and payment modules.\n",
            "- Multilingual functionality that supports multiple currencies, making it accessible for a diverse clientele.\n",
            "\n",
            "If you have any further questions or need additional insights, please feel free to ask.\n",
            "\n",
            "Best regards,  \n",
            "Sales Team  \n",
            "Strategisthub\n"
          ]
        }
      ],
      "source": [
        "# memory = MemorySaver()\n",
        "# app = workflow.compile(checkpointer=memory)\n",
        "\n",
        "# Use with thread\n",
        "config = {\"configurable\": {\"thread_id\": \"1\"}}\n",
        "response = app.invoke(\n",
        "    {\"messages\": [{\"role\": \"user\", \"content\": user_input}]},\n",
        "    config\n",
        ")\n",
        "print(response[\"messages\"][-1].content)"
      ]
    },
    {
      "cell_type": "code",
      "execution_count": null,
      "id": "41c91963",
      "metadata": {
        "id": "41c91963",
        "outputId": "4861b40c-0bc9-40e1-bbd9-9a158a8c1c38"
      },
      "outputs": [
        {
          "name": "stdout",
          "output_type": "stream",
          "text": [
            "John is seeking insights on the topic of \"Modernizing Global Real Estate Experiences.\" He is looking for information related to advancements and technologies in the global real estate sector.\n"
          ]
        }
      ],
      "source": [
        "config = {\"configurable\": {\"thread_id\": \"1\"}}\n",
        "response = app.invoke(\n",
        "    {\"messages\": [{\"role\": \"user\", \"content\": \"provide 2 line summary of user previous query\"}]},\n",
        "    config\n",
        ")\n",
        "print(response[\"messages\"][-1].content)"
      ]
    },
    {
      "cell_type": "code",
      "execution_count": null,
      "id": "4f0e7006",
      "metadata": {
        "id": "4f0e7006",
        "outputId": "2f267f8c-9906-4e4b-eb07-dbb366cdc3fe"
      },
      "outputs": [
        {
          "name": "stdout",
          "output_type": "stream",
          "text": [
            "The name of the email sender is John.\n"
          ]
        }
      ],
      "source": [
        "config = {\"configurable\": {\"thread_id\": \"1\"}}\n",
        "response = app.invoke(\n",
        "    {\"messages\": [{\"role\": \"user\", \"content\": \"what is the name of the email sender\"}]},\n",
        "    config\n",
        ")\n",
        "print(response[\"messages\"][-1].content)"
      ]
    },
    {
      "cell_type": "code",
      "execution_count": null,
      "id": "383eaf7c",
      "metadata": {
        "id": "383eaf7c"
      },
      "outputs": [],
      "source": []
    }
  ],
  "metadata": {
    "kernelspec": {
      "display_name": "CustomizeGPT",
      "language": "python",
      "name": "python3"
    },
    "language_info": {
      "codemirror_mode": {
        "name": "ipython",
        "version": 3
      },
      "file_extension": ".py",
      "mimetype": "text/x-python",
      "name": "python",
      "nbconvert_exporter": "python",
      "pygments_lexer": "ipython3",
      "version": "3.13.7"
    },
    "colab": {
      "provenance": [],
      "include_colab_link": true
    }
  },
  "nbformat": 4,
  "nbformat_minor": 5
}